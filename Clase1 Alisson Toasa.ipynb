{
 "cells": [
  {
   "cell_type": "markdown",
   "id": "0383ae8c",
   "metadata": {},
   "source": [
    "# Alisson Toasa"
   ]
  },
  {
   "cell_type": "markdown",
   "id": "8c36030f",
   "metadata": {},
   "source": [
    "## Preguntas"
   ]
  },
  {
   "cell_type": "markdown",
   "id": "79645ed3",
   "metadata": {},
   "source": [
    "## 1 Suponga que tiene una lista [1, 2, 3, 2, 1] y desea crear una nueva lista sin números dobles, después de resolver este problema, intente reescribirla como una sola línea\n",
    "### Un one liner en programación es un programa existente de una sola línea. Si no logras escribir una sola línea, no te preocupes. el codigo one liner es a menudo difícile de leer y, como hemos aprendido esta semana: los lenguajes de programación están destinados a ser legibles para las personas. Así que no te preocupes si estás usando demasiado código para resolver un problema, debes preguntarte: ¿yo o alguien más entenderá esto dentro de 3 años?"
   ]
  },
  {
   "cell_type": "code",
   "execution_count": 2,
   "id": "e4d58f97",
   "metadata": {},
   "outputs": [
    {
     "name": "stdout",
     "output_type": "stream",
     "text": [
      "[1, 2, 3, 2, 1]\n"
     ]
    }
   ],
   "source": [
    "lista=[1, 2, 3, 2, 1]\n",
    "print(lista)"
   ]
  },
  {
   "cell_type": "code",
   "execution_count": 3,
   "id": "421911e0",
   "metadata": {},
   "outputs": [
    {
     "name": "stdout",
     "output_type": "stream",
     "text": [
      "{1, 2, 3}\n"
     ]
    }
   ],
   "source": [
    "print(set([1, 2, 3, 2, 1]))"
   ]
  },
  {
   "cell_type": "markdown",
   "id": "580e2f43",
   "metadata": {},
   "source": [
    "## 2 Slicing puede tener 3 parámetros, inicio, final y paso. Sin embargo, a menudo escribirá o leerá operaciones de corte con menos de 3 parámetros. En esta pregunta, debe volver a escribir todos los ejemplos en operaciones de corte con 3 parámetros. Después de haberlas reescrito, verifique si sus respuestas dan los mismos resultados"
   ]
  },
  {
   "cell_type": "code",
   "execution_count": 4,
   "id": "e9c9baa9",
   "metadata": {},
   "outputs": [
    {
     "name": "stdout",
     "output_type": "stream",
     "text": [
      "bc\n",
      "c\n",
      "abc\n",
      "de\n",
      "abcde\n",
      "de\n",
      "abc\n",
      "abcde\n",
      "edcba\n",
      "abc\n",
      "e\n",
      "bcde\n",
      "edc\n"
     ]
    }
   ],
   "source": [
    "string_1 = 'abcde'\n",
    "print(string_1[1:3])\n",
    "print(string_1[-3:-2])\n",
    "\n",
    "print(string_1[:3])\n",
    "print(string_1[3:])\n",
    "print(string_1[:])\n",
    "\n",
    "print(string_1[-2:])\n",
    "print(string_1[:-2])\n",
    "\n",
    "print(string_1[::])\n",
    "print(string_1[::-1])\n",
    "\n",
    "print(string_1[:3:1])\n",
    "print(string_1[:3:-1])\n",
    "\n",
    "print(string_1[1::])\n",
    "print(string_1[:1:-1])"
   ]
  },
  {
   "cell_type": "code",
   "execution_count": 5,
   "id": "0ebcfbfb",
   "metadata": {},
   "outputs": [
    {
     "name": "stdout",
     "output_type": "stream",
     "text": [
      "bc\n",
      "c\n",
      "abc\n",
      "de\n",
      "abcde\n",
      "de\n",
      "abc\n",
      "abcde\n",
      "edcba\n",
      "abc\n",
      "e\n",
      "bcde\n",
      "edc\n"
     ]
    }
   ],
   "source": [
    "string_1 = 'abcde'\n",
    "print(string_1[-4:-2:1])\n",
    "print(string_1[2:3:1])\n",
    "\n",
    "print(string_1[-5:-2:1])\n",
    "print(string_1[3:5:1])\n",
    "print(string_1[-5::1])\n",
    "\n",
    "print(string_1[3:5:1])\n",
    "print(string_1[-5:-2:1])\n",
    "\n",
    "print(string_1[:5:1])\n",
    "print(string_1[-1::-1])\n",
    "\n",
    "print(string_1[:3:1])\n",
    "print(string_1[5:3:-1])\n",
    "\n",
    "print(string_1[1:5:1])\n",
    "print(string_1[:-4:-1])"
   ]
  },
  {
   "cell_type": "markdown",
   "id": "728266b5",
   "metadata": {},
   "source": [
    "## 3 Hemos construido un diccionario que se puede usar para encontrar el resultado si dos booleanos están conectados con el operador y\n",
    "## Reescribe este diccionario para encontrar el resultado si dos booleanos están conectados con el operador o\n",
    "## Python no tiene un operador XOR, busque en Internet lo que se supone que debe hacer el operador XOR y cree un diccionario que proporcione el resultado de una operación XOR"
   ]
  },
  {
   "cell_type": "code",
   "execution_count": 6,
   "id": "d930b35b",
   "metadata": {},
   "outputs": [
    {
     "name": "stdout",
     "output_type": "stream",
     "text": [
      "False\n"
     ]
    }
   ],
   "source": [
    "age = 40\n",
    "blood_type = 'A'\n",
    "my_and = {(True, True): True, (True, False): False, (False, True): False, (False, False): False }\n",
    "print(my_and[age < 70, blood_type == 'B'])"
   ]
  },
  {
   "cell_type": "code",
   "execution_count": 11,
   "id": "0ad07520",
   "metadata": {},
   "outputs": [
    {
     "name": "stdout",
     "output_type": "stream",
     "text": [
      "True\n"
     ]
    }
   ],
   "source": [
    "age = 40\n",
    "blood_type = 'A'\n",
    "my_or = {(True, True): True, (True, False): True, (False, True): True, (False, False): False }\n",
    "print(my_or[age < 70, blood_type == 'B'])"
   ]
  },
  {
   "cell_type": "code",
   "execution_count": 17,
   "id": "b6995cc5",
   "metadata": {},
   "outputs": [
    {
     "name": "stdout",
     "output_type": "stream",
     "text": [
      "True\n"
     ]
    }
   ],
   "source": [
    "age = 40\n",
    "blood_type = 'A'\n",
    "my_or = {(True, True): False, (True, False): True, (False, True): True, (False, False): False }\n",
    "print(my_or[age < 70, blood_type == 'B'])"
   ]
  },
  {
   "cell_type": "markdown",
   "id": "77562e6f",
   "metadata": {},
   "source": [
    "## 4 En 'Las listas pueden contener listas y así formar tablas de múltiples dimensiones' se les mostro una secuencia ganadora en tres en raya. Como es muy importante para el análisis de datos y la visualización de datos que se sienta cómodo trabajando con tablas poli-dimensionales, le pedimos que reescriba la secuencia con un segundo jugador más inteligente (o un jugador que aprendió el juego de memoria) donde el juego termina en un empate."
   ]
  },
  {
   "cell_type": "code",
   "execution_count": 7,
   "id": "f0b36a7e",
   "metadata": {},
   "outputs": [
    {
     "name": "stdout",
     "output_type": "stream",
     "text": [
      "[' ', ' ', ' ']\n",
      "[' ', ' ', ' ']\n",
      "[' ', ' ', ' ']\n",
      "\n",
      "[' ', ' ', ' ']\n",
      "[' ', 'X', ' ']\n",
      "[' ', ' ', ' ']\n",
      "\n",
      "[' ', ' ', ' ']\n",
      "[' ', 'X', 'O']\n",
      "[' ', ' ', ' ']\n",
      "\n",
      "[' ', ' ', 'X']\n",
      "[' ', 'X', 'O']\n",
      "[' ', ' ', ' ']\n",
      "\n",
      "[' ', ' ', 'X']\n",
      "[' ', 'X', 'O']\n",
      "['O', ' ', ' ']\n",
      "\n",
      "['X', ' ', 'X']\n",
      "[' ', 'X', 'O']\n",
      "['O', ' ', ' ']\n",
      "\n"
     ]
    }
   ],
   "source": [
    "tic_tac_toe_board = [[' ', ' ', ' '], [' ', ' ', ' '], [' ', ' ', ' ']]\n",
    "print(tic_tac_toe_board[0]) \n",
    "print(tic_tac_toe_board[1]) \n",
    "print(tic_tac_toe_board[2])\n",
    "print() \n",
    "tic_tac_toe_board[1][1] = 'X'\n",
    "print(tic_tac_toe_board[0]) \n",
    "print(tic_tac_toe_board[1]) \n",
    "print(tic_tac_toe_board[2])\n",
    "print() \n",
    "tic_tac_toe_board[1][2] = 'O'\n",
    "print(tic_tac_toe_board[0]) \n",
    "print(tic_tac_toe_board[1]) \n",
    "print(tic_tac_toe_board[2])\n",
    "print()\n",
    "tic_tac_toe_board[0][2] = 'X'\n",
    "print(tic_tac_toe_board[0]) \n",
    "print(tic_tac_toe_board[1]) \n",
    "print(tic_tac_toe_board[2])\n",
    "print()\n",
    "tic_tac_toe_board[2][0] = 'O'\n",
    "print(tic_tac_toe_board[0]) \n",
    "print(tic_tac_toe_board[1]) \n",
    "print(tic_tac_toe_board[2])\n",
    "print()\n",
    "tic_tac_toe_board[0][0] = 'X'\n",
    "print(tic_tac_toe_board[0]) \n",
    "print(tic_tac_toe_board[1]) \n",
    "print(tic_tac_toe_board[2])\n",
    "print()# And the next move X wins independent what player O plays"
   ]
  },
  {
   "cell_type": "code",
   "execution_count": 8,
   "id": "2c076fb4",
   "metadata": {},
   "outputs": [
    {
     "name": "stdout",
     "output_type": "stream",
     "text": [
      "[' ', ' ', ' ']\n",
      "[' ', ' ', ' ']\n",
      "[' ', ' ', ' ']\n",
      "\n",
      "[' ', ' ', ' ']\n",
      "[' ', 'X', ' ']\n",
      "[' ', ' ', ' ']\n",
      "\n",
      "[' ', 'O', ' ']\n",
      "[' ', 'X', ' ']\n",
      "[' ', ' ', ' ']\n",
      "\n",
      "['X', 'O', ' ']\n",
      "[' ', 'X', ' ']\n",
      "[' ', ' ', ' ']\n",
      "\n",
      "['X', 'O', ' ']\n",
      "['O', 'X', ' ']\n",
      "[' ', ' ', ' ']\n",
      "\n",
      "['X', 'O', 'X']\n",
      "['O', 'X', ' ']\n",
      "[' ', ' ', ' ']\n",
      "\n",
      "['X', 'O', 'X']\n",
      "['O', 'X', 'O']\n",
      "[' ', ' ', ' ']\n",
      "\n",
      "['X', 'O', 'X']\n",
      "['O', 'X', 'O']\n",
      "[' ', 'X', ' ']\n",
      "\n",
      "['X', 'O', 'X']\n",
      "['O', 'X', 'O']\n",
      "['O', 'X', ' ']\n",
      "\n"
     ]
    }
   ],
   "source": [
    "tic_tac_toe_board = [[' ', ' ', ' '], [' ', ' ', ' '], [' ', ' ', ' ']]\n",
    "print(tic_tac_toe_board[0]) \n",
    "print(tic_tac_toe_board[1]) \n",
    "print(tic_tac_toe_board[2])\n",
    "print() \n",
    "tic_tac_toe_board[1][1] = 'X'\n",
    "print(tic_tac_toe_board[0]) \n",
    "print(tic_tac_toe_board[1]) \n",
    "print(tic_tac_toe_board[2])\n",
    "print() \n",
    "tic_tac_toe_board[0][1] = 'O'\n",
    "print(tic_tac_toe_board[0]) \n",
    "print(tic_tac_toe_board[1]) \n",
    "print(tic_tac_toe_board[2])\n",
    "print() \n",
    "tic_tac_toe_board[0][0]='X'\n",
    "print(tic_tac_toe_board[0])\n",
    "print(tic_tac_toe_board[1]) \n",
    "print(tic_tac_toe_board[2])\n",
    "print() \n",
    "tic_tac_toe_board[1][0]='O'\n",
    "print(tic_tac_toe_board[0])\n",
    "print(tic_tac_toe_board[1]) \n",
    "print(tic_tac_toe_board[2])\n",
    "print() \n",
    "tic_tac_toe_board[0][2]='X'\n",
    "print(tic_tac_toe_board[0])\n",
    "print(tic_tac_toe_board[1]) \n",
    "print(tic_tac_toe_board[2])\n",
    "print() \n",
    "tic_tac_toe_board[1][2]='O'\n",
    "print(tic_tac_toe_board[0])\n",
    "print(tic_tac_toe_board[1]) \n",
    "print(tic_tac_toe_board[2])\n",
    "print() \n",
    "tic_tac_toe_board[2][1]='X'\n",
    "print(tic_tac_toe_board[0])\n",
    "print(tic_tac_toe_board[1]) \n",
    "print(tic_tac_toe_board[2])\n",
    "print() \n",
    "tic_tac_toe_board[2][0]='O'\n",
    "print(tic_tac_toe_board[0])\n",
    "print(tic_tac_toe_board[1]) \n",
    "print(tic_tac_toe_board[2])\n",
    "print() #en el siguiente movimiento ambos quedan empates"
   ]
  },
  {
   "cell_type": "markdown",
   "id": "0290d894",
   "metadata": {},
   "source": [
    "## 5 Ejecute el siguiente programa, vea si puede encontrar algo extraño y explique el resultado usando su conocimiento de recolección de basura"
   ]
  },
  {
   "cell_type": "code",
   "execution_count": 14,
   "id": "5ec144a1",
   "metadata": {},
   "outputs": [
    {
     "name": "stdout",
     "output_type": "stream",
     "text": [
      "The value of the list refered to by list_5 is [1, 2, 3] and its address is 1978022066624\n",
      "The value of the list refered to by list_5 is [1, 1, 3] and its address is 1978022891776\n",
      "The value of the list refered to by list_5 is [1, 1, 4] and its address is 1978022963328\n"
     ]
    }
   ],
   "source": [
    "list_5 = [1, 2, 3]\n",
    "print(f\"The value of the list refered to by list_5 is {list_5} and its address is {id(list_5)}\")\n",
    "list_5 = [1 , 1, 3]\n",
    "print(f\"The value of the list refered to by list_5 is {list_5} and its address is {id(list_5)}\")\n",
    "list_5 = [1, 1, 4]\n",
    "print(f\"The value of the list refered to by list_5 is {list_5} and its address is {id(list_5)}\")"
   ]
  },
  {
   "cell_type": "markdown",
   "id": "27c23e83",
   "metadata": {},
   "source": [
    "Python nota que ya no hay nombres adjuntos a un objeto, el objeto se destruye en un proceso llamado \"recolección de basura\"."
   ]
  },
  {
   "cell_type": "markdown",
   "id": "ee63350d",
   "metadata": {},
   "source": [
    "## 6 Las cadenas son inmutables, pero ¿por qué funciona lo siguiente? ¿Claramente cambiamos el valor de la cadena llamada string_1? ¿Qué afirmaciones agregaría para aclarar lo que ha sucedido? usar id "
   ]
  },
  {
   "cell_type": "code",
   "execution_count": 13,
   "id": "1c7dac74",
   "metadata": {},
   "outputs": [
    {
     "name": "stdout",
     "output_type": "stream",
     "text": [
      "text 1\n",
      "Su identificador es 1978022893040\n",
      "text 2\n",
      "Su identificador es 1978022894640\n"
     ]
    }
   ],
   "source": [
    "string_1 = \"text 1\"\n",
    "print(string_1) \n",
    "print(f\"Su identificador es {id(string_1)}\")\n",
    "string_1 = \"text 2\"\n",
    "print(string_1)\n",
    "print(f\"Su identificador es {id(string_1)}\")\n",
    "#esto funciona porque la primera variable se destruye y se crea una nueva con un nuevo id. "
   ]
  },
  {
   "cell_type": "code",
   "execution_count": null,
   "id": "3cac79d0",
   "metadata": {},
   "outputs": [],
   "source": []
  }
 ],
 "metadata": {
  "kernelspec": {
   "display_name": "Python 3 (ipykernel)",
   "language": "python",
   "name": "python3"
  },
  "language_info": {
   "codemirror_mode": {
    "name": "ipython",
    "version": 3
   },
   "file_extension": ".py",
   "mimetype": "text/x-python",
   "name": "python",
   "nbconvert_exporter": "python",
   "pygments_lexer": "ipython3",
   "version": "3.9.12"
  }
 },
 "nbformat": 4,
 "nbformat_minor": 5
}
