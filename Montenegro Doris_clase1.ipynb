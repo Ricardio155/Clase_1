{
  "cells": [
    {
      "cell_type": "markdown",
      "metadata": {
        "id": "az6IT1dZkQlW"
      },
      "source": [
        "# ESTE DOCUMENTO ES UN JUPYTER NOTEBOOK. UN JUPYTER NOTEBOOK ES COMO UN LIBRO DE TEXTO PERO PARA PROGRAMAR. EN ESTE JUPYTER NOTEBOOK PUEDES MODIFICAR CAMBIAR Y EJECUTAR CODIGO DE PYTHON . CADA CASILLA/CELDA"
      ]
    },
    {
      "cell_type": "markdown",
      "metadata": {
        "id": "K0MJD-mrkQla"
      },
      "source": [
        "# Mi informacion:\n",
        "* ## Victor Salazar\n",
        "* ## victor12lup@hotmail.com\n",
        "* ## BSC Economia, MsC Data Science"
      ]
    },
    {
      "cell_type": "markdown",
      "metadata": {
        "id": "1IV8vvCNkQla"
      },
      "source": [
        "# EL famoso 'Hello Python'"
      ]
    },
    {
      "cell_type": "markdown",
      "metadata": {
        "id": "XV-gGZ7bkQlb"
      },
      "source": [
        "## En Python   "
      ]
    },
    {
      "cell_type": "code",
      "execution_count": null,
      "metadata": {
        "id": "Bt4X_KBQkQlb",
        "scrolled": true,
        "colab": {
          "base_uri": "https://localhost:8080/"
        },
        "outputId": "b3b3d29d-6cbf-4e11-f858-1ebe5ff22ee5"
      },
      "outputs": [
        {
          "output_type": "stream",
          "name": "stdout",
          "text": [
            "Me llamo Doris\n"
          ]
        }
      ],
      "source": [
        "print('Me llamo Doris')\n",
        "# La funcion print \"imprime\" lo que este entre comillas\n",
        "# las lineas que empiezan con # son comentarios, estos no son parte del codigo \n",
        "# trata de usarlos siempre que puedas cuando compartas codigo o solo para desarrollar codigo, te sera muy util!"
      ]
    },
    {
      "cell_type": "markdown",
      "metadata": {
        "id": "6JSinqsMkQlc"
      },
      "source": [
        "# Historia de Python\n",
        "* ## Python lleva el nombre del programa de televisión de la BBC Monty Python's Flying Circus([https://www.youtube.com/watch?v=vZw35VUBdzo](https://www.youtube.com/watch?v=vZw35VUBdzo))\n",
        "* ## Iniciado por Guido van Rossum en Amsterdam en el : \"Instituto Nacional de Investigación en Matemáticas e Informática\"\n",
        "* ## Primera versión publicada en 1991"
      ]
    },
    {
      "cell_type": "markdown",
      "metadata": {
        "id": "3E1VQyA9kQld"
      },
      "source": [
        "# Lectura opcional\n",
        "* ##  [https://docs.python.org/3/reference/datamodel.html](https://docs.python.org/3/reference/datamodel.html) capitulo 3.1\n",
        "* ## From [https://docs.python.org/3/tutorial/index.html](https://docs.python.org/3/tutorial/index.html) capitulo 3.1 y capitulo 5 , secciones 5.1.1, 5.2, 5.4, y 5.5.\n",
        "* ## Ecomista Paul Romer sobre Jupyter [https://paulromer.net/jupyter-mathematica-and-the-future-of-the-research-paper/](https://paulromer.net/jupyter-mathematica-and-the-future-of-the-research-paper/) \n",
        " * ([https://www.python.org/dev/peps/pep-0008/](https://www.python.org/dev/peps/pep-0008/))\n",
        " * ([https://en.wikipedia.org/wiki/Python_syntax_and_semantics](https://en.wikipedia.org/wiki/Python_syntax_and_semantics))"
      ]
    },
    {
      "cell_type": "markdown",
      "metadata": {
        "id": "kps2Zf-xkQld"
      },
      "source": [
        "# Los lenguajes informáticos deben ser leídos por humanos\n",
        "* ## Las computadoras solo entienden ceros y unos\n",
        "* ## Por lo tanto, los lenguajes informáticos deben traducirse en esos ceros y unos a algo  que la computadora entiende\n"
      ]
    },
    {
      "cell_type": "markdown",
      "metadata": {
        "id": "j23j95JhkQle"
      },
      "source": [
        "# Dos tipos de traducción: Interpretación y compilación\n",
        "* ## Los programas escritos en idiomas interpretados se traducen y ejecutan línea por línea\n",
        " * ### Los programas escritos en lenguajes interpretados a menudo se denominan scripts\n",
        "* ## Los programas escritos en lenguajes compilados se traducen y ejecutan programa (o más) por programa\n",
        " * ### La traducción de programas completos a menudo se llama compilación\n",
        "* ## La interpretación es excelente para un ciclo de desarrollo rápido\n",
        "* ## La compilación es excelente para la eficiencia y la velocidad\n",
        "## Observaciones:\n",
        "* ## En general, podemos decir que la velocidad y la eficiencia son un cuello de botella menor a medida que las computadoras se vuelven cada vez más rápidas y Python usa muchas rutinas escritas en C, que es muy rápido.\n",
        "* ## Python no traduce el código directamente a código de máquina, sino a un código que es el mismo para todos los sistemas operativos como Windows, OS X, Linux, etc. Este código intermedio es ejecutado por una máquina virtual que traduce el código intermedio a código de máquina específico legible y ejecutable por los diferentes sistemas operativos como Windows, OS X, Linux, etc."
      ]
    },
    {
      "cell_type": "markdown",
      "metadata": {
        "id": "ceV3xzjOkQle"
      },
      "source": [
        "### Python es traducido y ejecutado linea por linea"
      ]
    },
    {
      "cell_type": "code",
      "execution_count": null,
      "metadata": {
        "id": "ScGO8p0BkQle",
        "outputId": "a5ccd756-698d-463b-c118-ec5796ac6852",
        "colab": {
          "base_uri": "https://localhost:8080/"
        }
      },
      "outputs": [
        {
          "output_type": "stream",
          "name": "stdout",
          "text": [
            "100\n",
            "500\n"
          ]
        }
      ],
      "source": [
        "entero_1 = 100\n",
        "print (entero_1)\n",
        "entero_2 = 500\n",
        "print (entero_2)"
      ]
    },
    {
      "cell_type": "code",
      "execution_count": null,
      "metadata": {
        "id": "wf9UxiV3kQlf",
        "colab": {
          "base_uri": "https://localhost:8080/"
        },
        "outputId": "4402b893-9961-4274-abb1-5f58b22bafae"
      },
      "outputs": [
        {
          "output_type": "stream",
          "name": "stdout",
          "text": [
            "30\n",
            "55\n"
          ]
        }
      ],
      "source": [
        "# Definimos un objeto con valor 1, le asignamos de nombre integer_1, de typo int \n",
        "integer_1 = 30\n",
        "integer_2 = 55\n",
        "# Le damos el valor definido en la pantalla \n",
        "print(integer_1)\n",
        "print(integer_2)\n"
      ]
    },
    {
      "cell_type": "markdown",
      "metadata": {
        "id": "_GMsxwQvkQlf"
      },
      "source": [
        "### El codigo de Python es traducido a un lenguaje intermedio"
      ]
    },
    {
      "cell_type": "code",
      "execution_count": null,
      "metadata": {
        "id": "jetr-tfmkQlg",
        "outputId": "df3a8577-2600-426c-9d28-60aa0ef05628"
      },
      "outputs": [
        {
          "name": "stdout",
          "output_type": "stream",
          "text": [
            "[1, 4, 9]\n"
          ]
        }
      ],
      "source": [
        "# Creamos una funcion\n",
        "def make_quadratic_list(function_list):\n",
        "    #Usaremos uns comprension de lista para contruir otra lista\n",
        "    return [x*x for x in function_list]    \n",
        "\n",
        "# Llamamos una funcion y le damos los valores en una lista\n",
        "print(make_quadratic_list([1,2,3]))"
      ]
    },
    {
      "cell_type": "code",
      "execution_count": null,
      "metadata": {
        "id": "nCUBXipSkQlg",
        "outputId": "f18bbc65-4793-494f-bd9d-9eee9b350177",
        "colab": {
          "base_uri": "https://localhost:8080/"
        }
      },
      "outputs": [
        {
          "output_type": "stream",
          "name": "stdout",
          "text": [
            "  4           0 LOAD_CONST               1 (<code object <listcomp> at 0x7fc64ed9bdb0, file \"<ipython-input-5-e5aeeaf2cd37>\", line 4>)\n",
            "              2 LOAD_CONST               2 ('make_quadratic_list.<locals>.<listcomp>')\n",
            "              4 MAKE_FUNCTION            0\n",
            "              6 LOAD_FAST                0 (function_list)\n",
            "              8 GET_ITER\n",
            "             10 CALL_FUNCTION            1\n",
            "             12 RETURN_VALUE\n",
            "\n",
            "Disassembly of <code object <listcomp> at 0x7fc64ed9bdb0, file \"<ipython-input-5-e5aeeaf2cd37>\", line 4>:\n",
            "  4           0 BUILD_LIST               0\n",
            "              2 LOAD_FAST                0 (.0)\n",
            "        >>    4 FOR_ITER                12 (to 18)\n",
            "              6 STORE_FAST               1 (x)\n",
            "              8 LOAD_FAST                1 (x)\n",
            "             10 LOAD_FAST                1 (x)\n",
            "             12 BINARY_MULTIPLY\n",
            "             14 LIST_APPEND              2\n",
            "             16 JUMP_ABSOLUTE            4\n",
            "        >>   18 RETURN_VALUE\n"
          ]
        }
      ],
      "source": [
        "# Muchas funciones de Pyton deben ser importadas para su uso \n",
        "import dis\n",
        "def make_quadratic_list(function_list):\n",
        "    return [x*x for x in function_list]    \n",
        "\n",
        "# La funcion dis.dis muestra el codigo intermediario que es usado para que Python traduzca \n",
        "dis.dis(make_quadratic_list)"
      ]
    },
    {
      "cell_type": "markdown",
      "metadata": {
        "id": "ByWdt16vkQlg"
      },
      "source": [
        "# La semana 1 se trata principalmente de datos, pero, por supuesto, queremos hacer algo con esos datos\n",
        " * ## Python tiene un conjunto completo de operadores disponibles, consulte [https://www.w3resource.com/python/python-operators.php](https://www.w3resource.com/python/python-operators.php ), puede omitir los comandos de operador y comenzar con los operadores aritméticos de Python\n",
        " * ## Un tema importante con los operadores es la precedencia o dicho de otra manera, si tiene más de un operador en una declaración, que se interpretará primero. En matemáticas sabemos que 2 + 2 x 3 = 8 y no 12. Decimos que la multiplicación tiene prioridad sobre la suma. Como tenemos muchos más operadores en Python, necesitamos una tabla grande sobre precedencia. Una buena tabla se encuentra en el capítulo 6.17 en [https://docs.python.org/3/reference/expressions.html](https://docs.python.org/3/reference/expressions.html) que puede omitir para ahora los operadores que no están en el documento anterior, pero recuerda cada vez que veas un nuevo operador echa un vistazo\n",
        "  * ### Nunca olvides que los paréntesis tienen la precedencia más alta. Por lo tanto, siempre es posible escapar de los problemas de precedencia agregando paréntesis\n",
        " * ## Los operadores son muy importantes si desea procesar datos, pero en las semanas 3 y 5 descubrirá que puede expandir sus posibilidades dramáticamente escribiendo sus propias funciones y clases"
      ]
    },
    {
      "cell_type": "code",
      "execution_count": null,
      "metadata": {
        "id": "ePEiiqa9kQlg",
        "outputId": "0d2f8ff6-ad13-4556-ed66-a5a7d3c9f865"
      },
      "outputs": [
        {
          "name": "stdout",
          "output_type": "stream",
          "text": [
            "6.2\n",
            "6.6000000000000005\n"
          ]
        }
      ],
      "source": [
        "# operadores estandares en Python\n",
        "print(1 + 2 * 3 - 4 / 5)\n",
        "# Uso de parentesis\n",
        "print((1 + 2) * (3 - 4 / 5))"
      ]
    },
    {
      "cell_type": "markdown",
      "metadata": {
        "id": "yqKW-VAQkQlh"
      },
      "source": [
        "# Los datos en un programa de Python se almacenarán como bits (ceros y unos) en la memoria de la computadora, pero se representarán como objetos para los humanos.\n",
        "## Son estos objetos con los que tenemos que lidiar, el interpretador traducirá nuestras referencias a objetos en referencias a lugares en la memoria de la computadora.\n",
        "## Los objetos en Python tienen:\n",
        "1. ### Una identidad, en la versión Python de Anaconda es la dirección en la memoria de la computadora, donde se almacena el valor. La identidad no se puede cambiar.\n",
        "2. ### Un tipo de datos, como entero, cadena, lista, etc. El tipo de datos no se puede cambiar\n",
        "3. ### Un valor, como 10, 'Hello World', [1,2,3]. El valor se puede cambiar o no según el tipo de datos. Si el valor de un objeto se puede cambiar, el objeto se llama mutable; de lo contrario, el objeto se llama inmutable."
      ]
    },
    {
      "cell_type": "markdown",
      "metadata": {
        "id": "MM_J7f_zkQlh"
      },
      "source": [
        "### Se puede crear un objeto y adjuntar un nombre a un objeto a través de una declaración de asignación (por ejemplo, `a = 1` \n",
        "### Se puede hacer referencia a un objeto con más de un nombre, pero un nombre solo puede hacer referencia a un objeto\n",
        "### Solo se pueden asignar nombres a objetos si:\n",
        "* #### Ese nombre comienza con una letra (A-z) o un carácter de subrayado (_)\n",
        "* #### Ese nombre solo contiene caracteres alfanuméricos (A-z, 0-9) y guiones bajos"
      ]
    },
    {
      "cell_type": "markdown",
      "metadata": {
        "id": "oSGq1VXBkQlh"
      },
      "source": [
        "### En los nombres se distingue mayúsculas y minúsculas (edad, Edad, y EDAD son diferentes)"
      ]
    },
    {
      "cell_type": "markdown",
      "metadata": {
        "id": "Uioie6ORkQlh"
      },
      "source": [
        "## Recolección de basura\n",
        "### Los datos utilizados en un programa ocupan la memoria de la computadora. Por lo tanto, la creación de muchos objetos de datos de gran tamaño podría sobrecargar la memoria de la computadora.\n",
        "### Python (y algunos otros lenguajes de programación) tienen un buen truco para resolver ese problema. Si Python nota que ya no hay nombres adjuntos a un objeto, el objeto se destruye en un proceso llamado \"recolección de basura\". Si no hay nombres adjuntos a un objeto, nadie puede usarlo más y, por lo tanto, es mejor destruirlo. En otros idiomas, debe programar la recolección de basura usted mismo y debe tener cuidado de no destruir los objetos que aún se necesitan o mantener los que ya no se necesitan."
      ]
    },
    {
      "cell_type": "markdown",
      "metadata": {
        "id": "gKu5fYlgkQlh"
      },
      "source": [
        "## Ejemplos (estos son ejemplos importantes, no entender cómo Python maneja los datos puede conducir a problemas muy difíciles de resolver)"
      ]
    },
    {
      "cell_type": "code",
      "execution_count": null,
      "metadata": {
        "id": "E3IglRzukQlh",
        "outputId": "346021ee-2a1e-4454-fdeb-0bed0cf956c9",
        "colab": {
          "base_uri": "https://localhost:8080/"
        }
      },
      "outputs": [
        {
          "output_type": "stream",
          "name": "stdout",
          "text": [
            "False\n",
            "False\n",
            "True\n",
            "140489703380368\n"
          ]
        }
      ],
      "source": [
        "# La siguiente declaración de asignación crea un objeto con valor 2000 y tipo entero, y\n",
        "# también adjunta el nombre integer_1 al objeto recién creado\n",
        "integer_1 = 2000\n",
        "# La siguiente declaración de asignación no crea un objeto, pero\n",
        "# también adjunta el nombre integer_2 al objeto que ya tiene el nombre integer_1 adjunto\n",
        "# El mismo objeto ahora tiene dos nombres\n",
        "integer_2 = integer_1\n",
        "# Podemos probar si los nombres integer_1 e integer_2 se refieren a un objeto con el mismo valor\n",
        "# Si eso es Verdadero, la siguiente declaración de impresión debería imprimir Verdadero y, de lo contrario, debería imprimir falso\n",
        "print(integer_1 != integer_2)\n",
        "# Podemos probar tambien si integer_1 y integer_2 se refieren al mismo objeto\n",
        "print(integer_1 is not integer_2)\n",
        "# Es lo mismo que decir si el id de un objeto es el mismo\n",
        "print(id(integer_1) == id(integer_2))\n",
        "# Aqui imprimimos el id de un objeto \n",
        "print(id(integer_1))"
      ]
    },
    {
      "cell_type": "code",
      "execution_count": null,
      "metadata": {
        "id": "OQncGCo7kQli",
        "outputId": "d4ee4f29-cf09-4d08-df71-a94cb946fe64",
        "colab": {
          "base_uri": "https://localhost:8080/"
        }
      },
      "outputs": [
        {
          "output_type": "stream",
          "name": "stdout",
          "text": [
            "2000 1000\n"
          ]
        }
      ],
      "source": [
        "integer_1 = 2000\n",
        "integer_2 = integer_1\n",
        "integer_2 = 1000\n",
        "# La declaración de asignación anterior crea un nuevo objeto con valor 1000\n",
        "# separa el nombre integer_2 del objeto con valor 2000, y\n",
        "# adjunta el nombre integer_2 al nuevo objeto\n",
        "print(integer_1, integer_2)"
      ]
    },
    {
      "cell_type": "code",
      "execution_count": null,
      "metadata": {
        "id": "Zi5tKvYAkQli",
        "outputId": "f31cef3c-53af-423f-f1cd-1fc426c3e2f1",
        "colab": {
          "base_uri": "https://localhost:8080/"
        }
      },
      "outputs": [
        {
          "output_type": "stream",
          "name": "stdout",
          "text": [
            "140489703379024\n",
            "140490109958768\n"
          ]
        }
      ],
      "source": [
        "# La siguiente declaración de asignación crea un objeto con valor 1000 y tipo entero\n",
        "# La siguiente declaración de asignación también adjunta el nombre integer_1 al objeto\n",
        "integer_1 = 1000\n",
        "print(id(integer_1))\n",
        "# La siguiente declaración de asignación crea un objeto con valor \"data\" y tipo cadena,\n",
        "# también separa el nombre entero_1 del objeto con valor 1, y\n",
        "# adjunta el nombre integer_1 al objeto recién creado con el valor \"data\"\n",
        "integer_1 = \"data\"\n",
        "# The following statement shows us that the name integer_1 now refers to a different object\n",
        "print(id(integer_1))"
      ]
    },
    {
      "cell_type": "markdown",
      "metadata": {
        "id": "9VyEsUpnkQli"
      },
      "source": [
        "### Los siguientes ejemplos son sobre prácticas, esto es bastante complicado. A veces, esperaría que Python creara un nuevo objeto, pero Python no lo hace y, en parte, está fuera de su control y depende de la implementación de Python que use."
      ]
    },
    {
      "cell_type": "code",
      "execution_count": null,
      "metadata": {
        "id": "uALgFIr7kQli",
        "outputId": "448a3d76-5c59-4916-c4e0-7751c4398eb1",
        "colab": {
          "base_uri": "https://localhost:8080/"
        }
      },
      "outputs": [
        {
          "output_type": "stream",
          "name": "stdout",
          "text": [
            "True\n"
          ]
        }
      ],
      "source": [
        "# En este ejemplo, una cadena está guardada y la segunda asignación no crea un nuevo objeto \n",
        "string_1 = 'string'\n",
        "string_2 = 'string'\n",
        "print (string_1 is string_2)"
      ]
    },
    {
      "cell_type": "code",
      "execution_count": null,
      "metadata": {
        "id": "fRa3ma6ykQlj",
        "outputId": "ca646a39-3bba-4fc8-fb3e-9e5c00243763",
        "colab": {
          "base_uri": "https://localhost:8080/"
        }
      },
      "outputs": [
        {
          "output_type": "stream",
          "name": "stdout",
          "text": [
            "False\n"
          ]
        }
      ],
      "source": [
        "# En este ejemplo, una cadena no está guardada y la segunda asignación crea un nuevo objeto \n",
        "string_1 = 'Este objeto no  está guardado'\n",
        "string_2 = 'Este objeto no  está guardado'\n",
        "print (string_1 is string_2)"
      ]
    },
    {
      "cell_type": "code",
      "execution_count": null,
      "metadata": {
        "id": "FUSQrCYFkQlj",
        "outputId": "d42dbe94-4ee4-4ccf-e9c7-9ebbe8efc703",
        "colab": {
          "base_uri": "https://localhost:8080/"
        }
      },
      "outputs": [
        {
          "output_type": "stream",
          "name": "stdout",
          "text": [
            "True\n"
          ]
        }
      ],
      "source": [
        "integer_1 = 1 \n",
        "integer_2 = 1\n",
        "print (integer_1 is integer_2)"
      ]
    },
    {
      "cell_type": "code",
      "execution_count": null,
      "metadata": {
        "id": "Jb8ZHWYDkQlk",
        "outputId": "bb89293b-879c-40de-edf4-58f9043d647f",
        "colab": {
          "base_uri": "https://localhost:8080/"
        }
      },
      "outputs": [
        {
          "output_type": "stream",
          "name": "stdout",
          "text": [
            "False\n"
          ]
        }
      ],
      "source": [
        "integer_1 = 1000\n",
        "integer_2 = 1000\n",
        "print (integer_1 is integer_2)"
      ]
    },
    {
      "cell_type": "markdown",
      "metadata": {
        "id": "X6GbGVOLkQlk"
      },
      "source": [
        "# Primero discutimos los tipos de datos que describen objetos de valor único. Estos son números, cadenas y booleanos y, posteriormente, tipos de datos que describen objetos con una colección de valores."
      ]
    },
    {
      "cell_type": "markdown",
      "metadata": {
        "id": "MA7bZktpkQlk"
      },
      "source": [
        "## Números\n",
        "### Todos los números (enteros, números de coma flotante, números complejos, decimales y fracciones) son inmutables"
      ]
    },
    {
      "cell_type": "markdown",
      "metadata": {
        "id": "7okguazIkQlk"
      },
      "source": [
        "### Enteros\n",
        "#### Estos son números enteros (-10,1,2)\n",
        "#### Solo el hardware de la computadora limita el limite de un número entero y, por lo tanto, los números enteros son muy precisos"
      ]
    },
    {
      "cell_type": "code",
      "execution_count": null,
      "metadata": {
        "id": "29sCioEYkQlk",
        "outputId": "6320bcbf-6fbc-4344-8e79-d692a8db56b7",
        "colab": {
          "base_uri": "https://localhost:8080/"
        }
      },
      "outputs": [
        {
          "output_type": "stream",
          "name": "stdout",
          "text": [
            "False\n"
          ]
        }
      ],
      "source": [
        "integer_1=9999999999999999999999999999999999999999999999999999999999999999999999999999999999999999999\n",
        "integer_2 = integer_1 + 1 \n",
        "print(integer_1 == integer_2)"
      ]
    },
    {
      "cell_type": "code",
      "execution_count": null,
      "metadata": {
        "id": "J0x0hgpkkQll",
        "outputId": "281fb17e-a39e-4a7d-e60e-2fbf685d8bda",
        "colab": {
          "base_uri": "https://localhost:8080/"
        }
      },
      "outputs": [
        {
          "output_type": "stream",
          "name": "stdout",
          "text": [
            "140489764734016\n"
          ]
        }
      ],
      "source": [
        "integer_1=9999999999999999999999999999999999999999999999999999999999999999999999999999999999999999999\n",
        "print(id(integer_1))\n",
        "integer_1 = integer_1 + 1 \n",
        "# La verificación de las identificaciones deja en claro que se crea un nuevo objeto y que el nombre integer_1 ahora está vinculado a ese nuevo objeto print(id(integer_1))"
      ]
    },
    {
      "cell_type": "markdown",
      "metadata": {
        "id": "X0F2_HCskQll"
      },
      "source": [
        "### Enteros expresados en diferentes maneras"
      ]
    },
    {
      "cell_type": "markdown",
      "metadata": {
        "id": "A2SxPxB1kQll"
      },
      "source": [
        "### Números decimales vs a números binarios/octales/hexidecimales\n",
        "#### Los números en matemáticas se basan en el sistema numérico posicional. Entonces, cada dígito en un número tiene una contribución al valor total del número que depende de su posición en ese número y si el número es binario/octal/decimal/hexidecimal.\n",
        "#### En números decimales, el dígito más a la derecha tiene una contribución al valor total que es solo el valor de ese dígito, el que está a la izquierda tiene una contribución al valor total de su propio valor multiplicado por 10, y para el que está a la izquierda de ese que su contribución es su propio valor multiplicado por 100 (10 a la potencia 2) etc. (Los números decimales usan solo dígitos entre 0 y 9).\n",
        "#### En números binarios, el dígito más a la derecha tiene una contribución al valor total que es solo el valor de ese dígito, el que está a la izquierda tiene una contribución al valor total de su propio valor multiplicado por 2, y para el que está a la izquierda de ese que su contribución es su propio valor multiplicado por 4 (2 elevado a 2), etc. (Los números binarios usan solo 0 y 1).\n",
        "#### En números octales, el dígito más a la derecha tiene una contribución al valor total que es solo el valor de ese dígito, el que está a la izquierda tiene una contribución al valor total de su propio valor multiplicado por 8, y para el que está a la izquierda de ese que su contribución es su propio valor multiplicado por 64 (8 elevado a 2), etc. (Los números octales usan solo dígitos entre 0 y 7).\n",
        "#### En números hexadecimales, el dígito más a la derecha tiene una contribución al valor total que es solo el valor de ese dígito, el que está a la izquierda tiene una contribución al valor total de su propio valor multiplicado por 16, y para el que está a la izquierda de aquél cuya contribución es su propio valor multiplicado por 256 (16 a la potencia 2) etc. (Los números hexadecimales usan todos los dígitos entre 0 y 90, y A para 10, B para 11, hasta F para 15.)\n",
        "#### Entonces 111 binario es 1 + 1 * 2 + 1 * 4 = 7 decimal"
      ]
    },
    {
      "cell_type": "markdown",
      "metadata": {
        "id": "R7ToBx9rkQlm"
      },
      "source": [
        "#### Los números en representación alternativa deben comenzar con dos caracteres que indican qué sistema numérico alternativo se utiliza"
      ]
    },
    {
      "cell_type": "code",
      "execution_count": null,
      "metadata": {
        "id": "dOwssZ--kQlm",
        "outputId": "2ac28364-36a2-48c6-e34a-7c16540b7ef7",
        "colab": {
          "base_uri": "https://localhost:8080/"
        }
      },
      "outputs": [
        {
          "output_type": "stream",
          "name": "stdout",
          "text": [
            "26\n",
            "26\n",
            "26\n",
            "26\n",
            "True\n"
          ]
        }
      ],
      "source": [
        "print(0b11010) \n",
        "# Binary number 11010\n",
        "print(0o32)    \n",
        "# Octal number 112 \n",
        "print(26)      \n",
        "# Decimal number 26\n",
        "print(0x1A)    \n",
        "# Hexadecimal number 1A\n",
        "print (0b11010 == 0o32 == 26 == 0x1A )"
      ]
    },
    {
      "cell_type": "markdown",
      "metadata": {
        "id": "eSpdy_BhkQln"
      },
      "source": [
        "### Números de punto flotante \n",
        "#### un número que contiene una parte fraccionaria (1.3, -1.3, 0.0)\n",
        "#### Los números de punto flotante se almacenan en un espacio limitado en la memoria de la computadora y, por lo tanto, no tienen una precisión ilimitada"
      ]
    },
    {
      "cell_type": "code",
      "execution_count": null,
      "metadata": {
        "id": "k4ZQP7uLkQln",
        "outputId": "70cab328-2957-4556-f959-7a5c1fc57c97"
      },
      "outputs": [
        {
          "name": "stdout",
          "output_type": "stream",
          "text": [
            "4.2\n",
            "1.0\n"
          ]
        }
      ],
      "source": [
        "print(4.2)\n",
        "print(1.00)"
      ]
    },
    {
      "cell_type": "markdown",
      "metadata": {
        "id": "_OuhAVbhkQlo"
      },
      "source": [
        "### Los números de punto flotante también se pueden representar en notación científica, e.g.: $132.2  = 1.322 \\times 10^2$\n",
        "### La notación en Python es $1.322e2$"
      ]
    },
    {
      "cell_type": "code",
      "execution_count": null,
      "metadata": {
        "id": "a9vRFEaukQlo",
        "colab": {
          "base_uri": "https://localhost:8080/"
        },
        "outputId": "11948d20-0b43-4d68-da04-081e54d73951"
      },
      "outputs": [
        {
          "output_type": "stream",
          "name": "stdout",
          "text": [
            "132.2\n",
            "132.2\n",
            "True\n"
          ]
        }
      ],
      "source": [
        "float_1 = 132.2\n",
        "scientific = 1.322e2\n",
        "print(float_1)\n",
        "print(scientific)\n",
        "print(float_1 == scientific)"
      ]
    },
    {
      "cell_type": "markdown",
      "metadata": {
        "id": "I8Neb66zkQlo"
      },
      "source": [
        "### Vimos que los números enteros eran infinitamente precisos, este no es el caso de los números de punto flotante, para mas info consulte [https://en.wikipedia.org/wiki /Floating-point_arithmetic](https://en.wikipedia.org/wiki/Floating-point_arithmetic)"
      ]
    },
    {
      "cell_type": "code",
      "execution_count": null,
      "metadata": {
        "id": "cclVT9EDkQlo",
        "outputId": "2e4a2d39-f5c3-456c-a24d-028c2b2fd3c2"
      },
      "outputs": [
        {
          "name": "stdout",
          "output_type": "stream",
          "text": [
            "True\n"
          ]
        }
      ],
      "source": [
        "float_1 = 9999999999999999999999999999999999999999999999999999999999999999999999999999999999999999999.0\n",
        "float_2 = float_1 + 1\n",
        "print(float_1 == float_2)"
      ]
    },
    {
      "cell_type": "code",
      "execution_count": null,
      "metadata": {
        "id": "Su7gHoyvkQlo",
        "outputId": "03e9eb0b-5c97-49a4-9f1c-1bfa619d902c"
      },
      "outputs": [
        {
          "name": "stdout",
          "output_type": "stream",
          "text": [
            "1e+91\n",
            "1e+91\n",
            "True\n"
          ]
        }
      ],
      "source": [
        "float_1 = 9999999999999999999999999999999999999999999999999999999999999999999999999999999999999999999.0\n",
        "print(float_1)\n",
        "float_2 = float_1 + 1\n",
        "print (float_2)\n",
        "print(float_1 == float_2)"
      ]
    },
    {
      "cell_type": "code",
      "execution_count": null,
      "metadata": {
        "id": "ul4Mzt9dkQlo",
        "outputId": "1a17ca23-b7b1-4d30-bbab-5ce6a5e0e2cc"
      },
      "outputs": [
        {
          "name": "stdout",
          "output_type": "stream",
          "text": [
            "inf\n",
            "1e-323\n",
            "0.0\n"
          ]
        }
      ],
      "source": [
        "print(1e48*1e300)\n",
        "float_3 = 1e-322\n",
        "print(float_3 / 10)\n",
        "print(float_3 / 100)"
      ]
    },
    {
      "cell_type": "code",
      "execution_count": null,
      "metadata": {
        "id": "mSfSdB55kQlo",
        "outputId": "67675198-b567-465a-b609-9f3cec9b97e8",
        "scrolled": true
      },
      "outputs": [
        {
          "name": "stdout",
          "output_type": "stream",
          "text": [
            "False\n"
          ]
        }
      ],
      "source": [
        "print((2 ** .5) ** 2 == 2)"
      ]
    },
    {
      "cell_type": "code",
      "source": [
        "5*2  #Multiplicación"
      ],
      "metadata": {
        "colab": {
          "base_uri": "https://localhost:8080/"
        },
        "id": "i4MlcChUqbV-",
        "outputId": "b66d7e93-4d78-492e-9efa-935694ba5147"
      },
      "execution_count": null,
      "outputs": [
        {
          "output_type": "execute_result",
          "data": {
            "text/plain": [
              "10"
            ]
          },
          "metadata": {},
          "execution_count": 23
        }
      ]
    },
    {
      "cell_type": "code",
      "source": [
        "4**8  #Elevado"
      ],
      "metadata": {
        "colab": {
          "base_uri": "https://localhost:8080/"
        },
        "id": "GBFnSM4CqxQN",
        "outputId": "1bbf80a9-f180-47ed-980f-3ed6a8d807d3"
      },
      "execution_count": null,
      "outputs": [
        {
          "output_type": "execute_result",
          "data": {
            "text/plain": [
              "65536"
            ]
          },
          "metadata": {},
          "execution_count": 24
        }
      ]
    },
    {
      "cell_type": "code",
      "source": [
        "55/6 #División con decimales"
      ],
      "metadata": {
        "colab": {
          "base_uri": "https://localhost:8080/"
        },
        "id": "JyA4YkTHq7Dp",
        "outputId": "909d06c5-2aaf-478c-c60b-9e27ea0a435b"
      },
      "execution_count": null,
      "outputs": [
        {
          "output_type": "execute_result",
          "data": {
            "text/plain": [
              "9.166666666666666"
            ]
          },
          "metadata": {},
          "execution_count": 29
        }
      ]
    },
    {
      "cell_type": "code",
      "source": [
        "55//6 #División sin decimales"
      ],
      "metadata": {
        "colab": {
          "base_uri": "https://localhost:8080/"
        },
        "id": "RSVEYQTFrdds",
        "outputId": "4d98434f-cf86-4b66-d03e-b6b2c0350e16"
      },
      "execution_count": null,
      "outputs": [
        {
          "output_type": "execute_result",
          "data": {
            "text/plain": [
              "9"
            ]
          },
          "metadata": {},
          "execution_count": 30
        }
      ]
    },
    {
      "cell_type": "markdown",
      "metadata": {
        "id": "C5AEklYSkQlp"
      },
      "source": [
        "### Números complejos,\n",
        "* #### Trabaja igual que en tus clases de matemáticas, pero en vez de i se usa la letra j para la parte imaginaria\n",
        "* #### Para mejor precision, podría ser mejor importar métodos especiales de la biblioteca cmath, en lugar de usar operadores estándares"
      ]
    },
    {
      "cell_type": "code",
      "execution_count": null,
      "metadata": {
        "id": "xO7IhWK2kQlp",
        "outputId": "8ed19a98-6fa1-448b-87b6-8db33879cc18",
        "scrolled": true
      },
      "outputs": [
        {
          "name": "stdout",
          "output_type": "stream",
          "text": [
            "(6.123233995736766e-17+1j)\n"
          ]
        }
      ],
      "source": [
        "print((-1 + 0j) ** .5)"
      ]
    },
    {
      "cell_type": "code",
      "execution_count": null,
      "metadata": {
        "id": "8XXYCrJekQlp",
        "outputId": "84abe97f-9ffd-4516-adc2-51f215bd242b",
        "colab": {
          "base_uri": "https://localhost:8080/"
        }
      },
      "outputs": [
        {
          "output_type": "stream",
          "name": "stdout",
          "text": [
            "1j\n"
          ]
        }
      ],
      "source": [
        "from cmath import sqrt\n",
        "\n",
        "print(sqrt(-1))"
      ]
    },
    {
      "cell_type": "markdown",
      "metadata": {
        "id": "cEmCNzNYkQlp"
      },
      "source": [
        "### Decimales\n",
        "#### Decimales pueden ser tan precisos en comparacion de numeros de punto flotante"
      ]
    },
    {
      "cell_type": "code",
      "execution_count": null,
      "metadata": {
        "id": "jfSgZK-JkQlp",
        "outputId": "fecd17e1-dd0b-47a9-8329-0ae5a3eabefe"
      },
      "outputs": [
        {
          "name": "stdout",
          "output_type": "stream",
          "text": [
            "3.3000000000000003\n",
            "3.3\n"
          ]
        }
      ],
      "source": [
        "print (1.1 + 2.2)\n",
        "from decimal import Decimal, getcontext\n",
        "print(Decimal('1.1') + Decimal('2.2')  )"
      ]
    },
    {
      "cell_type": "code",
      "execution_count": null,
      "metadata": {
        "id": "Y8tWI-RVkQlp",
        "outputId": "64bab969-48bf-4423-cdad-a85b3fb17b87"
      },
      "outputs": [
        {
          "name": "stdout",
          "output_type": "stream",
          "text": [
            "3.3000000000000003\n",
            "3.3\n",
            "3.300000000000000266453525910\n"
          ]
        }
      ],
      "source": [
        "print(1.1+ 2.2)\n",
        "from decimal import Decimal, getcontext\n",
        "print(Decimal('1.1') + Decimal('2.2'))\n",
        "print(Decimal(1.1) + Decimal(2.2))"
      ]
    },
    {
      "cell_type": "code",
      "execution_count": null,
      "metadata": {
        "id": "4UjrSeWMkQlq"
      },
      "outputs": [],
      "source": [
        ""
      ]
    },
    {
      "cell_type": "markdown",
      "metadata": {
        "id": "lqsbiYRmkQlq"
      },
      "source": [
        "### Fracción\n",
        "#### Las fracciones funcionan como se esperaba y hacen toda la simplificación necesaria automáticamente"
      ]
    },
    {
      "cell_type": "code",
      "execution_count": null,
      "metadata": {
        "id": "KMyovyZskQlq",
        "outputId": "fe815694-1f52-4e1a-9fff-eb33e45c33f4"
      },
      "outputs": [
        {
          "name": "stdout",
          "output_type": "stream",
          "text": [
            "0.30952380952380953\n",
            "13/42\n"
          ]
        }
      ],
      "source": [
        "print(1/7+1/6)\n",
        "from fractions import Fraction\n",
        "print(Fraction(1, 7) + Fraction(1, 6))"
      ]
    },
    {
      "cell_type": "markdown",
      "metadata": {
        "id": "gCeIWpMLkQlq"
      },
      "source": [
        "## Cadenas (Strings)"
      ]
    },
    {
      "cell_type": "code",
      "execution_count": null,
      "metadata": {
        "id": "aXkwxeiKkQlq",
        "outputId": "c72e388b-283a-4249-bdbb-b26412f3c4b2"
      },
      "outputs": [
        {
          "name": "stdout",
          "output_type": "stream",
          "text": [
            "True\n"
          ]
        }
      ],
      "source": [
        "string_1 = \"Text\"\n",
        "string_2 = 'Text'\n",
        "print (string_1 is string_2)"
      ]
    },
    {
      "cell_type": "code",
      "execution_count": null,
      "metadata": {
        "id": "gC3svX3VkQlq"
      },
      "outputs": [],
      "source": [
        "string_1 = \"Text\""
      ]
    },
    {
      "cell_type": "markdown",
      "metadata": {
        "id": "aO10xvegkQlq"
      },
      "source": [
        "### Sequencias de escape\n",
        "* #### Un Sequencia de escape le permite usar caracteres que de otro modo serían imposibles de poner en una cadena\n",
        "* #### Un Sequencia de escape consta de una barra invertida (\\) seguida del carácter que desea agregar a la cadena\n",
        "\n",
        "### Hay muchas sequencia de escape, eche un vistazo a los siguientes sitios web. Es bueno que sepas que todas estas posibilidades existen.\n",
        "* #### Resumen completo[(https://python-reference.readthedocs.io/en/latest/docs/str/escapes.html](https://python-reference.readthedocs.io/en/latest/ docs/str/escapes.html)\n",
        "* #### Códigos Unicode[https://en.wikipedia.org/wiki/List_of_Unicode_characters](https://en.wikipedia.org/wiki/List_of_Unicode_characters)\n",
        "* #### Nombres para caracteres Unicode[https://www.unicode.org/Public/9.0.0/ucd/UnicodeData.txt](https://www.unicode.org/Public/9.0.0/ucd /UnicodeData.txt)"
      ]
    },
    {
      "cell_type": "code",
      "execution_count": null,
      "metadata": {
        "id": "ovAJVwtxkQlr",
        "colab": {
          "base_uri": "https://localhost:8080/",
          "height": 135
        },
        "outputId": "5c649e86-f000-405c-c1c7-c2f9841ab8ce"
      },
      "outputs": [
        {
          "output_type": "error",
          "ename": "SyntaxError",
          "evalue": "ignored",
          "traceback": [
            "\u001b[0;36m  File \u001b[0;32m\"<ipython-input-33-531ae83d7056>\"\u001b[0;36m, line \u001b[0;32m1\u001b[0m\n\u001b[0;31m    string = 'It's Monthy Python'\u001b[0m\n\u001b[0m                 ^\u001b[0m\n\u001b[0;31mSyntaxError\u001b[0m\u001b[0;31m:\u001b[0m invalid syntax\n"
          ]
        }
      ],
      "source": [
        "string = 'It's Monthy Python'  #Toma a s Monthy Python como caracter\n",
        "print(string)"
      ]
    },
    {
      "cell_type": "code",
      "execution_count": null,
      "metadata": {
        "id": "fCgssoYzkQlr",
        "colab": {
          "base_uri": "https://localhost:8080/"
        },
        "outputId": "c4e76f31-59c4-4467-c604-c088e5e873b3"
      },
      "outputs": [
        {
          "output_type": "stream",
          "name": "stdout",
          "text": [
            "It's Monthy Python\n"
          ]
        }
      ],
      "source": [
        "string = \"It's Monthy Python\"\n",
        "print(string)"
      ]
    },
    {
      "cell_type": "code",
      "execution_count": null,
      "metadata": {
        "id": "6AVMibKpkQlr",
        "outputId": "f4537352-21b4-4559-b57c-e9ecb8765e47",
        "colab": {
          "base_uri": "https://localhost:8080/"
        }
      },
      "outputs": [
        {
          "output_type": "stream",
          "name": "stdout",
          "text": [
            "It's Monthy Python\n"
          ]
        }
      ],
      "source": [
        "string = 'It\\'s Monthy Python'  #El / hace que la comilla la reconozca como parte del objeto\n",
        "print(string)"
      ]
    },
    {
      "cell_type": "code",
      "execution_count": null,
      "metadata": {
        "id": "aWopf9AskQlr",
        "outputId": "74728072-af99-4e6e-db0c-bd145b96b8ab",
        "scrolled": true,
        "colab": {
          "base_uri": "https://localhost:8080/"
        }
      },
      "outputs": [
        {
          "output_type": "stream",
          "name": "stdout",
          "text": [
            "Hola como\testas\n"
          ]
        }
      ],
      "source": [
        "string = \"\\\\\\t\\'\\t\\\"\"\n",
        "string = \"Hola como \\testas \"  #\\t significa como separar palabras\n",
        "print(string)"
      ]
    },
    {
      "cell_type": "code",
      "source": [
        "string = \"Hola como\\testas\"\n",
        "print(string)"
      ],
      "metadata": {
        "colab": {
          "base_uri": "https://localhost:8080/"
        },
        "id": "7Mq08z-8v5gL",
        "outputId": "80637021-5c74-4495-8b1f-502921cc872d"
      },
      "execution_count": null,
      "outputs": [
        {
          "output_type": "stream",
          "name": "stdout",
          "text": [
            "Hola como\testas\n"
          ]
        }
      ]
    },
    {
      "cell_type": "code",
      "execution_count": null,
      "metadata": {
        "id": "eIkFyx4ykQlr",
        "outputId": "89a06476-bfce-4ee2-80ed-37e244631701"
      },
      "outputs": [
        {
          "name": "stdout",
          "output_type": "stream",
          "text": [
            "text1\n",
            "text2\n"
          ]
        }
      ],
      "source": [
        "string = \"text1\\ntext2\"  #\\n dar enter\n",
        "print(string)"
      ]
    },
    {
      "cell_type": "code",
      "execution_count": null,
      "metadata": {
        "id": "E06QacMGkQlr",
        "outputId": "e44a2f00-39ae-4ff6-e7c4-0b6aca517611",
        "scrolled": true
      },
      "outputs": [
        {
          "name": "stdout",
          "output_type": "stream",
          "text": [
            "¥\n",
            "¥\n"
          ]
        }
      ],
      "source": [
        "print(\"\\u00A5\")\n",
        "print(\"\\N{YEN SIGN}\")"
      ]
    },
    {
      "cell_type": "markdown",
      "metadata": {
        "id": "RRmdv6T8kQlr"
      },
      "source": [
        "### cadenas de varias líneas\n",
        "#### Si desea una cadena que abarque varias líneas, simplemente comience con tres comillas simples o comillas dobles y termínelas con las mismas tres comillas simples o comillas dobles"
      ]
    },
    {
      "cell_type": "code",
      "execution_count": null,
      "metadata": {
        "id": "aHg9s3VfkQls",
        "outputId": "15c928dd-1e14-4800-dff8-d5aa96a3bba8",
        "scrolled": true,
        "colab": {
          "base_uri": "https://localhost:8080/"
        }
      },
      "outputs": [
        {
          "output_type": "stream",
          "name": "stdout",
          "text": [
            "text1\n",
            "text2\n"
          ]
        }
      ],
      "source": [
        "string_1 = \"\"\"text1\n",
        "text2\"\"\"\n",
        "print(string_1)"
      ]
    },
    {
      "cell_type": "code",
      "source": [
        "string_e = \"\"\"text1\n",
        "text2\"\"\"\n",
        "print(string_e)"
      ],
      "metadata": {
        "colab": {
          "base_uri": "https://localhost:8080/"
        },
        "id": "UaAFjkdywlkA",
        "outputId": "678c6123-7545-4dc1-d975-58258889e517"
      },
      "execution_count": null,
      "outputs": [
        {
          "output_type": "stream",
          "name": "stdout",
          "text": [
            "text1\n",
            "text2\n"
          ]
        }
      ]
    },
    {
      "cell_type": "code",
      "execution_count": null,
      "metadata": {
        "id": "dV80qBWckQls",
        "scrolled": true
      },
      "outputs": [],
      "source": [
        "string_1 = '''text1\n",
        "text2'''\n",
        "print(string_1)"
      ]
    },
    {
      "cell_type": "code",
      "execution_count": null,
      "metadata": {
        "id": "ZQQZ2NPfkQls",
        "outputId": "22baa1ee-fd5b-40b2-8713-04c1e64bebe3",
        "scrolled": true
      },
      "outputs": [
        {
          "name": "stdout",
          "output_type": "stream",
          "text": [
            "text1\n",
            "\"text2\" \n"
          ]
        }
      ],
      "source": [
        "string_1 = \"\"\"text1\n",
        "\"text2\" \"\"\"\n",
        "print(string_1)"
      ]
    },
    {
      "cell_type": "markdown",
      "metadata": {
        "id": "lasgtFmikQls"
      },
      "source": [
        "#### Your may prefer to start a multiline comment on the 'next' line. In that case you should add a backslash, otherwise an extra blank line will be printed"
      ]
    },
    {
      "cell_type": "code",
      "execution_count": null,
      "metadata": {
        "id": "GX2kAwNlkQls",
        "outputId": "00f1ceae-1041-4ab7-ae51-8da620c7f0f1",
        "scrolled": true,
        "colab": {
          "base_uri": "https://localhost:8080/"
        }
      },
      "outputs": [
        {
          "output_type": "stream",
          "name": "stdout",
          "text": [
            "text1\n",
            "text2\n",
            "\"\n"
          ]
        }
      ],
      "source": [
        "string_1 = \"\"\"\\  \n",
        "text1\n",
        "text2\n",
        "\\\"\"\"\"\n",
        "print(string_1)"
      ]
    },
    {
      "cell_type": "code",
      "execution_count": null,
      "metadata": {
        "id": "GZa4eL8ckQls",
        "outputId": "2844f10d-3ee1-4efa-9737-ac320a57e189",
        "scrolled": true
      },
      "outputs": [
        {
          "name": "stdout",
          "output_type": "stream",
          "text": [
            "\n",
            "text1\n",
            "text2\n",
            "\n"
          ]
        }
      ],
      "source": [
        "string_1 = \"\"\"\n",
        "text1\n",
        "text2\n",
        "\"\"\"\n",
        "print(string_1)"
      ]
    },
    {
      "cell_type": "markdown",
      "metadata": {
        "id": "1GlG5w8YkQls"
      },
      "source": [
        "### Indexación de un carácter en una cadena\n",
        "#### Un índice no negativo indexa desde la izquierda, donde 0 se refiere al carácter más a la izquierda\n",
        "#### Un índice negativo indexa desde la derecha, donde -1 se refiere al carácter más a la derecha\n",
        "#### Si su índice va más allá de los caracteres disponibles en la cadena, obtiene un IndexError"
      ]
    },
    {
      "cell_type": "code",
      "execution_count": null,
      "metadata": {
        "id": "55fMvGO4kQlt"
      },
      "outputs": [],
      "source": [
        "string_1 = '12345'"
      ]
    },
    {
      "cell_type": "code",
      "execution_count": null,
      "metadata": {
        "id": "ABpaAv64kQlt",
        "colab": {
          "base_uri": "https://localhost:8080/"
        },
        "outputId": "079af06f-fabb-48cc-bc55-c67604e08409"
      },
      "outputs": [
        {
          "output_type": "stream",
          "name": "stdout",
          "text": [
            "1\n",
            "5\n"
          ]
        }
      ],
      "source": [
        "print(string_1[0])\n",
        "print(string_1[4])"
      ]
    },
    {
      "cell_type": "code",
      "execution_count": null,
      "metadata": {
        "id": "VNqTbq5GkQlt",
        "colab": {
          "base_uri": "https://localhost:8080/",
          "height": 171
        },
        "outputId": "d1cac36f-cba5-496c-ec7a-cd2fa46d24be"
      },
      "outputs": [
        {
          "output_type": "error",
          "ename": "IndexError",
          "evalue": "ignored",
          "traceback": [
            "\u001b[0;31m---------------------------------------------------------------------------\u001b[0m",
            "\u001b[0;31mIndexError\u001b[0m                                Traceback (most recent call last)",
            "\u001b[0;32m<ipython-input-60-a3462e641e81>\u001b[0m in \u001b[0;36m<module>\u001b[0;34m()\u001b[0m\n\u001b[0;32m----> 1\u001b[0;31m \u001b[0mprint\u001b[0m\u001b[0;34m(\u001b[0m\u001b[0mstring_1\u001b[0m\u001b[0;34m[\u001b[0m\u001b[0;36m5\u001b[0m\u001b[0;34m]\u001b[0m\u001b[0;34m)\u001b[0m\u001b[0;34m\u001b[0m\u001b[0;34m\u001b[0m\u001b[0m\n\u001b[0m",
            "\u001b[0;31mIndexError\u001b[0m: string index out of range"
          ]
        }
      ],
      "source": [
        "print(string_1[5])"
      ]
    },
    {
      "cell_type": "code",
      "execution_count": null,
      "metadata": {
        "id": "7YnrF3HTkQlt",
        "colab": {
          "base_uri": "https://localhost:8080/"
        },
        "outputId": "677d9d97-9b7a-414c-b44a-2a798505ffd4"
      },
      "outputs": [
        {
          "output_type": "stream",
          "name": "stdout",
          "text": [
            "5\n",
            "3\n"
          ]
        }
      ],
      "source": [
        "print(string_1[-1])\n",
        "print(string_1[-3])"
      ]
    },
    {
      "cell_type": "code",
      "execution_count": null,
      "metadata": {
        "id": "r8vh_nEUkQlt",
        "colab": {
          "base_uri": "https://localhost:8080/",
          "height": 171
        },
        "outputId": "0810ac59-4c40-4b9c-e5ec-9e1016501898"
      },
      "outputs": [
        {
          "output_type": "error",
          "ename": "IndexError",
          "evalue": "ignored",
          "traceback": [
            "\u001b[0;31m---------------------------------------------------------------------------\u001b[0m",
            "\u001b[0;31mIndexError\u001b[0m                                Traceback (most recent call last)",
            "\u001b[0;32m<ipython-input-61-7af748e0f234>\u001b[0m in \u001b[0;36m<module>\u001b[0;34m()\u001b[0m\n\u001b[0;32m----> 1\u001b[0;31m \u001b[0mprint\u001b[0m\u001b[0;34m(\u001b[0m\u001b[0mstring_1\u001b[0m\u001b[0;34m[\u001b[0m\u001b[0;34m-\u001b[0m\u001b[0;36m6\u001b[0m\u001b[0;34m]\u001b[0m\u001b[0;34m)\u001b[0m\u001b[0;34m\u001b[0m\u001b[0;34m\u001b[0m\u001b[0m\n\u001b[0m",
            "\u001b[0;31mIndexError\u001b[0m: string index out of range"
          ]
        }
      ],
      "source": [
        "print(string_1[-6])"
      ]
    },
    {
      "cell_type": "markdown",
      "metadata": {
        "id": "BzPiY5v6kQlt"
      },
      "source": [
        "### Cortar un conjunto de caracteres de una cadena con [start:end]\n",
        "#### Inicio indica el primer carácter de la cadena que debe seleccionarse, fin - 1 indica el último carácter que debe seleccionarse\n",
        "#### Si se omite el primer índice, el valor predeterminado es 0, si se omite el último índice, el valor predeterminado es la longitud de la cadena"
      ]
    },
    {
      "cell_type": "code",
      "execution_count": null,
      "metadata": {
        "id": "gAycEXHxkQlt",
        "colab": {
          "base_uri": "https://localhost:8080/"
        },
        "outputId": "f220d428-4405-45cc-8312-d08d8547fff6"
      },
      "outputs": [
        {
          "output_type": "stream",
          "name": "stdout",
          "text": [
            "23\n"
          ]
        }
      ],
      "source": [
        "string_1 = '12345'  #Cuando va de iz a der. del 1 al 5 no toma en cuenta el último número\n",
        "print(string_1[1:3])"
      ]
    },
    {
      "cell_type": "code",
      "execution_count": null,
      "metadata": {
        "id": "286W0HWAkQlt",
        "colab": {
          "base_uri": "https://localhost:8080/"
        },
        "outputId": "6345ac39-e357-48e5-c4f3-02ed9fd5130d"
      },
      "outputs": [
        {
          "output_type": "stream",
          "name": "stdout",
          "text": [
            "234\n"
          ]
        }
      ],
      "source": [
        "print(string_1[-4:-1])  #Cuando va de dere. a izq. no toma en cuenta el ultimo"
      ]
    },
    {
      "cell_type": "code",
      "execution_count": null,
      "metadata": {
        "id": "dEFi_sKskQlt",
        "colab": {
          "base_uri": "https://localhost:8080/"
        },
        "outputId": "e8d08795-99d7-471c-d77e-5965c4abfce6"
      },
      "outputs": [
        {
          "output_type": "stream",
          "name": "stdout",
          "text": [
            "123\n",
            "45\n",
            "12345\n"
          ]
        }
      ],
      "source": [
        "string_1 = '12345'\n",
        "print(string_1[:3])\n",
        "print(string_1[3:])\n",
        "print(string_1[:])"
      ]
    },
    {
      "cell_type": "code",
      "execution_count": null,
      "metadata": {
        "id": "SC0yvCOYkQlu",
        "colab": {
          "base_uri": "https://localhost:8080/"
        },
        "outputId": "06ffd749-c602-47d0-fc1d-3404668097e7"
      },
      "outputs": [
        {
          "output_type": "stream",
          "name": "stdout",
          "text": [
            "45\n",
            "123\n"
          ]
        }
      ],
      "source": [
        "string_1 = '12345'\n",
        "print(string_1[-2:])\n",
        "print(string_1[:-2])"
      ]
    },
    {
      "cell_type": "markdown",
      "metadata": {
        "id": "ac7iAfZVkQlu"
      },
      "source": [
        "### Cortar una cadena agregando un contador de pasos [inicio:fin:paso]\n",
        "#### Si el contador de pasos es positivo indica que se deben seleccionar los caracteres con inicio de índice + tiempos de paso 0,1,2, ...\n",
        "#### Si el paso del contador de pasos es negativo, indica que se deben seleccionar los caracteres con fin de índice - paso por 0,1,2, ...\n",
        "### Sin embargo, tenemos que dejar de seleccionar cuando la selección alcanza (o va más allá) del carácter indicado por el índice final\n",
        "### Si no se proporciona un valor de paso, el valor predeterminado es 1"
      ]
    },
    {
      "cell_type": "code",
      "execution_count": null,
      "metadata": {
        "id": "6t6HpFY_kQlu",
        "outputId": "9bef3a6f-c580-443a-dec8-cbd6906fed42",
        "colab": {
          "base_uri": "https://localhost:8080/"
        }
      },
      "outputs": [
        {
          "output_type": "stream",
          "name": "stdout",
          "text": [
            "2345\n",
            "5432\n",
            "2345\n",
            "\n"
          ]
        }
      ],
      "source": [
        "string_1 = '12345'\n",
        "print(string_1[1:5:1])\n",
        "print(string_1[5:0:-1])\n",
        "print(string_1[1:5:1]) \n",
        "# no selecciona nada: desde el principio hasta el final tiene que estar en la misma dirección que el contador de pasos\n",
        "# si el contador de pasos es positivo la posición indicada por fin tiene que estar a la derecha de la posición indicada por inicio\n",
        "# si el contador de pasos es negativo, la posición indicada por el final tiene que estar a la izquierda de la posición indicada por el inicio\n",
        "print(string_1[5:1:1])  "
      ]
    },
    {
      "cell_type": "code",
      "execution_count": null,
      "metadata": {
        "id": "sG1zMMbXkQlu",
        "outputId": "7a020f5e-50c1-4814-9390-982c6070859b"
      },
      "outputs": [
        {
          "name": "stdout",
          "output_type": "stream",
          "text": [
            "24\n",
            "53\n"
          ]
        }
      ],
      "source": [
        "string_1 = '12345'\n",
        "print(string_1[1:5:2])\n",
        "print(string_1[5:1:-2])"
      ]
    },
    {
      "cell_type": "code",
      "execution_count": null,
      "metadata": {
        "id": "k25UBdC8kQlu",
        "outputId": "9c69ce6d-44a8-4481-eecd-e10f278cfaa3"
      },
      "outputs": [
        {
          "name": "stdout",
          "output_type": "stream",
          "text": [
            "54\n",
            "54321\n"
          ]
        }
      ],
      "source": [
        "string_1 = '12345'\n",
        "print(string_1[:2:-1])\n",
        "print(string_1[::-1])"
      ]
    },
    {
      "cell_type": "markdown",
      "metadata": {
        "id": "qSAXyNAgkQlu"
      },
      "source": [
        "### Editando cadenas(string)\n",
        "#### Le mostramos un método, hay más pero no los tratamos en el curso porque son menos flexibles y legibles. Menos Pythonico como diría un verdadero creyente de Python"
      ]
    },
    {
      "cell_type": "code",
      "execution_count": null,
      "metadata": {
        "id": "llVAKzN6kQlu"
      },
      "outputs": [],
      "source": [
        "name = \"Person\""
      ]
    },
    {
      "cell_type": "code",
      "execution_count": null,
      "metadata": {
        "id": "K-vTO3ZAkQlu",
        "outputId": "4cb43c37-99de-4195-9fba-0bc49265bb56",
        "colab": {
          "base_uri": "https://localhost:8080/"
        }
      },
      "outputs": [
        {
          "output_type": "stream",
          "name": "stdout",
          "text": [
            "Hello Doris and otras personas\n",
            "Do you want 4 coffee\n"
          ]
        }
      ],
      "source": [
        "name = \"Doris\"\n",
        "personas = 2\n",
        "string = f\"Hello {name} and {'otras personas'}\\nDo you want {personas*2} coffee\" \n",
        "print (string)"
      ]
    },
    {
      "cell_type": "code",
      "execution_count": null,
      "metadata": {
        "id": "PpLnJ0zNkQlu",
        "outputId": "da693dd1-80b8-4bf6-9622-f42138bbb37d"
      },
      "outputs": [
        {
          "name": "stdout",
          "output_type": "stream",
          "text": [
            "Hello Person\n",
            "Do you want 4 coffee\n",
            "\n"
          ]
        }
      ],
      "source": [
        "name = \"Person\"\n",
        "amount = 2\n",
        "string = f\"\"\"Hello {name}\n",
        "Do you want {amount*2} coffee\n",
        "\"\"\"\n",
        "print (string)"
      ]
    },
    {
      "cell_type": "code",
      "source": [
        "nombre1= \"Hello\"\n",
        "nombre2= \"Hola\"\n",
        "print(nombre1+nombre2)"
      ],
      "metadata": {
        "colab": {
          "base_uri": "https://localhost:8080/"
        },
        "id": "tWNlNyiU-Yyc",
        "outputId": "7213d243-2119-451d-809b-2e6065dd49b0"
      },
      "execution_count": null,
      "outputs": [
        {
          "output_type": "stream",
          "name": "stdout",
          "text": [
            "HelloHola\n"
          ]
        }
      ]
    },
    {
      "cell_type": "code",
      "source": [
        "print('Hola'+'a todos')  #alt 39 comilla simple   alt gr + ? =\\\n",
        "print('Hola'+ '\\ta todos')\n",
        "print('Hola' + '\\na todos')"
      ],
      "metadata": {
        "colab": {
          "base_uri": "https://localhost:8080/"
        },
        "id": "lOJ5jNVP_VDc",
        "outputId": "7af69fc5-4f57-4485-ea18-b3bd7342758a"
      },
      "execution_count": null,
      "outputs": [
        {
          "output_type": "stream",
          "name": "stdout",
          "text": [
            "Holaa todos\n",
            "Hola\ta todos\n",
            "Hola\n",
            "a todos\n"
          ]
        }
      ]
    },
    {
      "cell_type": "markdown",
      "metadata": {
        "id": "ex_xJByRkQlv"
      },
      "source": [
        "## Booleans"
      ]
    },
    {
      "cell_type": "code",
      "execution_count": null,
      "metadata": {
        "id": "fMW5WExqkQlv",
        "colab": {
          "base_uri": "https://localhost:8080/"
        },
        "outputId": "d0a95dfb-f140-4bef-ef6d-4a7019dd8564"
      },
      "outputs": [
        {
          "output_type": "stream",
          "name": "stdout",
          "text": [
            "True\n",
            "False\n",
            "True\n",
            "False\n"
          ]
        }
      ],
      "source": [
        "age = 70\n",
        "blood_type = 'A'\n",
        "print(age > 15)\n",
        "print(age < 60)\n",
        "print(blood_type == 'A')\n",
        "print(blood_type == 'B')"
      ]
    },
    {
      "cell_type": "code",
      "execution_count": null,
      "metadata": {
        "id": "2vGyop4qkQlv",
        "colab": {
          "base_uri": "https://localhost:8080/"
        },
        "outputId": "5977f8a3-b4b2-40db-c80b-7aa5570b3c32"
      },
      "outputs": [
        {
          "output_type": "stream",
          "name": "stdout",
          "text": [
            "False\n",
            "False\n"
          ]
        }
      ],
      "source": [
        "print(age > 15 and age < 60)\n",
        "print(15 < age < 60)"
      ]
    },
    {
      "cell_type": "code",
      "execution_count": null,
      "metadata": {
        "id": "VfXpCLTkkQlv",
        "scrolled": true,
        "colab": {
          "base_uri": "https://localhost:8080/"
        },
        "outputId": "593a7bff-a438-4b88-fe09-3a430293a771"
      },
      "outputs": [
        {
          "output_type": "stream",
          "name": "stdout",
          "text": [
            "True\n"
          ]
        }
      ],
      "source": [
        "print(age > 15 and (blood_type == 'A' or blood_type == 'B'))"
      ]
    },
    {
      "cell_type": "markdown",
      "metadata": {
        "id": "6QW4cg8KkQlv"
      },
      "source": [
        "### Si usa ciertos objetos en una configuración de booleans, se verán como Verdadero o Falso\n",
        "### Los siguientes valores se verán como falsos, todos los demás como verdaderos. En lenguaje informático llamamos a estos valores False y a todos los demás True"
      ]
    },
    {
      "cell_type": "code",
      "execution_count": null,
      "metadata": {
        "id": "xxdPT1sikQlv",
        "outputId": "db8b0cc8-5b8a-4745-f003-9a9d01c9d5d6"
      },
      "outputs": [
        {
          "name": "stdout",
          "output_type": "stream",
          "text": [
            "False\n",
            "False\n",
            "False\n",
            "False\n",
            "False\n",
            "False\n",
            "False\n",
            "False\n",
            "False\n",
            "False\n",
            "False\n",
            "False\n"
          ]
        }
      ],
      "source": [
        "from decimal import Decimal\n",
        "from fractions import Fraction\n",
        "print(bool(None))\n",
        "print(bool(False))\n",
        "print(bool(\"\"))\n",
        "print(bool(0))\n",
        "print(bool(0.0))\n",
        "print(bool(0j))\n",
        "print(bool(Decimal(0)))\n",
        "print(bool(Fraction(0, 1)))\n",
        "print(bool([]))\n",
        "print(bool({}))\n",
        "print(bool(tuple()))\n",
        "print(bool(set()))"
      ]
    },
    {
      "cell_type": "markdown",
      "metadata": {
        "id": "0-JYXdUxkQlv"
      },
      "source": [
        "### 'and' y 'or'"
      ]
    },
    {
      "cell_type": "code",
      "execution_count": null,
      "metadata": {
        "id": "zITCoAx2kQlv",
        "outputId": "c63620bf-122d-405a-e515-eccbbd50f2e6"
      },
      "outputs": [
        {
          "name": "stdout",
          "output_type": "stream",
          "text": [
            "True\n",
            "True\n",
            "True\n",
            "False\n",
            "True\n",
            "False\n",
            "False\n",
            "False\n"
          ]
        }
      ],
      "source": [
        "print(True or True)\n",
        "print(True and True)\n",
        "\n",
        "print(True or False)\n",
        "print(True and False)\n",
        "\n",
        "print(False or True)\n",
        "print(False and True)\n",
        "\n",
        "print(False or False)\n",
        "print(False and False)"
      ]
    },
    {
      "cell_type": "code",
      "source": [
        "print(True or False)"
      ],
      "metadata": {
        "colab": {
          "base_uri": "https://localhost:8080/"
        },
        "id": "1b0-z_MOELpy",
        "outputId": "f9cfa688-c411-4478-93cf-6c04dff3bbe4"
      },
      "execution_count": null,
      "outputs": [
        {
          "output_type": "stream",
          "name": "stdout",
          "text": [
            "True\n"
          ]
        }
      ]
    },
    {
      "cell_type": "code",
      "source": [
        "print(True and False)"
      ],
      "metadata": {
        "colab": {
          "base_uri": "https://localhost:8080/"
        },
        "id": "a1UaiUetEa8q",
        "outputId": "ce14416f-8a1d-4aa9-a52b-7602c5c06307"
      },
      "execution_count": null,
      "outputs": [
        {
          "output_type": "stream",
          "name": "stdout",
          "text": [
            "False\n"
          ]
        }
      ]
    },
    {
      "cell_type": "markdown",
      "metadata": {
        "id": "8G9iBXIskQlw"
      },
      "source": [
        "### Parece simple, pero en realidad Python devuelve el valor que hace and , or sean definitivamente verdaderos o falsos."
      ]
    },
    {
      "cell_type": "code",
      "execution_count": null,
      "metadata": {
        "id": "aNIxPSw5kQlw",
        "outputId": "b6df419b-1221-4a2f-c9d5-fb21fcfd2c3f",
        "scrolled": true
      },
      "outputs": [
        {
          "name": "stdout",
          "output_type": "stream",
          "text": [
            "Default value\n",
            "1\n"
          ]
        }
      ],
      "source": [
        "print(\"\" or \"Default value\")\n",
        "print(\"1\" or \"Default value\")"
      ]
    },
    {
      "cell_type": "markdown",
      "metadata": {
        "id": "UDxKT5hkkQlw"
      },
      "source": [
        "### Use de not"
      ]
    },
    {
      "cell_type": "code",
      "execution_count": null,
      "metadata": {
        "id": "2VZhQa5wkQlw",
        "outputId": "2eda9089-403a-4fac-88e9-c9c9e1afb04b",
        "scrolled": true
      },
      "outputs": [
        {
          "name": "stdout",
          "output_type": "stream",
          "text": [
            "False\n",
            "True\n",
            "False\n",
            "True\n"
          ]
        }
      ],
      "source": [
        "print(not True)\n",
        "print(not False)\n",
        "\n",
        "print(not '1')\n",
        "print(not '')"
      ]
    },
    {
      "cell_type": "code",
      "execution_count": null,
      "metadata": {
        "id": "6xXNNZhJkQlw",
        "outputId": "89ec711e-f8ea-4fab-9e26-b88de9e2394e"
      },
      "outputs": [
        {
          "name": "stdout",
          "output_type": "stream",
          "text": [
            "Bye, bye\n"
          ]
        }
      ],
      "source": [
        "boolean = True\n",
        "\n",
        "if boolean == True:\n",
        "    print('Bye, bye')\n",
        "else:\n",
        "    print(1 + '1')"
      ]
    },
    {
      "cell_type": "code",
      "execution_count": null,
      "metadata": {
        "id": "Mk-QgYIzkQlw",
        "outputId": "c3c474b1-9cf3-4c56-cbc8-43d8bc4d7597",
        "colab": {
          "base_uri": "https://localhost:8080/",
          "height": 244
        }
      },
      "outputs": [
        {
          "output_type": "error",
          "ename": "TypeError",
          "evalue": "ignored",
          "traceback": [
            "\u001b[0;31m---------------------------------------------------------------------------\u001b[0m",
            "\u001b[0;31mTypeError\u001b[0m                                 Traceback (most recent call last)",
            "\u001b[0;32m<ipython-input-95-27db96822add>\u001b[0m in \u001b[0;36m<module>\u001b[0;34m()\u001b[0m\n\u001b[1;32m      1\u001b[0m \u001b[0mboolean\u001b[0m\u001b[0;34m=\u001b[0m\u001b[0;32mTrue\u001b[0m\u001b[0;34m\u001b[0m\u001b[0;34m\u001b[0m\u001b[0m\n\u001b[1;32m      2\u001b[0m \u001b[0;32mif\u001b[0m \u001b[0mboolean\u001b[0m \u001b[0;34m==\u001b[0m \u001b[0;32mTrue\u001b[0m\u001b[0;34m:\u001b[0m\u001b[0;34m\u001b[0m\u001b[0;34m\u001b[0m\u001b[0m\n\u001b[0;32m----> 3\u001b[0;31m      \u001b[0mprint\u001b[0m\u001b[0;34m(\u001b[0m\u001b[0;36m1\u001b[0m \u001b[0;34m+\u001b[0m \u001b[0;34m'1'\u001b[0m\u001b[0;34m)\u001b[0m\u001b[0;34m\u001b[0m\u001b[0;34m\u001b[0m\u001b[0m\n\u001b[0m\u001b[1;32m      4\u001b[0m \u001b[0;32melse\u001b[0m\u001b[0;34m:\u001b[0m\u001b[0;34m\u001b[0m\u001b[0;34m\u001b[0m\u001b[0m\n\u001b[1;32m      5\u001b[0m     \u001b[0mprint\u001b[0m\u001b[0;34m(\u001b[0m\u001b[0;34m'Bye, bye'\u001b[0m\u001b[0;34m)\u001b[0m\u001b[0;34m\u001b[0m\u001b[0;34m\u001b[0m\u001b[0m\n",
            "\u001b[0;31mTypeError\u001b[0m: unsupported operand type(s) for +: 'int' and 'str'"
          ]
        }
      ],
      "source": [
        "boolean=True\n",
        "if boolean == True:\n",
        "     print(1 + '1')\n",
        "else:\n",
        "    print('Bye, bye')"
      ]
    },
    {
      "cell_type": "markdown",
      "metadata": {
        "id": "I1HdZjoikQlx"
      },
      "source": [
        "### Python hace poca conversión de tipos, en comparación con otros lenguajes"
      ]
    },
    {
      "cell_type": "code",
      "execution_count": null,
      "metadata": {
        "id": "uV74W98kkQlx",
        "outputId": "6d61fedb-a821-4b5d-bd02-a8c6a7acd63d",
        "scrolled": true
      },
      "outputs": [
        {
          "ename": "TypeError",
          "evalue": "unsupported operand type(s) for +: 'int' and 'str'",
          "output_type": "error",
          "traceback": [
            "\u001b[1;31m---------------------------------------------------------------------------\u001b[0m",
            "\u001b[1;31mTypeError\u001b[0m                                 Traceback (most recent call last)",
            "\u001b[1;32m<ipython-input-83-cd5e5f4d809d>\u001b[0m in \u001b[0;36m<module>\u001b[1;34m\u001b[0m\n\u001b[1;32m----> 1\u001b[1;33m \u001b[0mprint\u001b[0m\u001b[1;33m(\u001b[0m\u001b[1;36m1\u001b[0m \u001b[1;33m+\u001b[0m \u001b[1;34m'1'\u001b[0m\u001b[1;33m)\u001b[0m\u001b[1;33m\u001b[0m\u001b[1;33m\u001b[0m\u001b[0m\n\u001b[0m",
            "\u001b[1;31mTypeError\u001b[0m: unsupported operand type(s) for +: 'int' and 'str'"
          ]
        }
      ],
      "source": [
        "print(1 + '1')"
      ]
    },
    {
      "cell_type": "markdown",
      "metadata": {
        "id": "uE7OPxeWkQlx"
      },
      "source": [
        "### A pesar de que lo siguinete funciona las transformaciones implicitas solo funcionan entre los mismo tipos de datos, numeros con numeros de punto flotante"
      ]
    },
    {
      "cell_type": "code",
      "execution_count": null,
      "metadata": {
        "id": "aPQPtmYAkQlx",
        "outputId": "7244124a-47a6-4dcb-d2f5-5dc7ebaf4820",
        "scrolled": true
      },
      "outputs": [
        {
          "name": "stdout",
          "output_type": "stream",
          "text": [
            "2.0\n"
          ]
        }
      ],
      "source": [
        "print(1 + 1.0)"
      ]
    },
    {
      "cell_type": "code",
      "execution_count": null,
      "metadata": {
        "id": "XmG-aWxbkQlx",
        "outputId": "1d5919a8-751f-4fd6-b5a4-ecb1e482fddd",
        "scrolled": true
      },
      "outputs": [
        {
          "name": "stdout",
          "output_type": "stream",
          "text": [
            "2.0\n",
            "2\n"
          ]
        }
      ],
      "source": [
        "print(float(1) + 1.0)\n",
        "print(1 + int(1.0))"
      ]
    },
    {
      "cell_type": "code",
      "source": [
        "a=1\n",
        "print(int(a)+1)"
      ],
      "metadata": {
        "colab": {
          "base_uri": "https://localhost:8080/"
        },
        "id": "rZT71Nx_FbPg",
        "outputId": "7e8ff0bc-7e7d-465b-e3d2-5d851a15d906"
      },
      "execution_count": null,
      "outputs": [
        {
          "output_type": "stream",
          "name": "stdout",
          "text": [
            "2\n"
          ]
        }
      ]
    },
    {
      "cell_type": "markdown",
      "metadata": {
        "id": "AJVUoAqHkQlx"
      },
      "source": [
        "### En Python, a menudo puedes hacer una conversión de tipo explícita"
      ]
    },
    {
      "cell_type": "code",
      "execution_count": null,
      "metadata": {
        "id": "xG0ROswpkQlx",
        "outputId": "91fc7de1-41d1-4d6a-80f4-753fe739af9c"
      },
      "outputs": [
        {
          "name": "stdout",
          "output_type": "stream",
          "text": [
            "2\n"
          ]
        }
      ],
      "source": [
        "value= 1 + int('1')\n",
        "print(value)"
      ]
    },
    {
      "cell_type": "code",
      "execution_count": null,
      "metadata": {
        "id": "uSKD-mC1kQlx",
        "outputId": "f10e3023-6f82-4d16-a937-0aaa6f1cdbf0"
      },
      "outputs": [
        {
          "name": "stdout",
          "output_type": "stream",
          "text": [
            "1\n",
            "1.0\n",
            "True\n"
          ]
        }
      ],
      "source": [
        "print(int('1'))\n",
        "print(float('1'))\n",
        "print(bool('1'))"
      ]
    },
    {
      "cell_type": "code",
      "execution_count": null,
      "metadata": {
        "id": "JHM-k0AdkQly",
        "outputId": "ca316648-1f64-4dbb-c65e-4723a9203bb2"
      },
      "outputs": [
        {
          "name": "stdout",
          "output_type": "stream",
          "text": [
            "False\n"
          ]
        }
      ],
      "source": [
        "print(1 == '1')"
      ]
    },
    {
      "cell_type": "code",
      "execution_count": null,
      "metadata": {
        "id": "VSOykLTgkQly",
        "outputId": "8c474493-1eb5-4682-c89a-4ad09582faf1",
        "colab": {
          "base_uri": "https://localhost:8080/"
        }
      },
      "outputs": [
        {
          "output_type": "stream",
          "name": "stdout",
          "text": [
            "False\n",
            "True\n"
          ]
        }
      ],
      "source": [
        "print(str(1) != '1')\n",
        "print(str(1) is not '1')"
      ]
    },
    {
      "cell_type": "markdown",
      "metadata": {
        "id": "16V5hCz_kQly"
      },
      "source": [
        "# Collecciones"
      ]
    },
    {
      "cell_type": "markdown",
      "metadata": {
        "id": "3fDaAi91kQly"
      },
      "source": [
        "## Una colección es un objeto cuyo valor es una colección de direcciones, cada dirección de esa colección apunta a (la dirección de) un objeto separado\n",
        "## Si decimos con referencia a colecciones, que una colección es inmutable o mutable nos referimos a los objetos individuales señalados por esas direcciones, en la colección la mutabilidad se decide por el tipo de objeto individual"
      ]
    },
    {
      "cell_type": "markdown",
      "metadata": {
        "id": "btGirsKXkQly"
      },
      "source": [
        "## Listas\n",
        "### Las listas son mutables"
      ]
    },
    {
      "cell_type": "code",
      "execution_count": null,
      "metadata": {
        "id": "8fcpg74fkQly",
        "colab": {
          "base_uri": "https://localhost:8080/"
        },
        "outputId": "a6b81ccc-5e63-4a99-d09f-04db0418787d"
      },
      "outputs": [
        {
          "output_type": "stream",
          "name": "stdout",
          "text": [
            "The value of list_1 is [1, 2, 3] and its address is 140489701951440\n",
            "The value of list_1 is [1, 1, 3] and its address is 140489701951440\n"
          ]
        }
      ],
      "source": [
        "list_1 = [1, 2, 3]\n",
        "print(f\"The value of list_1 is {list_1} and its address is {id(list_1)}\")\n",
        "list_1[1] = 1\n",
        "print(f\"The value of list_1 is {list_1} and its address is {id(list_1)}\")"
      ]
    },
    {
      "cell_type": "code",
      "execution_count": null,
      "metadata": {
        "id": "Nj_SRKPMkQly"
      },
      "outputs": [],
      "source": [
        "list_1 = [1, 2, 3]\n",
        "print(f\"The value of list_1 is {list_1} and its address is {id(list_1)}\")\n",
        "list_1 = [1, 1, 3]\n",
        "print(f\"The value of list_1 is {list_1} and its address is {id(list_1)}\")"
      ]
    },
    {
      "cell_type": "code",
      "execution_count": null,
      "metadata": {
        "id": "SMUNNl5MkQlz"
      },
      "outputs": [],
      "source": [
        "list_1 = [1, 2, 3]\n",
        "print(f\"The value of list_1 is {list_1} and its address is {id(list_1)}\")\n",
        "list_1 = []\n",
        "print(f\"The value of list_1 is {list_1} and its address is {id(list_1)}\")"
      ]
    },
    {
      "cell_type": "markdown",
      "metadata": {
        "id": "8mWGdFE_kQlz"
      },
      "source": [
        "### Creacion de lista"
      ]
    },
    {
      "cell_type": "code",
      "execution_count": null,
      "metadata": {
        "id": "7hWp6TtDkQlz"
      },
      "outputs": [],
      "source": [
        "from decimal import Decimal\n",
        "from fractions import Fraction\n",
        "# Puedes guardar lo que sea en una lista\n",
        "list_1 = ['A', True, 1,2.0, Decimal(1), Fraction(1,3)] \n",
        "print(list_1)"
      ]
    },
    {
      "cell_type": "markdown",
      "metadata": {
        "id": "7VPnV0CmkQlz"
      },
      "source": [
        "### Indexación de un elemento en una lista (esto funciona igual que la indexación y el recorte de una cadena, así que si entiende que esto debería ser fácil\n",
        "#### Un índice no negativo indexa desde la izquierda, donde 0 se refiere al elemento más a la izquierda\n",
        "#### Un índice negativo indexa desde la derecha, donde -1 se refiere al elemento más a la derecha\n",
        "#### Si su índice va más allá de los elementos disponibles en la lista, obtiene un IndexError"
      ]
    },
    {
      "cell_type": "code",
      "execution_count": null,
      "metadata": {
        "id": "p3ao3sEJkQlz"
      },
      "outputs": [],
      "source": [
        "list_1 = [1,2,3,4,5]"
      ]
    },
    {
      "cell_type": "code",
      "execution_count": null,
      "metadata": {
        "id": "e-LMz_ECkQlz",
        "colab": {
          "base_uri": "https://localhost:8080/"
        },
        "outputId": "4859bf53-2726-4f5f-919e-51828ce0e64f"
      },
      "outputs": [
        {
          "output_type": "stream",
          "name": "stdout",
          "text": [
            "1\n",
            "4\n"
          ]
        }
      ],
      "source": [
        "print(list_1[0])\n",
        "print(list_1[3])"
      ]
    },
    {
      "cell_type": "code",
      "execution_count": null,
      "metadata": {
        "id": "ckm0NsiDkQlz",
        "colab": {
          "base_uri": "https://localhost:8080/"
        },
        "outputId": "c840bc51-2cd6-4729-8db5-adf8c319692a"
      },
      "outputs": [
        {
          "output_type": "stream",
          "name": "stdout",
          "text": [
            "5\n",
            "3\n"
          ]
        }
      ],
      "source": [
        "print(list_1[-1])\n",
        "print(list_1[-3])"
      ]
    },
    {
      "cell_type": "code",
      "execution_count": null,
      "metadata": {
        "id": "Y3yBDuQWkQlz",
        "colab": {
          "base_uri": "https://localhost:8080/",
          "height": 171
        },
        "outputId": "8b4b21c2-80b2-439a-e6f7-f19314ddd739"
      },
      "outputs": [
        {
          "output_type": "error",
          "ename": "IndexError",
          "evalue": "ignored",
          "traceback": [
            "\u001b[0;31m---------------------------------------------------------------------------\u001b[0m",
            "\u001b[0;31mIndexError\u001b[0m                                Traceback (most recent call last)",
            "\u001b[0;32m<ipython-input-105-15e7a0983f23>\u001b[0m in \u001b[0;36m<module>\u001b[0;34m()\u001b[0m\n\u001b[0;32m----> 1\u001b[0;31m \u001b[0mprint\u001b[0m\u001b[0;34m(\u001b[0m\u001b[0mlist_1\u001b[0m\u001b[0;34m[\u001b[0m\u001b[0;36m5\u001b[0m\u001b[0;34m]\u001b[0m\u001b[0;34m)\u001b[0m\u001b[0;34m\u001b[0m\u001b[0;34m\u001b[0m\u001b[0m\n\u001b[0m",
            "\u001b[0;31mIndexError\u001b[0m: list index out of range"
          ]
        }
      ],
      "source": [
        "print(list_1[5])"
      ]
    },
    {
      "cell_type": "code",
      "execution_count": null,
      "metadata": {
        "id": "SyufP3HmkQlz",
        "colab": {
          "base_uri": "https://localhost:8080/",
          "height": 171
        },
        "outputId": "4ff6de21-5a0f-40e4-a422-0a8c8ccbf51d"
      },
      "outputs": [
        {
          "output_type": "error",
          "ename": "IndexError",
          "evalue": "ignored",
          "traceback": [
            "\u001b[0;31m---------------------------------------------------------------------------\u001b[0m",
            "\u001b[0;31mIndexError\u001b[0m                                Traceback (most recent call last)",
            "\u001b[0;32m<ipython-input-106-a78a592919e9>\u001b[0m in \u001b[0;36m<module>\u001b[0;34m()\u001b[0m\n\u001b[0;32m----> 1\u001b[0;31m \u001b[0mprint\u001b[0m\u001b[0;34m(\u001b[0m\u001b[0mlist_1\u001b[0m\u001b[0;34m[\u001b[0m\u001b[0;34m-\u001b[0m\u001b[0;36m6\u001b[0m\u001b[0;34m]\u001b[0m\u001b[0;34m)\u001b[0m\u001b[0;34m\u001b[0m\u001b[0;34m\u001b[0m\u001b[0m\n\u001b[0m",
            "\u001b[0;31mIndexError\u001b[0m: list index out of range"
          ]
        }
      ],
      "source": [
        "print(list_1[-6])"
      ]
    },
    {
      "cell_type": "markdown",
      "metadata": {
        "id": "hD5sFWnPkQl0"
      },
      "source": [
        "### Cortar un conjunto de elementos de una lista con [start:end]\n",
        "#### Inicio indica el primer elemento de la lista que debe seleccionarse, fin - 1 indica el último elemento que debe seleccionarse\n",
        "#### Si se omite el primer índice, el valor predeterminado es 0, si se omite el último índice, el valor predeterminado es la longitud de la lista"
      ]
    },
    {
      "cell_type": "code",
      "execution_count": null,
      "metadata": {
        "id": "FWP2ZuI5kQl0",
        "colab": {
          "base_uri": "https://localhost:8080/"
        },
        "outputId": "7ad1b597-f12f-429f-871a-0c2a9e7f4596"
      },
      "outputs": [
        {
          "output_type": "stream",
          "name": "stdout",
          "text": [
            "[2, 3]\n",
            "[3]\n",
            "[2, 3]\n"
          ]
        }
      ],
      "source": [
        "list_1 = [1,2,3,4,5]\n",
        "print(list_1[1:3])\n",
        "print(list_1[-3:-2])\n",
        "print(list_1[-4:-2])"
      ]
    },
    {
      "cell_type": "code",
      "execution_count": null,
      "metadata": {
        "id": "8qi_ch5ZkQl0",
        "colab": {
          "base_uri": "https://localhost:8080/"
        },
        "outputId": "87afcaae-7e95-4a6d-eaa6-fe133721bd28"
      },
      "outputs": [
        {
          "output_type": "stream",
          "name": "stdout",
          "text": [
            "[1, 2, 3]\n",
            "[4, 5]\n",
            "[1, 2, 3, 4, 5]\n"
          ]
        }
      ],
      "source": [
        "list_1 = [1,2,3,4,5]\n",
        "lista_2 = [a,b,c,d,e]\n",
        "print(list_1[:3])\n",
        "print(list_1[3:])\n",
        "print(list_1[:])"
      ]
    },
    {
      "cell_type": "code",
      "execution_count": null,
      "metadata": {
        "id": "PH59qtIPkQl0",
        "colab": {
          "base_uri": "https://localhost:8080/"
        },
        "outputId": "8eb2921f-3aec-447f-bdcb-973d7918bfd4"
      },
      "outputs": [
        {
          "output_type": "stream",
          "name": "stdout",
          "text": [
            "[4, 3]\n",
            "[3, 4]\n",
            "[5, 4]\n",
            "[4, 5]\n",
            "[1, 2, 3]\n",
            "[1, 2, 3]\n"
          ]
        }
      ],
      "source": [
        "list_1 = [1,2,3,4,5]\n",
        "print(list_1[-2:-4:-1])  #Para que de 4 y 3  #No coge el menor\n",
        "print(list_1[-3:-1])     #Para que de 3 y 4  #No coge el mayor\n",
        "print(list_1[-1:-3:-1])  #Para que de 5 y 4\n",
        "print(list_1[3:])        #Para que de 4 y 5\n",
        "print(list_1[:-2])       #Para que de 1,2,3  -> Otra forma\n",
        "print(list_1[0:3])\n"
      ]
    },
    {
      "cell_type": "markdown",
      "metadata": {
        "id": "UxZEi0ClkQl0"
      },
      "source": [
        "### Cortar una lista agregando un contador de pasos [inicio:fin:paso]\n",
        "#### Si el contador de pasos es positivo indica que se deben seleccionar los elementos con inicio de índice + tiempos de paso 0,1,2, ...\n",
        "#### Si el contador de pasos es negativo indica que se deben seleccionar los elementos con final de índice - tiempos de paso 0,1,2, ...\n",
        "### Sin embargo, tenemos que dejar de seleccionar cuando la selección alcanza (o va más allá) del elemento indicado por el índice final\n",
        "### Si no se proporciona un valor de paso, el valor predeterminado es 1"
      ]
    },
    {
      "cell_type": "code",
      "execution_count": null,
      "metadata": {
        "id": "63tPguPBkQl0",
        "colab": {
          "base_uri": "https://localhost:8080/"
        },
        "outputId": "ead42158-3bed-4c60-9e96-e03ca834a185"
      },
      "outputs": [
        {
          "output_type": "stream",
          "name": "stdout",
          "text": [
            "[2, 3, 4, 5]\n",
            "[5, 4, 3]\n",
            "[2, 3, 4, 5]\n",
            "[5, 4, 3]\n"
          ]
        }
      ],
      "source": [
        "list_1 = [1,2,3,4,5]\n",
        "\n",
        "print(list_1[1:5:1])\n",
        "print(list_1[5:1:-1])\n",
        "print(list_1[1:5:1]) \n",
        "# no selecciona nada: desde el principio hasta el final tiene que estar en la misma dirección que el contador de pasos\n",
        "# si el contador de pasos es positivo la posición indicada por fin tiene que estar a la derecha de la posición indicada por inicio\n",
        "# si el contador de pasos es negativo, la posición indicada por el final tiene que estar a la izquierda de la posición indicada por el inicio\n",
        "print(list_1[5:1:-1])  \n",
        "# no selecciona nada: desde el principio hasta el final tiene que estar en la misma dirección que el contador de pasos\n",
        "# si el contador de pasos es positivo la posición indicada por fin tiene que estar a la derecha de la posición indicada por inicio\n",
        "# si el contador de pasos es negativo, la posición indicada por el final tiene que estar a la izquierda de la posición indicada por el inicio"
      ]
    },
    {
      "cell_type": "code",
      "execution_count": null,
      "metadata": {
        "id": "i9Q5sOSUkQl0",
        "colab": {
          "base_uri": "https://localhost:8080/"
        },
        "outputId": "3e613ff1-4a74-4d64-ec56-f4ba4e36e3b4"
      },
      "outputs": [
        {
          "output_type": "stream",
          "name": "stdout",
          "text": [
            "[2, 3, 4, 5]\n",
            "[2, 4]\n",
            "[2, 5]\n",
            "[2]\n",
            "[2]\n",
            "[5, 3]\n"
          ]
        }
      ],
      "source": [
        "list_1 = [1,2,3,4,5]\n",
        "print(list_1[1:5:1])\n",
        "print(list_1[1:5:2])\n",
        "print(list_1[1:5:3])\n",
        "print(list_1[1:5:4])\n",
        "print(list_1[1:5:5])\n",
        "\n",
        "print(list_1[5:1:-2])"
      ]
    },
    {
      "cell_type": "code",
      "execution_count": null,
      "metadata": {
        "id": "qTKaUJC_kQl0"
      },
      "outputs": [],
      "source": [
        "list_1 = [1,2,3,4,5]\n",
        "print(list_1[:2:-1])\n",
        "print(list_1[::-1])"
      ]
    },
    {
      "cell_type": "code",
      "execution_count": null,
      "metadata": {
        "id": "Uxfu0VVYkQl0"
      },
      "outputs": [],
      "source": [
        "list_1 = ['1', '2', '3', '4', '5']\n",
        "list_2 = list_1\n",
        "list_3 = list_1[:]\n",
        "print(list_1 == list_2 == list_3)\n",
        "print(list_1 is list_2)\n",
        "print(list_1 is list_3)"
      ]
    },
    {
      "cell_type": "markdown",
      "metadata": {
        "id": "74jFHgD6kQl1"
      },
      "source": [
        "### Cortar con [:] crea una copia de una lista con los mismos valores (direcciones de elementos) pero una identificación diferente, por lo que se crea un nuevo objeto"
      ]
    },
    {
      "cell_type": "code",
      "execution_count": null,
      "metadata": {
        "id": "rNLuliQIkQl1"
      },
      "outputs": [],
      "source": [
        "list_1 = [1, 2, 3]\n",
        "list_2 = list_1 \n",
        "# El objeto [1, 2, 3] ahora tiene dos nombres\n",
        "print(list_1 is list_2)\n",
        "list_3 = list_2[:]\n",
        "# list_2[:] crea un nuevo objeto, sin embargo con el mismo contenido [1, 2, 3], pero diferente id \n",
        "print(list_2 is list_3)\n",
        "print(list_2 == list_3)"
      ]
    },
    {
      "cell_type": "markdown",
      "metadata": {
        "id": "iuWv-mMBkQl1"
      },
      "source": [
        "### Las listas pueden contener listas y formar tablas de múltiples dimensiones\n",
        "#### Un ejemplo de tres en raya [https://en.wikipedia.org/wiki/Tic-tac-toe](https://en.wikipedia.org/wiki/Tic-tac-toe)"
      ]
    },
    {
      "cell_type": "code",
      "execution_count": null,
      "metadata": {
        "id": "nFZZyxRjkQl1"
      },
      "outputs": [],
      "source": [
        "tic_tac_toe_board = [[' ', ' ', ' '], [' ', ' ', ' '], [' ', ' ', ' ']]\n",
        "print(tic_tac_toe_board[0]) \n",
        "print(tic_tac_toe_board[1]) \n",
        "print(tic_tac_toe_board[2])\n",
        "print() \n",
        "# Esta es la situación inicial en Tic-tac-toe donde nadie hizo un movimiento todavía\n",
        "# Si toca la celda exactamente en el medio, escribe\n",
        "tic_tac_toe_board[1][1] = 'X'\n",
        "# El resultado es\n",
        "print(tic_tac_toe_board[0]) \n",
        "print(tic_tac_toe_board[1]) \n",
        "print(tic_tac_toe_board[2])\n",
        "print() \n",
        "# Si tu oponente juega la celda a tu derecha escribes\n",
        "tic_tac_toe_board[1][2] = 'O'\n",
        "# el resultado es \n",
        "print(tic_tac_toe_board[0]) \n",
        "print(tic_tac_toe_board[1]) \n",
        "print(tic_tac_toe_board[2])\n",
        "print() \n",
        "# el resto puede ser \n",
        "tic_tac_toe_board[0][2] = 'X'\n",
        "print(tic_tac_toe_board[0]) \n",
        "print(tic_tac_toe_board[1]) \n",
        "print(tic_tac_toe_board[2])\n",
        "print() \n",
        "tic_tac_toe_board[2][0] = 'O'\n",
        "print(tic_tac_toe_board[0]) \n",
        "print(tic_tac_toe_board[1]) \n",
        "print(tic_tac_toe_board[2])\n",
        "print() \n",
        "tic_tac_toe_board[0][0] = 'X'\n",
        "# resultado final\n",
        "print(tic_tac_toe_board[0]) \n",
        "print(tic_tac_toe_board[1]) \n",
        "print(tic_tac_toe_board[2])\n",
        "print()\n"
      ]
    },
    {
      "cell_type": "markdown",
      "metadata": {
        "id": "-Zb-rCRtkQl1"
      },
      "source": [
        "## Tuplas\n",
        "### Las tuplas son immutables"
      ]
    },
    {
      "cell_type": "markdown",
      "metadata": {
        "id": "j80VfAAqkQl1"
      },
      "source": [
        "### Creacion de tuplas"
      ]
    },
    {
      "cell_type": "code",
      "execution_count": null,
      "metadata": {
        "id": "mwgKQZWnkQl1"
      },
      "outputs": [],
      "source": [
        "from decimal import Decimal\n",
        "from fractions import Fraction\n",
        "tuple_1=('A', True, 1, 2.0, Decimal(1), Fraction(1,3))\n",
        "print(tuple_1)"
      ]
    },
    {
      "cell_type": "markdown",
      "metadata": {
        "id": "beQ7SL78kQl2"
      },
      "source": [
        "### Una tupla con un solo elemento"
      ]
    },
    {
      "cell_type": "code",
      "execution_count": null,
      "metadata": {
        "colab": {
          "base_uri": "https://localhost:8080/"
        },
        "id": "QyBjVuWDkQl2",
        "outputId": "984e23dd-eb36-475e-e6c2-cb242e809ba1"
      },
      "outputs": [
        {
          "name": "stdout",
          "output_type": "stream",
          "text": [
            "<class 'int'> 3\n",
            "<class 'tuple'> (3,)\n"
          ]
        }
      ],
      "source": [
        "tuple_1 = (3)\n",
        "print(type(tuple_1),tuple_1)\n",
        "tuple_1 = (3,)\n",
        "print(type(tuple_1),tuple_1)"
      ]
    },
    {
      "cell_type": "markdown",
      "metadata": {
        "id": "RwBlub-akQl2"
      },
      "source": [
        "### Diferencias entre tuplas y listas"
      ]
    },
    {
      "cell_type": "markdown",
      "metadata": {
        "id": "A3Zj57E1kQl2"
      },
      "source": [
        "### Puedes cambiar una lista pero no una tupla"
      ]
    },
    {
      "cell_type": "code",
      "execution_count": null,
      "metadata": {
        "id": "HqyqjeJLkQl2"
      },
      "outputs": [],
      "source": [
        "from decimal import Decimal\n",
        "from fractions import Fraction\n",
        "list_1 = ['A', True, 1,2.0, Decimal(1), Fraction(1,3)]\n",
        "tuple_1 = ('A', True, 1,2.0, Decimal(1), Fraction(1,3))\n",
        "list_1[3] = 3.0\n",
        "#tuple_1[3.0] = 3.0"
      ]
    },
    {
      "cell_type": "markdown",
      "metadata": {
        "id": "YUJoKmtnkQl2"
      },
      "source": [
        "### Puedes hacer una tupla sin parentesis"
      ]
    },
    {
      "cell_type": "code",
      "execution_count": null,
      "metadata": {
        "id": "ce2kN3XHkQl2"
      },
      "outputs": [],
      "source": [
        "tuple_1 = (1,2,3)\n",
        "tuple_2 = 1,2,3\n",
        "print(tuple_1)\n",
        "print(tuple_2)"
      ]
    },
    {
      "cell_type": "markdown",
      "metadata": {
        "id": "kByqMUWwkQl2"
      },
      "source": [
        "### La indexación y el corte funcionan igual con tuplas que con listas, sin embargo, hay una sutil diferencia cuando se usa el segmento [:]. En el caso de una tupla, no se crea ningún objeto nuevo, por lo que tuple_1 = tuple_2 tiene exactamente el mismo resultado que tuple_1 = tuple_2[:]"
      ]
    },
    {
      "cell_type": "code",
      "execution_count": null,
      "metadata": {
        "id": "bbjHHgVtkQl3"
      },
      "outputs": [],
      "source": [
        "tuple_1 = (1, 2, 3)\n",
        "tuple_2 = tuple_1 \n",
        "tuple_3 = tuple_2[:]\n",
        "print(tuple_1 is tuple_2 is tuple_3)"
      ]
    },
    {
      "cell_type": "markdown",
      "metadata": {
        "id": "yfM-6i9XkQl3"
      },
      "source": [
        "### A nice trick only with tuples"
      ]
    },
    {
      "cell_type": "code",
      "execution_count": null,
      "metadata": {
        "colab": {
          "base_uri": "https://localhost:8080/"
        },
        "id": "QCoy1KGCkQl3",
        "outputId": "1c2457ab-f410-45d3-abb3-af95f75f82c4"
      },
      "outputs": [
        {
          "name": "stdout",
          "output_type": "stream",
          "text": [
            "1 2\n",
            "2 1\n"
          ]
        }
      ],
      "source": [
        "x = 1\n",
        "y = 2\n",
        "print (x, y)\n",
        "x, y = y, x\n",
        "print (x, y)"
      ]
    },
    {
      "cell_type": "markdown",
      "metadata": {
        "id": "_9YMnwc3kQl3"
      },
      "source": [
        "## Diccionarios\n",
        "### Los diccionarios son mutables"
      ]
    },
    {
      "cell_type": "markdown",
      "metadata": {
        "id": "S9HqcqTmkQl3"
      },
      "source": [
        "### Creando un diccionario"
      ]
    },
    {
      "cell_type": "code",
      "execution_count": null,
      "metadata": {
        "id": "HHxL7UT7kQl3"
      },
      "outputs": [],
      "source": [
        "my_dictionary = {'blood type': 'A', 'Age': 30}\n",
        "print(my_dictionary)"
      ]
    },
    {
      "cell_type": "markdown",
      "metadata": {
        "id": "kXKNplXhkQl3"
      },
      "source": [
        "### Indexando un diccionario"
      ]
    },
    {
      "cell_type": "code",
      "execution_count": null,
      "metadata": {
        "id": "024ax1ggkQl3"
      },
      "outputs": [],
      "source": [
        "print(my_dictionary['blood type'])\n",
        "print(my_dictionary['Age'])"
      ]
    },
    {
      "cell_type": "code",
      "execution_count": null,
      "metadata": {
        "id": "wYMF0-vGkQl4",
        "scrolled": true
      },
      "outputs": [],
      "source": [
        "my_dictionary['blood type'] = 'B'\n",
        "print(my_dictionary)"
      ]
    },
    {
      "cell_type": "markdown",
      "metadata": {
        "id": "JiCLohB9kQl4"
      },
      "source": [
        "# Sets\n",
        "## Sets are mutable"
      ]
    },
    {
      "cell_type": "markdown",
      "metadata": {
        "id": "X2XmK_CdkQl4"
      },
      "source": [
        "### Creando un set"
      ]
    },
    {
      "cell_type": "code",
      "execution_count": null,
      "metadata": {
        "colab": {
          "base_uri": "https://localhost:8080/"
        },
        "id": "2D7TRf58kQl4",
        "outputId": "18fd352a-9dd2-4dc1-a38f-248e51fdfcb5"
      },
      "outputs": [
        {
          "name": "stdout",
          "output_type": "stream",
          "text": [
            "{1, 2, 3}\n"
          ]
        }
      ],
      "source": [
        "my_set = {1, 2, 3}\n",
        "print(my_set)"
      ]
    },
    {
      "cell_type": "markdown",
      "metadata": {
        "id": "C8JJ88dZkQl4"
      },
      "source": [
        "### Los elementos en un set deben ser inmutables"
      ]
    },
    {
      "cell_type": "code",
      "execution_count": null,
      "metadata": {
        "colab": {
          "base_uri": "https://localhost:8080/",
          "height": 187
        },
        "id": "VER2mkfAkQl4",
        "outputId": "4b06e399-f4c7-4f64-b4d2-004c71f01a44"
      },
      "outputs": [
        {
          "ename": "TypeError",
          "evalue": "ignored",
          "output_type": "error",
          "traceback": [
            "\u001b[0;31m---------------------------------------------------------------------------\u001b[0m",
            "\u001b[0;31mTypeError\u001b[0m                                 Traceback (most recent call last)",
            "\u001b[0;32m<ipython-input-8-267abe4981dd>\u001b[0m in \u001b[0;36m<module>\u001b[0;34m()\u001b[0m\n\u001b[0;32m----> 1\u001b[0;31m \u001b[0mmy_set\u001b[0m\u001b[0;34m=\u001b[0m\u001b[0;34m{\u001b[0m\u001b[0;36m1\u001b[0m\u001b[0;34m,\u001b[0m \u001b[0;34m'2'\u001b[0m\u001b[0;34m,\u001b[0m \u001b[0;34m[\u001b[0m\u001b[0;36m3\u001b[0m\u001b[0;34m]\u001b[0m\u001b[0;34m}\u001b[0m\u001b[0;34m\u001b[0m\u001b[0;34m\u001b[0m\u001b[0m\n\u001b[0m\u001b[1;32m      2\u001b[0m \u001b[0mprint\u001b[0m\u001b[0;34m(\u001b[0m\u001b[0mmy_set\u001b[0m\u001b[0;34m)\u001b[0m\u001b[0;34m\u001b[0m\u001b[0;34m\u001b[0m\u001b[0m\n",
            "\u001b[0;31mTypeError\u001b[0m: unhashable type: 'list'"
          ]
        }
      ],
      "source": [
        "my_set={1, '2', [3]}\n",
        "print(my_set)"
      ]
    },
    {
      "cell_type": "code",
      "execution_count": null,
      "metadata": {
        "colab": {
          "base_uri": "https://localhost:8080/"
        },
        "id": "2WTFBi3IkQl4",
        "outputId": "b9b9c707-d0d2-40e1-9c36-1edfd8a7f885"
      },
      "outputs": [
        {
          "name": "stdout",
          "output_type": "stream",
          "text": [
            "{1, '2', (3,)}\n"
          ]
        }
      ],
      "source": [
        "my_set={1, '2', (3,)}\n",
        "print(my_set)"
      ]
    },
    {
      "cell_type": "code",
      "execution_count": null,
      "metadata": {
        "colab": {
          "base_uri": "https://localhost:8080/"
        },
        "id": "dD-nP1I2_lL4",
        "outputId": "c8a8ca09-52e9-4b1c-bfad-aad9502eba9d"
      },
      "outputs": [
        {
          "data": {
            "text/plain": [
              "{(3,), 1, '2', 4}"
            ]
          },
          "execution_count": 12,
          "metadata": {},
          "output_type": "execute_result"
        }
      ],
      "source": [
        "my_set.add(4)\n",
        "my_set\n"
      ]
    },
    {
      "cell_type": "markdown",
      "metadata": {
        "id": "5l8LuoUIkQl4"
      },
      "source": [
        "## Qué diferencia a un conjunto de listas y tuplas\n",
        "### Los conjuntos nunca contienen el mismo elemento dos veces"
      ]
    },
    {
      "cell_type": "code",
      "execution_count": null,
      "metadata": {
        "colab": {
          "base_uri": "https://localhost:8080/"
        },
        "id": "yQ2jkiLwkQl4",
        "outputId": "730d2c86-c715-4048-fba9-d968c50b2654"
      },
      "outputs": [
        {
          "name": "stdout",
          "output_type": "stream",
          "text": [
            "[1, 2, 3, 1]\n",
            "(1, 2, 3, 1)\n",
            "{1, 2, 3}\n"
          ]
        }
      ],
      "source": [
        "my_list = [1, 2, 3, 1]\n",
        "my_tuple = (1, 2, 3, 1)\n",
        "my_set = {1, 2, 3, 1}\n",
        "print(my_list)\n",
        "print(my_tuple)\n",
        "print(my_set)"
      ]
    },
    {
      "cell_type": "markdown",
      "metadata": {
        "id": "OeNSfWQXkQl4"
      },
      "source": [
        "### ALgunos operadores tienen un significado diferente para los sets "
      ]
    },
    {
      "cell_type": "code",
      "execution_count": null,
      "metadata": {
        "id": "ZQ2OxWqlkQl5"
      },
      "outputs": [],
      "source": [
        "set_1 = {1, 2, 3}\n",
        "set_2 = {3, 4, 5}\n",
        "print (f\"La union del set_1 y set_2 es {set_1 | set_2}\")\n",
        "print (f\"La interseccion del set_1 y set_2 es {set_1 & set_2}\")\n",
        "print (f\"La diferencia del set_1 y set_2 es {set_1 - set_2}\")\n",
        "print (f\"La diferencia del set_2 y set_1 es {set_2 - set_1}\")\n",
        "print (f\"La diferencia simetrica del set_1 y set_2 es {set_1 ^ set_2}\")"
      ]
    },
    {
      "cell_type": "markdown",
      "metadata": {
        "id": "s3NEulsckQl5"
      },
      "source": [
        "# Métodos pertenecientes a tipos de datos\n",
        "## Dale un vistazo a estos métodos y experimenta con ellos. No es necesario que los recuerdes todos, pero es bueno tener una idea sobre las posibilidades y tal vez pueda usarlos. Información fácil entender sobre los métodos:\n",
        "### Para cadenas: [https://www.w3schools.com/python/python_strings.asp](https://www.w3schools.com/python/python_strings.asp) solo la última tabla\n",
        "### Para listas: [https://www.w3schools.com/python/python_lists.asp](https://www.w3schools.com/python/python_lists.asp) solo la última tabla\n",
        "### Para tuplas: [https://www.w3schools.com/python/python_tuples.asp](https://www.w3schools.com/python/python_tuples.asp) solo la última tabla\n",
        "### Para conjuntos: [https://www.w3schools.com/python/python_sets.asp](https://www.w3schools.com/python/python_sets.asp) solo la última tabla\n",
        "### Para diccionarios: [https://www.w3schools.com/python/python_dictionaries.asp](https://www.w3schools.com/python/python_dictionaries.asp) solo la última tabla\n",
        "## Por cierto, los sitios web de w3school no están bien vistos por los especialistas, debido a su carácter descuidado, y de hecho hay descuido, pero aprender un tema determinado rápido es un buen comienzo, pero más adelante en la vida, tal vez no presumas de tener lo usé ;-)"
      ]
    },
    {
      "cell_type": "markdown",
      "metadata": {
        "id": "GKy8e6kWkQl5"
      },
      "source": [
        "# Observaciones finales sobre tipos de datos"
      ]
    },
    {
      "cell_type": "markdown",
      "metadata": {
        "id": "NHZbaMFzkQl5"
      },
      "source": [
        "## Como crear listas , tuplas , etc vacias"
      ]
    },
    {
      "cell_type": "code",
      "execution_count": null,
      "metadata": {
        "id": "o0MK5kbHkQl5"
      },
      "outputs": [],
      "source": [
        "list_1 = []\n",
        "tuple_1 = ()\n",
        "dictionary_1 = {}\n",
        "set_1 = set()\n",
        "print(list_1)\n",
        "print(tuple_1)\n",
        "print(dictionary_1)\n",
        "print(set_1)"
      ]
    },
    {
      "cell_type": "markdown",
      "metadata": {
        "id": "A9aDX24SkQl5"
      },
      "source": [
        "## Puede usar colecciones como valores en listas, tuplas y diccionarios, pero las únicas colecciones como keys en los diccionarios son tuplas, ya que los keys de los diccionarios deben ser inmutables"
      ]
    },
    {
      "cell_type": "code",
      "execution_count": null,
      "metadata": {
        "colab": {
          "base_uri": "https://localhost:8080/"
        },
        "id": "6iaX5CRykQl5",
        "outputId": "d7a8ff4a-a703-4b59-a868-48e3327fd9a5"
      },
      "outputs": [
        {
          "name": "stdout",
          "output_type": "stream",
          "text": [
            "[[1, 2], (1, 2), {'a': '1'}, {1, 2}]\n",
            "([1, 2], (1, 2), {'a': '1'}, {1, 2})\n",
            "{(1, 2): {'a': '1'}}\n"
          ]
        }
      ],
      "source": [
        "list_1 = [[1,2],(1,2),{'a':'1'},{1,2}]\n",
        "tuple_1 = ([1,2],(1,2),{'a':'1'},{1,2})\n",
        "dictionary_1 = {(1,2):{'a':'1'}}\n",
        "print(list_1)\n",
        "print(tuple_1)\n",
        "print(dictionary_1)"
      ]
    },
    {
      "cell_type": "markdown",
      "metadata": {
        "id": "G2KcpK3DkQl5"
      },
      "source": [
        "## Immutabilidad y mutabilidad no son transitivas"
      ]
    },
    {
      "cell_type": "code",
      "execution_count": null,
      "metadata": {
        "colab": {
          "base_uri": "https://localhost:8080/",
          "height": 240
        },
        "id": "BykLXeePkQl5",
        "outputId": "5f0c9ed0-732c-48a8-ea75-a072854f42ca"
      },
      "outputs": [
        {
          "name": "stdout",
          "output_type": "stream",
          "text": [
            "The value of tuple_1 was (1, [2, 3], 4)\n"
          ]
        },
        {
          "ename": "TypeError",
          "evalue": "ignored",
          "output_type": "error",
          "traceback": [
            "\u001b[0;31m---------------------------------------------------------------------------\u001b[0m",
            "\u001b[0;31mTypeError\u001b[0m                                 Traceback (most recent call last)",
            "\u001b[0;32m<ipython-input-15-fec0183a3682>\u001b[0m in \u001b[0;36m<module>\u001b[0;34m()\u001b[0m\n\u001b[1;32m      2\u001b[0m \u001b[0mprint\u001b[0m\u001b[0;34m(\u001b[0m\u001b[0;34mf\"The value of tuple_1 was {tuple_1}\"\u001b[0m\u001b[0;34m)\u001b[0m\u001b[0;34m\u001b[0m\u001b[0;34m\u001b[0m\u001b[0m\n\u001b[1;32m      3\u001b[0m \u001b[0;34m\u001b[0m\u001b[0m\n\u001b[0;32m----> 4\u001b[0;31m \u001b[0mtuple_1\u001b[0m\u001b[0;34m[\u001b[0m\u001b[0;36m0\u001b[0m\u001b[0;34m]\u001b[0m \u001b[0;34m=\u001b[0m \u001b[0;36m5\u001b[0m\u001b[0;34m\u001b[0m\u001b[0;34m\u001b[0m\u001b[0m\n\u001b[0m\u001b[1;32m      5\u001b[0m \u001b[0mprint\u001b[0m\u001b[0;34m(\u001b[0m\u001b[0;34mf\"The value of tuple_1 is {tuple_1}\"\u001b[0m\u001b[0;34m)\u001b[0m\u001b[0;34m\u001b[0m\u001b[0;34m\u001b[0m\u001b[0m\n",
            "\u001b[0;31mTypeError\u001b[0m: 'tuple' object does not support item assignment"
          ]
        }
      ],
      "source": [
        "tuple_1 = (1, [2, 3], 4)\n",
        "print(f\"The value of tuple_1 was {tuple_1}\")\n",
        "\n",
        "tuple_1[0] = 5\n",
        "print(f\"The value of tuple_1 is {tuple_1}\")"
      ]
    },
    {
      "cell_type": "code",
      "execution_count": null,
      "metadata": {
        "colab": {
          "base_uri": "https://localhost:8080/"
        },
        "id": "XdRjXe3mkQl6",
        "outputId": "9e4cf7cd-a65b-4f8d-c6d1-0db1f23a211a"
      },
      "outputs": [
        {
          "name": "stdout",
          "output_type": "stream",
          "text": [
            "The value of tuple_1 was (1, [2, 3], 4)\n",
            "The value of tuple_1 is (1, [2, 5], 4)\n"
          ]
        }
      ],
      "source": [
        "tuple_1 = (1, [2, 3], 4)\n",
        "print(f\"The value of tuple_1 was {tuple_1}\")\n",
        "tuple_1[1][1] = 5\n",
        "print(f\"The value of tuple_1 is {tuple_1}\")"
      ]
    },
    {
      "cell_type": "code",
      "execution_count": null,
      "metadata": {
        "colab": {
          "base_uri": "https://localhost:8080/"
        },
        "id": "_cyAJ1fNkQl6",
        "outputId": "440a8137-a22c-4d4e-a982-85faa0675b79",
        "scrolled": true
      },
      "outputs": [
        {
          "name": "stdout",
          "output_type": "stream",
          "text": [
            "The value of list_1 was [1, (2, 3), 4]\n",
            "The value of list_1 is [5, (2, 3), 4]\n"
          ]
        }
      ],
      "source": [
        "list_1 = [1, (2, 3), 4]\n",
        "print(f\"The value of list_1 was {list_1}\")\n",
        "list_1[0] = 5\n",
        "print(f\"The value of list_1 is {list_1}\")"
      ]
    },
    {
      "cell_type": "code",
      "execution_count": null,
      "metadata": {
        "colab": {
          "base_uri": "https://localhost:8080/",
          "height": 240
        },
        "id": "Klm5_dWnkQl6",
        "outputId": "4aca7bb0-d5ff-415e-9287-72c9a37ac230"
      },
      "outputs": [
        {
          "name": "stdout",
          "output_type": "stream",
          "text": [
            "The value of list_1 was (1, (2, 3), 4)\n"
          ]
        },
        {
          "ename": "TypeError",
          "evalue": "ignored",
          "output_type": "error",
          "traceback": [
            "\u001b[0;31m---------------------------------------------------------------------------\u001b[0m",
            "\u001b[0;31mTypeError\u001b[0m                                 Traceback (most recent call last)",
            "\u001b[0;32m<ipython-input-18-4ae6688136e6>\u001b[0m in \u001b[0;36m<module>\u001b[0;34m()\u001b[0m\n\u001b[1;32m      1\u001b[0m \u001b[0mlist_1\u001b[0m \u001b[0;34m=\u001b[0m \u001b[0;34m(\u001b[0m\u001b[0;36m1\u001b[0m\u001b[0;34m,\u001b[0m \u001b[0;34m(\u001b[0m\u001b[0;36m2\u001b[0m\u001b[0;34m,\u001b[0m \u001b[0;36m3\u001b[0m\u001b[0;34m)\u001b[0m\u001b[0;34m,\u001b[0m \u001b[0;36m4\u001b[0m\u001b[0;34m)\u001b[0m\u001b[0;34m\u001b[0m\u001b[0;34m\u001b[0m\u001b[0m\n\u001b[1;32m      2\u001b[0m \u001b[0mprint\u001b[0m\u001b[0;34m(\u001b[0m\u001b[0;34mf\"The value of list_1 was {list_1}\"\u001b[0m\u001b[0;34m)\u001b[0m\u001b[0;34m\u001b[0m\u001b[0;34m\u001b[0m\u001b[0m\n\u001b[0;32m----> 3\u001b[0;31m \u001b[0mlist_1\u001b[0m\u001b[0;34m[\u001b[0m\u001b[0;36m1\u001b[0m\u001b[0;34m]\u001b[0m\u001b[0;34m[\u001b[0m\u001b[0;36m1\u001b[0m\u001b[0;34m]\u001b[0m \u001b[0;34m=\u001b[0m \u001b[0;36m5\u001b[0m\u001b[0;34m\u001b[0m\u001b[0;34m\u001b[0m\u001b[0m\n\u001b[0m\u001b[1;32m      4\u001b[0m \u001b[0mprint\u001b[0m\u001b[0;34m(\u001b[0m\u001b[0;34mf\"The value of list_1 is {list_1}\"\u001b[0m\u001b[0;34m)\u001b[0m\u001b[0;34m\u001b[0m\u001b[0;34m\u001b[0m\u001b[0m\n",
            "\u001b[0;31mTypeError\u001b[0m: 'tuple' object does not support item assignment"
          ]
        }
      ],
      "source": [
        "list_1 = (1, (2, 3), 4)\n",
        "print(f\"The value of list_1 was {list_1}\")\n",
        "list_1[1][1] = 5\n",
        "print(f\"The value of list_1 is {list_1}\")"
      ]
    },
    {
      "cell_type": "markdown",
      "metadata": {
        "id": "3Qm_jiHpkQl6"
      },
      "source": [
        "###  La colecciónes también se pueden convertir fácilmente. La conversión de colecciones en diccionarios no debe hacerse con la función dict(), sino preferiblemente con una comprensión de diccionario, que se despues. Es posible convertir diccionarios en colecciones de un tipo diferente de esta manera, pero tenga en cuenta que solo se convertirán las keys y no los valores."
      ]
    },
    {
      "cell_type": "code",
      "execution_count": null,
      "metadata": {
        "id": "9Lnjn9rzkQl6"
      },
      "outputs": [],
      "source": [
        "print(list((1, 2, 3)))\n",
        "print(list({1, 2, 3}))\n",
        "print(list({1:4, 2:5, 3:6}))\n",
        "print(set((1, 2, 3)))\n",
        "print(set([1, 2, 3]))\n",
        "print(set({1:4, 2:5, 3:6}))\n",
        "print(tuple([1, 2, 3]))\n",
        "print(tuple({1, 2, 3}))\n",
        "print(tuple({1:4, 2:5, 3:6}))"
      ]
    },
    {
      "cell_type": "markdown",
      "metadata": {
        "id": "uI1RwB4ikQl6"
      },
      "source": [
        "# Preguntas"
      ]
    },
    {
      "cell_type": "markdown",
      "metadata": {
        "id": "CPNbHxqwkQl6"
      },
      "source": [
        "## 1 Suponga que tiene una lista [1, 2, 3, 2, 1] y desea crear una nueva lista sin números dobles, después de resolver este problema, intente reescribirla como una sola línea\n",
        "### Un one liner en programación es un programa existente de una sola línea. Si no logras escribir una sola línea, no te preocupes. el codigo one liner es a menudo difícile de leer y, como hemos aprendido esta semana: los lenguajes de programación están destinados a ser legibles para las personas. Así que no te preocupes si estás usando demasiado código para resolver un problema, debes preguntarte: ¿yo o alguien más entenderá esto dentro de 3 años?"
      ]
    },
    {
      "cell_type": "code",
      "source": [
        "ejercicio1 = [1,2,3,2,1]\n",
        "print(ejercicio1)\n",
        "ejercicio1 = print(ejercicio1[:3])  "
      ],
      "metadata": {
        "colab": {
          "base_uri": "https://localhost:8080/"
        },
        "id": "bW2WwUcTaIoh",
        "outputId": "e61fb3c7-8464-42e1-bbfb-c7c34220749f"
      },
      "execution_count": null,
      "outputs": [
        {
          "output_type": "stream",
          "name": "stdout",
          "text": [
            "[1, 2, 3, 2, 1]\n",
            "[1, 2, 3]\n"
          ]
        }
      ]
    },
    {
      "cell_type": "markdown",
      "metadata": {
        "id": "h6tVHa6gkQl7"
      },
      "source": [
        "## 2 Slicing puede tener 3 parámetros, inicio, final y paso. Sin embargo, a menudo escribirá o leerá operaciones de corte con menos de 3 parámetros. En esta pregunta, debe volver a escribir todos los ejemplos en operaciones de corte con 3 parámetros. Después de haberlas reescrito, verifique si sus respuestas dan los mismos resultados"
      ]
    },
    {
      "cell_type": "code",
      "execution_count": null,
      "metadata": {
        "id": "aSpI0hrzkQl7",
        "colab": {
          "base_uri": "https://localhost:8080/"
        },
        "outputId": "e7717d58-bcd5-4c70-ac79-0311d340b507"
      },
      "outputs": [
        {
          "output_type": "stream",
          "name": "stdout",
          "text": [
            "bc\n",
            "c\n",
            "abc\n",
            "de\n",
            "abcde\n",
            "de\n",
            "abc\n",
            "abcde\n",
            "edcba\n",
            "abc\n",
            "e\n",
            "bcde\n",
            "edc\n"
          ]
        }
      ],
      "source": [
        "string_1 = 'abcde'\n",
        "print(string_1[1:3])\n",
        "print(string_1[-3:-2])\n",
        "\n",
        "print(string_1[:3])\n",
        "print(string_1[3:])\n",
        "print(string_1[:])\n",
        "\n",
        "print(string_1[-2:])\n",
        "print(string_1[:-2])\n",
        "\n",
        "print(string_1[::])\n",
        "print(string_1[::-1])\n",
        "\n",
        "print(string_1[:3:1])\n",
        "print(string_1[:3:-1])\n",
        "\n",
        "print(string_1[1::])\n",
        "print(string_1[:1:-1])"
      ]
    },
    {
      "cell_type": "code",
      "source": [
        "\n",
        "print(string_1[1:3:1])\n",
        "print(string_1[-3:-4:-1])\n",
        "print(string_1[0:3:1])\n",
        "print(string_1[3:5:1])\n",
        "print(string_1[0:5:1])\n",
        "print(string_1[3:5:1])\n",
        "print(string_1[0:3:1])\n",
        "print(string_1[0:5:1])\n",
        "print(string_1[-1:-6:-1])\n",
        "print(string_1[-5:-2:1])\n",
        "print(string_1[4:5:1])\n",
        "print(string_1[1:5:1])\n",
        "print(string_1[-1:-4:-1])"
      ],
      "metadata": {
        "colab": {
          "base_uri": "https://localhost:8080/"
        },
        "id": "K3-5JL77gnRV",
        "outputId": "a3897f4b-4750-490c-e6f9-6569afa95e65"
      },
      "execution_count": null,
      "outputs": [
        {
          "output_type": "stream",
          "name": "stdout",
          "text": [
            "bc\n",
            "c\n",
            "abc\n",
            "de\n",
            "abcde\n",
            "de\n",
            "abc\n",
            "abcde\n",
            "edcba\n",
            "abc\n",
            "e\n",
            "bcde\n",
            "edc\n"
          ]
        }
      ]
    },
    {
      "cell_type": "markdown",
      "metadata": {
        "id": "Hd4UZO1FkQl7"
      },
      "source": [
        "## 3 Hemos construido un diccionario que se puede usar para encontrar el resultado si dos booleanos están conectados con el operador y\n",
        "## Reescribe este diccionario para encontrar el resultado si dos booleanos están conectados con el operador o\n",
        "## Python no tiene un operador XOR, busque en Internet lo que se supone que debe hacer el operador XOR y cree un diccionario que proporcione el resultado de una operación XOR"
      ]
    },
    {
      "cell_type": "code",
      "execution_count": null,
      "metadata": {
        "id": "vNTwz2SYkQl7",
        "colab": {
          "base_uri": "https://localhost:8080/"
        },
        "outputId": "9083b6f9-7984-4d39-c4c6-16b5e41751ee"
      },
      "outputs": [
        {
          "output_type": "stream",
          "name": "stdout",
          "text": [
            "False\n"
          ]
        }
      ],
      "source": [
        "age = 40\n",
        "blood_type = 'A'\n",
        "my_and = {(True, True): True, (True, False): False, (False, True): False, (False, False): False }\n",
        "print(my_and[age < 70, blood_type == 'B'])"
      ]
    },
    {
      "cell_type": "code",
      "source": [
        "#Respuesta\n",
        "age = 40\n",
        "blood_type = 'A'\n",
        "my_and = {(True, True): True, (True, False): True, (False, True): True, (False, False): False }\n",
        "print(my_and[age < 70, blood_type == 'B'])"
      ],
      "metadata": {
        "colab": {
          "base_uri": "https://localhost:8080/"
        },
        "id": "vdE3DxwY8HXC",
        "outputId": "8165778b-50b1-42c7-8dda-a1148b2863c9"
      },
      "execution_count": null,
      "outputs": [
        {
          "output_type": "stream",
          "name": "stdout",
          "text": [
            "True\n"
          ]
        }
      ]
    },
    {
      "cell_type": "markdown",
      "metadata": {
        "id": "xoA47ESykQl7"
      },
      "source": [
        "## 4 En 'Las listas pueden contener listas y así formar tablas de múltiples dimensiones' se les mostro una secuencia ganadora en tres en raya. Como es muy importante para el análisis de datos y la visualización de datos que se sienta cómodo trabajando con tablas poli-dimensionales, le pedimos que reescriba la secuencia con un segundo jugador más inteligente (o un jugador que aprendió el juego de memoria) donde el juego termina en un empate."
      ]
    },
    {
      "cell_type": "code",
      "execution_count": null,
      "metadata": {
        "id": "jUXPGxnOkQl7",
        "colab": {
          "base_uri": "https://localhost:8080/"
        },
        "outputId": "5524f972-e119-476d-935d-684b4d17961e"
      },
      "outputs": [
        {
          "output_type": "stream",
          "name": "stdout",
          "text": [
            "[' ', ' ', ' ']\n",
            "[' ', ' ', ' ']\n",
            "[' ', ' ', ' ']\n",
            "\n",
            "[' ', ' ', ' ']\n",
            "[' ', 'X', ' ']\n",
            "[' ', ' ', ' ']\n",
            "\n",
            "[' ', ' ', ' ']\n",
            "[' ', 'X', 'O']\n",
            "[' ', ' ', ' ']\n",
            "\n",
            "[' ', ' ', 'X']\n",
            "[' ', 'X', 'O']\n",
            "[' ', ' ', ' ']\n",
            "\n",
            "[' ', ' ', 'X']\n",
            "[' ', 'X', 'O']\n",
            "['O', ' ', ' ']\n",
            "\n",
            "['X', ' ', 'X']\n",
            "[' ', 'X', 'O']\n",
            "['O', ' ', ' ']\n",
            "\n"
          ]
        }
      ],
      "source": [
        "tic_tac_toe_board = [[' ', ' ', ' '], [' ', ' ', ' '], [' ', ' ', ' ']]\n",
        "print(tic_tac_toe_board[0]) \n",
        "print(tic_tac_toe_board[1]) \n",
        "print(tic_tac_toe_board[2])\n",
        "print() \n",
        "tic_tac_toe_board[1][1] = 'X'\n",
        "print(tic_tac_toe_board[0]) \n",
        "print(tic_tac_toe_board[1]) \n",
        "print(tic_tac_toe_board[2])\n",
        "print() \n",
        "tic_tac_toe_board[1][2] = 'O'\n",
        "print(tic_tac_toe_board[0]) \n",
        "print(tic_tac_toe_board[1]) \n",
        "print(tic_tac_toe_board[2])\n",
        "print()\n",
        "tic_tac_toe_board[0][2] = 'X'\n",
        "print(tic_tac_toe_board[0]) \n",
        "print(tic_tac_toe_board[1]) \n",
        "print(tic_tac_toe_board[2])\n",
        "print()\n",
        "tic_tac_toe_board[2][0] = 'O'\n",
        "print(tic_tac_toe_board[0]) \n",
        "print(tic_tac_toe_board[1]) \n",
        "print(tic_tac_toe_board[2])\n",
        "print()\n",
        "tic_tac_toe_board[0][0] = 'X'\n",
        "print(tic_tac_toe_board[0]) \n",
        "print(tic_tac_toe_board[1]) \n",
        "print(tic_tac_toe_board[2])\n",
        "print()# And the next move X wins independent what player O plays"
      ]
    },
    {
      "cell_type": "code",
      "source": [
        "tic_tac_toe_board = [[' ', ' ', ' '], [' ', ' ', ' '], [' ', ' ', ' ']]\n",
        "print(tic_tac_toe_board[0]) \n",
        "print(tic_tac_toe_board[1]) \n",
        "print(tic_tac_toe_board[2])\n",
        "print() \n",
        "tic_tac_toe_board[1][1] = 'O'\n",
        "print(tic_tac_toe_board[0]) \n",
        "print(tic_tac_toe_board[1]) \n",
        "print(tic_tac_toe_board[2])\n",
        "print() \n",
        "tic_tac_toe_board[0][0] = 'X'\n",
        "print(tic_tac_toe_board[0]) \n",
        "print(tic_tac_toe_board[1]) \n",
        "print(tic_tac_toe_board[2])\n",
        "print()\n",
        "tic_tac_toe_board[0][2] = 'O'\n",
        "print(tic_tac_toe_board[0]) \n",
        "print(tic_tac_toe_board[1]) \n",
        "print(tic_tac_toe_board[2])\n",
        "print()\n",
        "tic_tac_toe_board[2][0] = 'X'\n",
        "print(tic_tac_toe_board[0]) \n",
        "print(tic_tac_toe_board[1]) \n",
        "print(tic_tac_toe_board[2])\n",
        "print()\n",
        "tic_tac_toe_board[1][0] = 'O'\n",
        "print(tic_tac_toe_board[0]) \n",
        "print(tic_tac_toe_board[1]) \n",
        "print(tic_tac_toe_board[2])\n",
        "print()\n",
        "tic_tac_toe_board[1][2] = 'X'\n",
        "print(tic_tac_toe_board[0]) \n",
        "print(tic_tac_toe_board[1]) \n",
        "print(tic_tac_toe_board[2])\n",
        "print()\n",
        "tic_tac_toe_board[2][1] = 'O'\n",
        "print(tic_tac_toe_board[0]) \n",
        "print(tic_tac_toe_board[1]) \n",
        "print(tic_tac_toe_board[2])\n",
        "print()\n",
        "tic_tac_toe_board[0][1] = 'X'\n",
        "print(tic_tac_toe_board[0]) \n",
        "print(tic_tac_toe_board[1]) \n",
        "print(tic_tac_toe_board[2])\n",
        "print()\n",
        "tic_tac_toe_board[2][2] = 'O'\n",
        "print(tic_tac_toe_board[0]) \n",
        "print(tic_tac_toe_board[1]) \n",
        "print(tic_tac_toe_board[2])\n",
        "print()"
      ],
      "metadata": {
        "colab": {
          "base_uri": "https://localhost:8080/"
        },
        "id": "mgEY8y_GAYvH",
        "outputId": "a0f8704a-036e-41b5-ea59-aa85ba3cd3e2"
      },
      "execution_count": null,
      "outputs": [
        {
          "output_type": "stream",
          "name": "stdout",
          "text": [
            "[' ', ' ', ' ']\n",
            "[' ', ' ', ' ']\n",
            "[' ', ' ', ' ']\n",
            "\n",
            "[' ', ' ', ' ']\n",
            "[' ', 'O', ' ']\n",
            "[' ', ' ', ' ']\n",
            "\n",
            "['X', ' ', ' ']\n",
            "[' ', 'O', ' ']\n",
            "[' ', ' ', ' ']\n",
            "\n",
            "['X', ' ', 'O']\n",
            "[' ', 'O', ' ']\n",
            "[' ', ' ', ' ']\n",
            "\n",
            "['X', ' ', 'O']\n",
            "[' ', 'O', ' ']\n",
            "['X', ' ', ' ']\n",
            "\n",
            "['X', ' ', 'O']\n",
            "['O', 'O', ' ']\n",
            "['X', ' ', ' ']\n",
            "\n",
            "['X', ' ', 'O']\n",
            "['O', 'O', 'X']\n",
            "['X', ' ', ' ']\n",
            "\n",
            "['X', ' ', 'O']\n",
            "['O', 'O', 'X']\n",
            "['X', 'O', ' ']\n",
            "\n",
            "['X', 'X', 'O']\n",
            "['O', 'O', 'X']\n",
            "['X', 'O', ' ']\n",
            "\n",
            "['X', 'X', 'O']\n",
            "['O', 'O', 'X']\n",
            "['X', 'O', 'O']\n",
            "\n"
          ]
        }
      ]
    },
    {
      "cell_type": "markdown",
      "metadata": {
        "id": "Qp9tvzrPkQl7"
      },
      "source": [
        "## 5 Ejecute el siguiente programa, vea si puede encontrar algo extraño y explique el resultado usando su conocimiento de recolección de basura"
      ]
    },
    {
      "cell_type": "code",
      "execution_count": null,
      "metadata": {
        "id": "jBjkKwcokQl7",
        "colab": {
          "base_uri": "https://localhost:8080/"
        },
        "outputId": "a49c4f1b-2f4a-413c-bc7b-19633f03f3a3"
      },
      "outputs": [
        {
          "output_type": "stream",
          "name": "stdout",
          "text": [
            "The value of the list refered to by list_5 is [1, 2, 3] and its address is 139975820852992\n",
            "The value of the list refered to by list_5 is [1, 1, 3] and its address is 139975821130320\n",
            "The value of the list refered to by list_5 is [1, 1, 4] and its address is 139975820852992\n"
          ]
        }
      ],
      "source": [
        "list_5 = [1, 2, 3]\n",
        "print(f\"The value of the list refered to by list_5 is {list_5} and its address is {id(list_5)}\")\n",
        "list_5 = [1 , 1, 3]\n",
        "print(f\"The value of the list refered to by list_5 is {list_5} and its address is {id(list_5)}\")\n",
        "list_5 = [1, 1, 4]\n",
        "print(f\"The value of the list refered to by list_5 is {list_5} and its address is {id(list_5)}\")"
      ]
    },
    {
      "cell_type": "markdown",
      "source": [
        "#Análisis:\n",
        "El primer id deja de ser necesario, ya que, el tercero recopila todo automaticamente."
      ],
      "metadata": {
        "id": "dhrFF5CYWI0A"
      }
    },
    {
      "cell_type": "markdown",
      "metadata": {
        "id": "PA5SR0ShkQl7"
      },
      "source": [
        "## 6 Las cadenas son inmutables, pero ¿por qué funciona lo siguiente? ¿Claramente cambiamos el valor de la cadena llamada string_1? ¿Qué afirmaciones agregaría para aclarar lo que ha sucedido? usar id"
      ]
    },
    {
      "cell_type": "code",
      "execution_count": null,
      "metadata": {
        "id": "JDkP9VrSkQl8",
        "colab": {
          "base_uri": "https://localhost:8080/"
        },
        "outputId": "c9512516-3ac4-4ce0-df11-81fcc27c2f45"
      },
      "outputs": [
        {
          "output_type": "stream",
          "name": "stdout",
          "text": [
            "text 1\n",
            "text 2\n"
          ]
        }
      ],
      "source": [
        "string_1 = \"text 1\"\n",
        "print(string_1)\n",
        "string_1 = \"text 2\"\n",
        "print(string_1)"
      ]
    },
    {
      "cell_type": "code",
      "source": [
        "string_1 = \"text 1\"\n",
        "print(string_1)\n",
        "print(f\"The value of the list refered to by list_5 is {string_1} and its address is {id(string_1)}\")\n",
        "string_1 = \"text 2\"\n",
        "print(f\"The value of the list refered to by list_5 is {string_1} and its address is {id(string_1)}\")"
      ],
      "metadata": {
        "colab": {
          "base_uri": "https://localhost:8080/"
        },
        "id": "Jsa3az8XrArZ",
        "outputId": "b249ed5f-f316-4fc1-ad22-4a6f17b731e8"
      },
      "execution_count": null,
      "outputs": [
        {
          "output_type": "stream",
          "name": "stdout",
          "text": [
            "text 1\n",
            "The value of the list refered to by list_5 is text 1 and its address is 139975820604912\n",
            "The value of the list refered to by list_5 is text 2 and its address is 139975820685488\n",
            "The value of the list refered to by list_5 is text 1 and its address is 139975820685936\n"
          ]
        }
      ]
    },
    {
      "cell_type": "markdown",
      "source": [
        "En las cadena no podemos modificar los caracteres individuales, puesto que, si se utiliza un string este va tener un  id ,  y al momento de modificar su valor su id va a cambiar."
      ],
      "metadata": {
        "id": "1XaLf0vVpwr4"
      }
    }
  ],
  "metadata": {
    "colab": {
      "name": "jj.ipynb",
      "provenance": [],
      "collapsed_sections": []
    },
    "kernelspec": {
      "display_name": "Python 3",
      "language": "python",
      "name": "python3"
    },
    "language_info": {
      "codemirror_mode": {
        "name": "ipython",
        "version": 3
      },
      "file_extension": ".py",
      "mimetype": "text/x-python",
      "name": "python",
      "nbconvert_exporter": "python",
      "pygments_lexer": "ipython3",
      "version": "3.8.5"
    }
  },
  "nbformat": 4,
  "nbformat_minor": 0
}