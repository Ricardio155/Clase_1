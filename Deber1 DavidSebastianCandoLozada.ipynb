{
 "cells": [
  {
   "cell_type": "markdown",
   "metadata": {
    "id": "uI1RwB4ikQl6"
   },
   "source": [
    "# Preguntas"
   ]
  },
  {
   "cell_type": "markdown",
   "metadata": {
    "id": "CPNbHxqwkQl6"
   },
   "source": [
    "## 1 Suponga que tiene una lista [1, 2, 3, 2, 1] y desea crear una nueva lista sin números dobles, después de resolver este problema, intente reescribirla como una sola línea\n",
    "### Un one liner en programación es un programa existente de una sola línea. Si no logras escribir una sola línea, no te preocupes. el codigo one liner es a menudo difícile de leer y, como hemos aprendido esta semana: los lenguajes de programación están destinados a ser legibles para las personas. Así que no te preocupes si estás usando demasiado código para resolver un problema, debes preguntarte: ¿yo o alguien más entenderá esto dentro de 3 años?"
   ]
  },
  {
   "cell_type": "code",
   "execution_count": 3,
   "metadata": {},
   "outputs": [
    {
     "name": "stdout",
     "output_type": "stream",
     "text": [
      "[1, 2, 3, 4]\n"
     ]
    }
   ],
   "source": [
    "Lista_1=[1,2,3,4,1]\n",
    "Set_1= set(Lista_1)\n",
    "Lista_2=list(Set_1)\n",
    "\n",
    "\n",
    "print(Lista_2)"
   ]
  },
  {
   "cell_type": "markdown",
   "metadata": {},
   "source": [
    "#### Ya que, se repite un valor es importante reconocer cada una de las caracteristicas de los objetos, y para que no existan valores repetidos se debe transformar la primera lista en un \"set\", y despues regresarle a la caracteristica original una lista."
   ]
  },
  {
   "cell_type": "markdown",
   "metadata": {
    "id": "h6tVHa6gkQl7"
   },
   "source": [
    "## 2 Slicing puede tener 3 parámetros, inicio, final y paso. Sin embargo, a menudo escribirá o leerá operaciones de corte con menos de 3 parámetros. En esta pregunta, debe volver a escribir todos los ejemplos en operaciones de corte con 3 parámetros. Después de haberlas reescrito, verifique si sus respuestas dan los mismos resultados"
   ]
  },
  {
   "cell_type": "code",
   "execution_count": 4,
   "metadata": {
    "id": "aSpI0hrzkQl7"
   },
   "outputs": [
    {
     "name": "stdout",
     "output_type": "stream",
     "text": [
      "bc\n",
      "c\n",
      "abc\n",
      "de\n",
      "abcde\n",
      "de\n",
      "abc\n",
      "abcde\n",
      "edcba\n",
      "abc\n",
      "e\n",
      "bcde\n",
      "edc\n"
     ]
    }
   ],
   "source": [
    "string_1 = 'abcde'\n",
    "print(string_1[1:3])\n",
    "print(string_1[-3:-2])\n",
    "\n",
    "print(string_1[:3])\n",
    "print(string_1[3:])\n",
    "print(string_1[:])\n",
    "\n",
    "print(string_1[-2:])\n",
    "print(string_1[:-2])\n",
    "\n",
    "print(string_1[::])\n",
    "print(string_1[::-1])\n",
    "\n",
    "print(string_1[:3:1])\n",
    "print(string_1[:3:-1])\n",
    "\n",
    "print(string_1[1::])\n",
    "print(string_1[:1:-1])"
   ]
  },
  {
   "cell_type": "code",
   "execution_count": 46,
   "metadata": {},
   "outputs": [
    {
     "name": "stdout",
     "output_type": "stream",
     "text": [
      "bc\n",
      "c\n",
      "abc\n",
      "de\n",
      "abcde\n",
      "de\n",
      "abc\n",
      "abcde\n",
      "edcba\n",
      "abc\n",
      "e\n",
      "bcde\n",
      "edc\n"
     ]
    }
   ],
   "source": [
    "string_2='abcde'\n",
    "print(string_2[1:3:1])\n",
    "print(string_2[-3:-5:-2])\n",
    "print(string_2[0:3:1])\n",
    "print(string_2[3:5:1])\n",
    "print(string_2[0:5:1])\n",
    "print(string_2[-2::1])\n",
    "print(string_2[-5:-2:])\n",
    "print(string_2[::])\n",
    "print(string_2[-1:-6:-1])\n",
    "print(string_2[0:3:1])\n",
    "print(string_2[-1:-2:-1])\n",
    "print(string_2[1:5:1])\n",
    "print(string_2[:-4:-1])"
   ]
  },
  {
   "cell_type": "markdown",
   "metadata": {
    "id": "Hd4UZO1FkQl7"
   },
   "source": [
    "## 3 Hemos construido un diccionario que se puede usar para encontrar el resultado si dos booleanos están conectados con el operador y\n",
    "## Reescribe este diccionario para encontrar el resultado si dos booleanos están conectados con el operador o\n",
    "## Python no tiene un operador XOR, busque en Internet lo que se supone que debe hacer el operador XOR y cree un diccionario que proporcione el resultado de una operación XOR"
   ]
  },
  {
   "cell_type": "code",
   "execution_count": 47,
   "metadata": {
    "id": "vNTwz2SYkQl7"
   },
   "outputs": [
    {
     "name": "stdout",
     "output_type": "stream",
     "text": [
      "False\n"
     ]
    }
   ],
   "source": [
    "age = 40\n",
    "blood_type = 'A'\n",
    "my_and = {(True, True): True, (True, False): False, (False, True): False, (False, False): False }\n",
    "print(my_and[age < 70, blood_type == 'B'])"
   ]
  },
  {
   "cell_type": "code",
   "execution_count": 66,
   "metadata": {},
   "outputs": [
    {
     "name": "stdout",
     "output_type": "stream",
     "text": [
      "True\n"
     ]
    }
   ],
   "source": [
    "age = 40\n",
    "blood_type = 'A'\n",
    "\n",
    "my_and = {True: True ,False:False}\n",
    "\n",
    "print(my_and[age < 70 or blood_type == 'B'])"
   ]
  },
  {
   "cell_type": "code",
   "execution_count": 91,
   "metadata": {},
   "outputs": [
    {
     "name": "stdout",
     "output_type": "stream",
     "text": [
      "True\n",
      "True\n",
      "False\n",
      "True\n"
     ]
    }
   ],
   "source": [
    "age = 40\n",
    "blood_type = 'A'\n",
    "\n",
    "my_and = {True: True ,False:False}\n",
    "\n",
    "print(my_and[operator.xor((age<70),(blood_type =='B'))])\n",
    "print(my_and[(age<70)^(blood_type=='B')])\n"
   ]
  },
  {
   "cell_type": "markdown",
   "metadata": {},
   "source": [
    "##### el resultado es True, porque cumple con las normas de logica matematica en la cual, una afirmació y una negación es una verdad."
   ]
  },
  {
   "cell_type": "markdown",
   "metadata": {
    "id": "xoA47ESykQl7"
   },
   "source": [
    "## 4 En 'Las listas pueden contener listas y así formar tablas de múltiples dimensiones' se les mostro una secuencia ganadora en tres en raya. Como es muy importante para el análisis de datos y la visualización de datos que se sienta cómodo trabajando con tablas poli-dimensionales, le pedimos que reescriba la secuencia con un segundo jugador más inteligente (o un jugador que aprendió el juego de memoria) donde el juego termina en un empate."
   ]
  },
  {
   "cell_type": "code",
   "execution_count": 48,
   "metadata": {
    "id": "jUXPGxnOkQl7"
   },
   "outputs": [
    {
     "name": "stdout",
     "output_type": "stream",
     "text": [
      "[' ', ' ', ' ']\n",
      "[' ', ' ', ' ']\n",
      "[' ', ' ', ' ']\n",
      "\n",
      "[' ', ' ', ' ']\n",
      "[' ', 'X', ' ']\n",
      "[' ', ' ', ' ']\n",
      "\n",
      "[' ', ' ', ' ']\n",
      "[' ', 'X', 'O']\n",
      "[' ', ' ', ' ']\n",
      "\n",
      "[' ', ' ', 'X']\n",
      "[' ', 'X', 'O']\n",
      "[' ', ' ', ' ']\n",
      "\n",
      "[' ', ' ', 'X']\n",
      "[' ', 'X', 'O']\n",
      "['O', ' ', ' ']\n",
      "\n",
      "['X', ' ', 'X']\n",
      "[' ', 'X', 'O']\n",
      "['O', ' ', ' ']\n",
      "\n"
     ]
    }
   ],
   "source": [
    "tic_tac_toe_board = [[' ', ' ', ' '], [' ', ' ', ' '], [' ', ' ', ' ']]\n",
    "print(tic_tac_toe_board[0]) \n",
    "print(tic_tac_toe_board[1]) \n",
    "print(tic_tac_toe_board[2])\n",
    "print() \n",
    "tic_tac_toe_board[1][1] = 'X'\n",
    "print(tic_tac_toe_board[0]) \n",
    "print(tic_tac_toe_board[1]) \n",
    "print(tic_tac_toe_board[2])\n",
    "print() \n",
    "tic_tac_toe_board[1][2] = 'O'\n",
    "print(tic_tac_toe_board[0]) \n",
    "print(tic_tac_toe_board[1]) \n",
    "print(tic_tac_toe_board[2])\n",
    "print()\n",
    "tic_tac_toe_board[0][2] = 'X'\n",
    "print(tic_tac_toe_board[0]) \n",
    "print(tic_tac_toe_board[1]) \n",
    "print(tic_tac_toe_board[2])\n",
    "print()\n",
    "tic_tac_toe_board[2][0] = 'O'\n",
    "print(tic_tac_toe_board[0]) \n",
    "print(tic_tac_toe_board[1]) \n",
    "print(tic_tac_toe_board[2])\n",
    "print()\n",
    "tic_tac_toe_board[0][0] = 'X'\n",
    "print(tic_tac_toe_board[0]) \n",
    "print(tic_tac_toe_board[1]) \n",
    "print(tic_tac_toe_board[2])\n",
    "print()# And the next move X wins independent what player O plays"
   ]
  },
  {
   "cell_type": "code",
   "execution_count": 104,
   "metadata": {},
   "outputs": [
    {
     "name": "stdout",
     "output_type": "stream",
     "text": [
      "[' ', ' ', ' ']\n",
      "[' ', ' ', ' ']\n",
      "[' ', ' ', ' ']\n",
      "\n",
      "['X', ' ', ' ']\n",
      "[' ', ' ', ' ']\n",
      "[' ', ' ', ' ']\n",
      "\n",
      "['X', ' ', ' ']\n",
      "[' ', ' ', ' ']\n",
      "[' ', ' ', 'O']\n",
      "\n",
      "['X', ' ', ' ']\n",
      "[' ', ' ', ' ']\n",
      "[' ', 'X', 'O']\n",
      "\n",
      "['X', ' ', ' ']\n",
      "[' ', ' ', ' ']\n",
      "['O', 'X', 'O']\n",
      "\n",
      "['X', ' ', ' ']\n",
      "[' ', 'X', ' ']\n",
      "['O', 'X', 'O']\n",
      "\n",
      "['X', 'O', ' ']\n",
      "[' ', 'X', ' ']\n",
      "['O', 'X', 'O']\n",
      "\n",
      "['X', 'O', ' ']\n",
      "['X', 'X', ' ']\n",
      "['O', 'X', 'O']\n",
      "\n",
      "['X', 'O', ' ']\n",
      "['X', 'X', 'O']\n",
      "['O', 'X', 'O']\n",
      "\n",
      "['X', 'O', 'X']\n",
      "['X', 'X', 'O']\n",
      "['O', 'X', 'O']\n",
      "\n"
     ]
    }
   ],
   "source": [
    "tic_tac_toe_board = [[' ', ' ', ' '], [' ', ' ', ' '], [' ', ' ', ' ']]\n",
    "print(tic_tac_toe_board[0]) \n",
    "print(tic_tac_toe_board[1]) \n",
    "print(tic_tac_toe_board[2])\n",
    "print() \n",
    "tic_tac_toe_board[0][0] = 'X'\n",
    "print(tic_tac_toe_board[0]) \n",
    "print(tic_tac_toe_board[1]) \n",
    "print(tic_tac_toe_board[2])\n",
    "print() \n",
    "tic_tac_toe_board[2][2] = 'O'\n",
    "print(tic_tac_toe_board[0]) \n",
    "print(tic_tac_toe_board[1]) \n",
    "print(tic_tac_toe_board[2])\n",
    "print()\n",
    "tic_tac_toe_board[2][1] = 'X'\n",
    "print(tic_tac_toe_board[0]) \n",
    "print(tic_tac_toe_board[1]) \n",
    "print(tic_tac_toe_board[2])\n",
    "print()\n",
    "tic_tac_toe_board[2][0] = 'O'\n",
    "print(tic_tac_toe_board[0]) \n",
    "print(tic_tac_toe_board[1]) \n",
    "print(tic_tac_toe_board[2])\n",
    "print()\n",
    "tic_tac_toe_board[1][1] = 'X'\n",
    "print(tic_tac_toe_board[0]) \n",
    "print(tic_tac_toe_board[1]) \n",
    "print(tic_tac_toe_board[2])\n",
    "print()\n",
    "tic_tac_toe_board[0][1] = 'O'\n",
    "print(tic_tac_toe_board[0]) \n",
    "print(tic_tac_toe_board[1]) \n",
    "print(tic_tac_toe_board[2])\n",
    "print()\n",
    "tic_tac_toe_board[1][0] = 'X'\n",
    "print(tic_tac_toe_board[0]) \n",
    "print(tic_tac_toe_board[1]) \n",
    "print(tic_tac_toe_board[2])\n",
    "print()\n",
    "tic_tac_toe_board[1][2] = 'O'\n",
    "print(tic_tac_toe_board[0]) \n",
    "print(tic_tac_toe_board[1]) \n",
    "print(tic_tac_toe_board[2])\n",
    "print()\n",
    "tic_tac_toe_board[0][2] = 'X'\n",
    "print(tic_tac_toe_board[0]) \n",
    "print(tic_tac_toe_board[1]) \n",
    "print(tic_tac_toe_board[2])\n",
    "print()"
   ]
  },
  {
   "cell_type": "markdown",
   "metadata": {
    "id": "Qp9tvzrPkQl7"
   },
   "source": [
    "## 5 Ejecute el siguiente programa, vea si puede encontrar algo extraño y explique el resultado usando su conocimiento de recolección de basura"
   ]
  },
  {
   "cell_type": "code",
   "execution_count": 49,
   "metadata": {
    "id": "jBjkKwcokQl7"
   },
   "outputs": [
    {
     "name": "stdout",
     "output_type": "stream",
     "text": [
      "The value of the list refered to by list_5 is [1, 2, 3] and its address is 2295627708672\n",
      "The value of the list refered to by list_5 is [1, 1, 3] and its address is 2295627769984\n",
      "The value of the list refered to by list_5 is [1, 1, 4] and its address is 2295627786496\n"
     ]
    }
   ],
   "source": [
    "list_5 = [1, 2, 3]\n",
    "print(f\"The value of the list refered to by list_5 is {list_5} and its address is {id(list_5)}\")\n",
    "list_5 = [1 , 1, 3]\n",
    "print(f\"The value of the list refered to by list_5 is {list_5} and its address is {id(list_5)}\")\n",
    "list_5 = [1, 1, 4]\n",
    "print(f\"The value of the list refered to by list_5 is {list_5} and its address is {id(list_5)}\")"
   ]
  },
  {
   "cell_type": "markdown",
   "metadata": {},
   "source": [
    "##### La Lista se va creando cada vez más y el principio de la recolección de basura es que cada vez que se ejecuta una lista con el mismo nombre esta tiende a ser reemplazada por la nueva y se elimina la anterior"
   ]
  },
  {
   "cell_type": "markdown",
   "metadata": {
    "id": "PA5SR0ShkQl7"
   },
   "source": [
    "## 6 Las cadenas son inmutables, pero ¿por qué funciona lo siguiente? ¿Claramente cambiamos el valor de la cadena llamada string_1? ¿Qué afirmaciones agregaría para aclarar lo que ha sucedido? usar id"
   ]
  },
  {
   "cell_type": "code",
   "execution_count": 109,
   "metadata": {
    "id": "JDkP9VrSkQl8"
   },
   "outputs": [
    {
     "name": "stdout",
     "output_type": "stream",
     "text": [
      "text 1\n",
      "text 1\n",
      "2295656339248\n",
      "2295656339248\n",
      "2295656507120\n"
     ]
    }
   ],
   "source": [
    "string_1 = \"text 1\"\n",
    "print(string_1)\n",
    "print(string_1)\n",
    "string_1 = \"text 2\"\n",
    "\n",
    "print(id(string_1))\n",
    "print(id(string_1))\n"
   ]
  },
  {
   "cell_type": "markdown",
   "metadata": {},
   "source": [
    "##### Porque solo se esta cambiando el contenido, mas no se esta modificando el objeto per se"
   ]
  }
 ],
 "metadata": {
  "colab": {
   "name": "Week 1.ipynb",
   "provenance": []
  },
  "kernelspec": {
   "display_name": "Python 3 (ipykernel)",
   "language": "python",
   "name": "python3"
  },
  "language_info": {
   "codemirror_mode": {
    "name": "ipython",
    "version": 3
   },
   "file_extension": ".py",
   "mimetype": "text/x-python",
   "name": "python",
   "nbconvert_exporter": "python",
   "pygments_lexer": "ipython3",
   "version": "3.9.12"
  }
 },
 "nbformat": 4,
 "nbformat_minor": 1
}
