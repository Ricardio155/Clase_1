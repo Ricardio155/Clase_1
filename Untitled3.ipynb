{
  "metadata": {
    "language_info": {
      "codemirror_mode": {
        "name": "python",
        "version": 3
      },
      "file_extension": ".py",
      "mimetype": "text/x-python",
      "name": "python",
      "nbconvert_exporter": "python",
      "pygments_lexer": "ipython3",
      "version": "3.8"
    },
    "kernelspec": {
      "name": "python",
      "display_name": "Python (Pyodide)",
      "language": "python"
    }
  },
  "nbformat_minor": 4,
  "nbformat": 4,
  "cells": [
    {
      "cell_type": "markdown",
      "source": "Mi informacion:\n## Kevin Zambrano\n\n## Preguntas\n### 1 Suponga que tiene una lista [1, 2, 3, 2, 1] y desea crear una nueva lista sin números dobles, después de resolver este problema, intente reescribirla como una sola línea\nUn one liner en programación es un programa existente de una sola línea. Si no logras escribir una sola línea, no te preocupes. el codigo one liner es a menudo difícile de leer y, como hemos aprendido esta semana: los lenguajes de programación están destinados a ser legibles para las personas. Así que no te preocupes si estás usando demasiado código para resolver un problema, debes preguntarte: ¿yo o alguien más entenderá esto dentro de 3 años?",
      "metadata": {}
    },
    {
      "cell_type": "code",
      "source": "Lista = [1,2,3,2,1]\nLista= set(Lista)\nprint(Lista)",
      "metadata": {
        "trusted": true
      },
      "execution_count": 1,
      "outputs": [
        {
          "name": "stdout",
          "text": "{1, 2, 3}\n",
          "output_type": "stream"
        }
      ]
    },
    {
      "cell_type": "markdown",
      "source": "### 2 Slicing puede tener 3 parámetros, inicio, final y paso. Sin embargo, a menudo escribirá o leerá operaciones de corte con menos de 3 parámetros. En esta pregunta, debe volver a escribir todos los ejemplos en operaciones de corte con 3 parámetros. Después de haberlas reescrito, verifique si sus respuestas dan los mismos resultados",
      "metadata": {}
    },
    {
      "cell_type": "code",
      "source": "string_1 = 'abcde'\nprint(string_1[1:3])\nprint(string_1[-3:-2])\n\nprint(string_1[:3])\nprint(string_1[3:])\nprint(string_1[:])\n\nprint(string_1[-2:])\nprint(string_1[:-2])\n\nprint(string_1[::])\nprint(string_1[::-1])\n\nprint(string_1[:3:1])\nprint(string_1[:3:-1])\n\nprint(string_1[1::])\nprint(string_1[:1:-1])",
      "metadata": {
        "trusted": true
      },
      "execution_count": 3,
      "outputs": [
        {
          "name": "stdout",
          "text": "bc\nc\nabc\nde\nabcde\nde\nabc\nabcde\nedcba\nabc\ne\nbcde\nedc\n",
          "output_type": "stream"
        }
      ]
    },
    {
      "cell_type": "code",
      "source": "string_1 = 'abcde'\nprint(string_1[1:3:1])\nprint(string_1[-3:-2:-1])\n\nprint(string_1[0:3:1])\nprint(string_1[3:5:1])\nprint(string_1[0:5:1])\n\nprint(string_1[-2:5:1])\nprint(string_1[5:-2:1])\n\nprint(string_1[0:5:1])\nprint(string_1[5:-6:-1])\n\nprint(string_1[0:3:1])\nprint(string_1[4:3:-1])\n\nprint(string_1[1:5:1])\nprint(string_1[5:1:-1])",
      "metadata": {
        "trusted": true
      },
      "execution_count": 4,
      "outputs": [
        {
          "name": "stdout",
          "text": "bc\n\nabc\nde\nabcde\nde\n\nabcde\nedcba\nabc\ne\nbcde\nedc\n",
          "output_type": "stream"
        }
      ]
    },
    {
      "cell_type": "markdown",
      "source": "### 3 Hemos construido un diccionario que se puede usar para encontrar el resultado si dos booleanos están conectados con el operador y Reescribe este diccionario para encontrar el resultado si dos booleanos están conectados con el operador o Python no tiene un operador XOR, busque en Internet lo que se supone que debe hacer el operador XOR y cree un diccionario que proporcione el resultado de una operación XOR",
      "metadata": {}
    },
    {
      "cell_type": "code",
      "source": "age = 40\nblood_type = 'A'\nmy_and = {(True, True): True, (True, False): False, (False, True): False, (False, False): False }\nprint(my_and[age < 70, blood_type == 'B'])",
      "metadata": {
        "trusted": true
      },
      "execution_count": 6,
      "outputs": [
        {
          "name": "stdout",
          "text": "False\n",
          "output_type": "stream"
        }
      ]
    },
    {
      "cell_type": "code",
      "source": "age = 40 \nblood_type =\"A\"\nmy_and = {(True,True):True, (True,False):True, (False,True):True, (False, False): False}\nprint(my_and[age<70,blood_type==\"B\"])",
      "metadata": {
        "trusted": true
      },
      "execution_count": 7,
      "outputs": [
        {
          "name": "stdout",
          "text": "True\n",
          "output_type": "stream"
        }
      ]
    },
    {
      "cell_type": "code",
      "source": "age = 40\nblood_type =\"A\"\nmy_and = {(True,True):False, (True,False):True, (False,True):True, (False, False): False}\nprint(my_and[age<70,blood_type==\"B\"])",
      "metadata": {
        "trusted": true
      },
      "execution_count": 8,
      "outputs": [
        {
          "name": "stdout",
          "text": "True\n",
          "output_type": "stream"
        }
      ]
    },
    {
      "cell_type": "markdown",
      "source": "### 4 En 'Las listas pueden contener listas y así formar tablas de múltiples dimensiones' se les mostro una secuencia ganadora en tres en raya. Como es muy importante para el análisis de datos y la visualización de datos que se sienta cómodo trabajando con tablas poli-dimensionales, le pedimos que reescriba la secuencia con un segundo jugador más inteligente (o un jugador que aprendió el juego de memoria) donde el juego termina en un empate.",
      "metadata": {}
    },
    {
      "cell_type": "code",
      "source": "tic_tac_toe_board = [[' ', ' ', ' '], [' ', ' ', ' '], [' ', ' ', ' ']]\nprint(tic_tac_toe_board[0]) \nprint(tic_tac_toe_board[1]) \nprint(tic_tac_toe_board[2])\nprint() \ntic_tac_toe_board[1][1] = 'X'\nprint(tic_tac_toe_board[0]) \nprint(tic_tac_toe_board[1]) \nprint(tic_tac_toe_board[2])\nprint() \ntic_tac_toe_board[1][2] = 'O'\nprint(tic_tac_toe_board[0]) \nprint(tic_tac_toe_board[1]) \nprint(tic_tac_toe_board[2])\nprint()\ntic_tac_toe_board[0][2] = 'X'\nprint(tic_tac_toe_board[0]) \nprint(tic_tac_toe_board[1]) \nprint(tic_tac_toe_board[2])\nprint()\ntic_tac_toe_board[2][0] = 'O'\nprint(tic_tac_toe_board[0]) \nprint(tic_tac_toe_board[1]) \nprint(tic_tac_toe_board[2])\nprint()\ntic_tac_toe_board[0][0] = 'X'\nprint(tic_tac_toe_board[0]) \nprint(tic_tac_toe_board[1]) \nprint(tic_tac_toe_board[2])\nprint()# And the next move X wins independent what player O plays",
      "metadata": {
        "trusted": true
      },
      "execution_count": 9,
      "outputs": [
        {
          "name": "stdout",
          "text": "[' ', ' ', ' ']\n[' ', ' ', ' ']\n[' ', ' ', ' ']\n\n[' ', ' ', ' ']\n[' ', 'X', ' ']\n[' ', ' ', ' ']\n\n[' ', ' ', ' ']\n[' ', 'X', 'O']\n[' ', ' ', ' ']\n\n[' ', ' ', 'X']\n[' ', 'X', 'O']\n[' ', ' ', ' ']\n\n[' ', ' ', 'X']\n[' ', 'X', 'O']\n['O', ' ', ' ']\n\n['X', ' ', 'X']\n[' ', 'X', 'O']\n['O', ' ', ' ']\n\n",
          "output_type": "stream"
        }
      ]
    },
    {
      "cell_type": "markdown",
      "source": "### 5 Ejecute el siguiente programa, vea si puede encontrar algo extraño y explique el resultado usando su conocimiento de recolección de basura",
      "metadata": {}
    },
    {
      "cell_type": "code",
      "source": "list_5 = [1, 2, 3]\nprint(f\"The value of the list refered to by list_5 is {list_5} and its address is {id(list_5)}\")\nlist_5 = [1 , 1, 3]\nprint(f\"The value of the list refered to by list_5 is {list_5} and its address is {id(list_5)}\")\nlist_5 = [1, 1, 4]\nprint(f\"The value of the list refered to by list_5 is {list_5} and its address is {id(list_5)}\")",
      "metadata": {
        "trusted": true
      },
      "execution_count": 10,
      "outputs": [
        {
          "name": "stdout",
          "text": "The value of the list refered to by list_5 is [1, 2, 3] and its address is 45394696\nThe value of the list refered to by list_5 is [1, 1, 3] and its address is 48963472\nThe value of the list refered to by list_5 is [1, 1, 4] and its address is 45394920\n",
          "output_type": "stream"
        }
      ]
    },
    {
      "cell_type": "markdown",
      "source": "### 6 Las cadenas son inmutables, pero ¿por qué funciona lo siguiente? ¿Claramente cambiamos el valor de la cadena llamada string_1? ¿Qué afirmaciones agregaría para aclarar lo que ha sucedido? usar id",
      "metadata": {}
    },
    {
      "cell_type": "code",
      "source": "string_1 = \"text 1\"\nprint(string_1)\nprint(f\"The text of the list refered to by string_1 is {string_1} and its address is {id(string_1)}\")\nstring_1 = \"text 2\"\nprint(string_1)\nprint(f\"The text of the list refered to by string_1 is {string_1} and its address is {id(string_1)}\")\n#",
      "metadata": {
        "trusted": true
      },
      "execution_count": 11,
      "outputs": [
        {
          "name": "stdout",
          "text": "text 1\nThe text of the list refered to by string_1 is text 1 and its address is 49037200\ntext 2\nThe text of the list refered to by string_1 is text 2 and its address is 49034616\n",
          "output_type": "stream"
        }
      ]
    },
    {
      "cell_type": "code",
      "source": "",
      "metadata": {},
      "execution_count": null,
      "outputs": []
    }
  ]
}