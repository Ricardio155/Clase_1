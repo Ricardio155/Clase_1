{
  "nbformat": 4,
  "nbformat_minor": 0,
  "metadata": {
    "colab": {
      "name": "Untitled0.ipynb",
      "provenance": [],
      "collapsed_sections": []
    },
    "kernelspec": {
      "name": "python3",
      "display_name": "Python 3"
    },
    "language_info": {
      "name": "python"
    }
  },
  "cells": [
    {
      "cell_type": "markdown",
      "source": [
        "PREGUNTAS"
      ],
      "metadata": {
        "id": "w96-EP5fV1YP"
      }
    },
    {
      "cell_type": "markdown",
      "source": [
        "1 Suponga que tiene una lista [1, 2, 3, 2, 1] y desea crear una nueva lista sin números dobles, después de resolver este problema, intente reescribirla como una sola línea\n",
        "Un one liner en programación es un programa existente de una sola línea. Si no logras escribir una sola línea, no te preocupes. el codigo one liner es a menudo difícile de leer y, como hemos aprendido esta semana: los lenguajes de programación están destinados a ser legibles para las personas. Así que no te preocupes si estás usando demasiado código para resolver un problema, debes preguntarte: ¿yo o alguien más entenderá esto dentro de 3 años?"
      ],
      "metadata": {
        "id": "3VQDNNj8V9Ag"
      }
    },
    {
      "cell_type": "code",
      "source": [
        "list_1 = [1, 2, 3,2,1]\n",
        "print(list_1)\n",
        "sorted(set(list_1))"
      ],
      "metadata": {
        "colab": {
          "base_uri": "https://localhost:8080/"
        },
        "id": "PpXMt4jxW5GJ",
        "outputId": "af507cb1-8084-4397-df25-0a0a227f2c28"
      },
      "execution_count": 1,
      "outputs": [
        {
          "output_type": "stream",
          "name": "stdout",
          "text": [
            "[1, 2, 3, 2, 1]\n"
          ]
        },
        {
          "output_type": "execute_result",
          "data": {
            "text/plain": [
              "[1, 2, 3]"
            ]
          },
          "metadata": {},
          "execution_count": 1
        }
      ]
    },
    {
      "cell_type": "markdown",
      "source": [
        "2 Slicing puede tener 3 parámetros, inicio, final y paso. Sin embargo, a menudo escribirá o leerá operaciones de corte con menos de 3 parámetros. En esta pregunta, debe volver a escribir todos los ejemplos en operaciones de corte con 3 parámetros. Después de haberlas reescrito, verifique si sus respuestas dan los mismos resultados"
      ],
      "metadata": {
        "id": "Nf6WslKsW6Ui"
      }
    },
    {
      "cell_type": "code",
      "source": [
        "string1=\"abcde\"\n",
        "print(string1[1:3])\n",
        "print(string1[-3:-2])\n"
      ],
      "metadata": {
        "colab": {
          "base_uri": "https://localhost:8080/"
        },
        "id": "GRNwBpgPXSEW",
        "outputId": "383567b0-9427-428a-9f2b-916d6ce06a66"
      },
      "execution_count": null,
      "outputs": [
        {
          "output_type": "stream",
          "name": "stdout",
          "text": [
            "bc\n",
            "c\n"
          ]
        }
      ]
    },
    {
      "cell_type": "code",
      "source": [
        "string1=\"abcde\"\n",
        "print(string1[:3])\n",
        "print(string1[3:])\n",
        "print(string1[:])"
      ],
      "metadata": {
        "colab": {
          "base_uri": "https://localhost:8080/"
        },
        "id": "xGkp4FkZ-IO8",
        "outputId": "89863544-408b-4e9b-f904-fdedcf129ea0"
      },
      "execution_count": null,
      "outputs": [
        {
          "output_type": "stream",
          "name": "stdout",
          "text": [
            "abc\n",
            "de\n",
            "abcde\n"
          ]
        }
      ]
    },
    {
      "cell_type": "code",
      "source": [
        "string1=\"abcde\"\n",
        "print(string1[-2:])\n",
        "print(string1[:-2])"
      ],
      "metadata": {
        "colab": {
          "base_uri": "https://localhost:8080/"
        },
        "id": "VfS7Zyct--O8",
        "outputId": "6c1ac462-bdff-4b60-e101-fcd70e85c8d3"
      },
      "execution_count": null,
      "outputs": [
        {
          "output_type": "stream",
          "name": "stdout",
          "text": [
            "de\n",
            "abc\n"
          ]
        }
      ]
    },
    {
      "cell_type": "code",
      "source": [
        "string1=\"abcde\"\n",
        "print(string1[::])\n",
        "print(string1[::-1])"
      ],
      "metadata": {
        "colab": {
          "base_uri": "https://localhost:8080/"
        },
        "id": "mVDDOAaeABsJ",
        "outputId": "630028ec-4588-4076-84e6-29bbb2e0d808"
      },
      "execution_count": null,
      "outputs": [
        {
          "output_type": "stream",
          "name": "stdout",
          "text": [
            "abcde\n",
            "edcba\n"
          ]
        }
      ]
    },
    {
      "cell_type": "code",
      "source": [
        "string1=\"abcde\"\n",
        "print(string1[:3:1])\n",
        "print(string1[:3:-1])"
      ],
      "metadata": {
        "colab": {
          "base_uri": "https://localhost:8080/"
        },
        "id": "adfsF9S0AWhP",
        "outputId": "e941a8ae-e43a-4da5-b7c0-1b83d33ed611"
      },
      "execution_count": null,
      "outputs": [
        {
          "output_type": "stream",
          "name": "stdout",
          "text": [
            "abc\n",
            "e\n"
          ]
        }
      ]
    },
    {
      "cell_type": "code",
      "source": [
        "string1=\"abcde\"\n",
        "print(string1[1::])\n",
        "print(string1[:1:-1])"
      ],
      "metadata": {
        "colab": {
          "base_uri": "https://localhost:8080/"
        },
        "id": "xppn6JHAAf-x",
        "outputId": "623bcbfd-450e-40f6-940b-9624e95eb247"
      },
      "execution_count": null,
      "outputs": [
        {
          "output_type": "stream",
          "name": "stdout",
          "text": [
            "bcde\n",
            "edc\n"
          ]
        }
      ]
    },
    {
      "cell_type": "markdown",
      "source": [
        "3 Hemos construido un diccionario que se puede usar para encontrar el resultado si dos booleanos están conectados con el operador y\n",
        "Reescribe este diccionario para encontrar el resultado si dos booleanos están conectados con el operador o\n",
        "Python no tiene un operador XOR, busque en Internet lo que se supone que debe hacer el operador XOR y cree un diccionario que proporcione el resultado de una operación XOR"
      ],
      "metadata": {
        "id": "TV7qCIbHAnpX"
      }
    },
    {
      "cell_type": "code",
      "source": [
        "age = 40\n",
        "blood_type = 'A'\n",
        "my_and = {(True, True): True, (True, False): False, (False, True): False, (False, False): False }\n",
        "print(my_and[age < 70, blood_type == 'B'])"
      ],
      "metadata": {
        "colab": {
          "base_uri": "https://localhost:8080/"
        },
        "id": "2Lh_n9N2AsM8",
        "outputId": "5787ef19-b110-42c2-916a-ed44b3aef5ff"
      },
      "execution_count": null,
      "outputs": [
        {
          "output_type": "stream",
          "name": "stdout",
          "text": [
            "False\n"
          ]
        }
      ]
    },
    {
      "cell_type": "code",
      "source": [
        "my_dictionary = {'blood type': 'A', 'Age': 30}\n",
        "my_and = {(True, True): True, (True, False): False, (False, True): False, (False, False): True }\n",
        "print(my_and[age < 70, blood_type == 'B'])\n",
        "\n"
      ],
      "metadata": {
        "colab": {
          "base_uri": "https://localhost:8080/"
        },
        "id": "W-7O9OVhBASo",
        "outputId": "a2c583e1-a8bf-4e88-abcc-8274a154b793"
      },
      "execution_count": null,
      "outputs": [
        {
          "output_type": "stream",
          "name": "stdout",
          "text": [
            "False\n"
          ]
        }
      ]
    },
    {
      "cell_type": "code",
      "source": [
        "from operator import xor\n",
        "\n",
        "age = 40\n",
        "blood_type = 'A'\n",
        "\n",
        "print(xor(bool(age < 70), bool(blood_type == 'B')))\n",
        "print(xor(bool(age), bool(blood_type)))"
      ],
      "metadata": {
        "colab": {
          "base_uri": "https://localhost:8080/"
        },
        "id": "Gbp6UTUreMNJ",
        "outputId": "b195859f-70df-455d-d833-41278e2f6c6a"
      },
      "execution_count": 2,
      "outputs": [
        {
          "output_type": "stream",
          "name": "stdout",
          "text": [
            "True\n",
            "False\n"
          ]
        }
      ]
    },
    {
      "cell_type": "markdown",
      "source": [
        "4 En 'Las listas pueden contener listas y así formar tablas de múltiples dimensiones' se les mostro una secuencia ganadora en tres en raya. Como es muy importante para el análisis de datos y la visualización de datos que se sienta cómodo trabajando con tablas poli-dimensionales, le pedimos que reescriba la secuencia con un segundo jugador más inteligente (o un jugador que aprendió el juego de memoria) donde el juego termina en un empate"
      ],
      "metadata": {
        "id": "QnPc0k08BB1m"
      }
    },
    {
      "cell_type": "code",
      "source": [
        "tic_tac_toe_board = [[' ', ' ', ' '], [' ', ' ', ' '], [' ', ' ', ' ']]\n",
        "tic_tac_toe_board[0][0] = 'X'\n",
        "print(tic_tac_toe_board[0]) \n",
        "print(tic_tac_toe_board[1]) \n",
        "print(tic_tac_toe_board[2])\n",
        "print() \n",
        "tic_tac_toe_board[0][1] = 'O'\n",
        "print(tic_tac_toe_board[0]) \n",
        "print(tic_tac_toe_board[1]) \n",
        "print(tic_tac_toe_board[2])\n",
        "print()\n",
        "tic_tac_toe_board[0][2] = 'X'\n",
        "print(tic_tac_toe_board[0]) \n",
        "print(tic_tac_toe_board[1]) \n",
        "print(tic_tac_toe_board[2])\n",
        "print()\n",
        "tic_tac_toe_board[1][0] = 'O'\n",
        "print(tic_tac_toe_board[0]) \n",
        "print(tic_tac_toe_board[1]) \n",
        "print(tic_tac_toe_board[2])\n",
        "print() \n",
        "tic_tac_toe_board[1][1] = 'X'\n",
        "print(tic_tac_toe_board[0]) \n",
        "print(tic_tac_toe_board[1]) \n",
        "print(tic_tac_toe_board[2])\n",
        "print()\n",
        "tic_tac_toe_board[1][2] = 'O'\n",
        "print(tic_tac_toe_board[0]) \n",
        "print(tic_tac_toe_board[1]) \n",
        "print(tic_tac_toe_board[2])\n",
        "print()\n",
        "tic_tac_toe_board[2][0] = 'X'\n",
        "print(tic_tac_toe_board[0]) \n",
        "print(tic_tac_toe_board[1]) \n",
        "print(tic_tac_toe_board[2])\n",
        "print() \n",
        "tic_tac_toe_board[2][1] = 'O'\n",
        "print(tic_tac_toe_board[0]) \n",
        "print(tic_tac_toe_board[1]) \n",
        "print(tic_tac_toe_board[2])\n",
        "print()\n",
        "tic_tac_toe_board[2][2] = 'X'\n",
        "print(tic_tac_toe_board[0]) \n",
        "print(tic_tac_toe_board[1]) \n",
        "print(tic_tac_toe_board[2])\n",
        "print()\n"
      ],
      "metadata": {
        "colab": {
          "base_uri": "https://localhost:8080/"
        },
        "id": "nneoVKeVczk9",
        "outputId": "ca2b3198-a81f-4b46-ceb6-7fd9e6abb458"
      },
      "execution_count": null,
      "outputs": [
        {
          "output_type": "stream",
          "name": "stdout",
          "text": [
            "['X', ' ', ' ']\n",
            "[' ', ' ', ' ']\n",
            "[' ', ' ', ' ']\n",
            "\n",
            "['X', 'O', ' ']\n",
            "[' ', ' ', ' ']\n",
            "[' ', ' ', ' ']\n",
            "\n",
            "['X', 'O', 'X']\n",
            "[' ', ' ', ' ']\n",
            "[' ', ' ', ' ']\n",
            "\n",
            "['X', 'O', 'X']\n",
            "['O', ' ', ' ']\n",
            "[' ', ' ', ' ']\n",
            "\n",
            "['X', 'O', 'X']\n",
            "['O', 'X', ' ']\n",
            "[' ', ' ', ' ']\n",
            "\n",
            "['X', 'O', 'X']\n",
            "['O', 'X', 'O']\n",
            "[' ', ' ', ' ']\n",
            "\n",
            "['X', 'O', 'X']\n",
            "['O', 'X', 'O']\n",
            "['X', ' ', ' ']\n",
            "\n",
            "['X', 'O', 'X']\n",
            "['O', 'X', 'O']\n",
            "['X', 'O', ' ']\n",
            "\n",
            "['X', 'O', 'X']\n",
            "['O', 'X', 'O']\n",
            "['X', 'O', 'X']\n",
            "\n"
          ]
        }
      ]
    },
    {
      "cell_type": "markdown",
      "source": [
        "5 Ejecute el siguiente programa, vea si puede encontrar algo extraño y explique el resultado usando su conocimiento de recolección de basura:\n",
        "No existe valores asigandos en la programacion asi que se crea de muchos objetos de datos de gran tamaño podría sobrecargar la memoria de la computadora."
      ],
      "metadata": {
        "id": "8W7KM-SajUTy"
      }
    },
    {
      "cell_type": "code",
      "source": [
        "list_5 = [1, 2, 3]\n",
        "print(f\"The value of the list refered to by list_5 is {list_5} and its address is {id(list_5)}\")\n",
        "list_5 = [1 , 1, 3]\n",
        "print(f\"The value of the list refered to by list_5 is {list_5} and its address is {id(list_5)}\")\n",
        "list_5 = [1, 1, 4]\n",
        "print(f\"The value of the list refered to by list_5 is {list_5} and its address is {id(list_5)}\")"
      ],
      "metadata": {
        "colab": {
          "base_uri": "https://localhost:8080/"
        },
        "id": "7bOWiiwejcil",
        "outputId": "085a1a7e-e6ba-4d61-a8a9-fa2dbcb35ff9"
      },
      "execution_count": null,
      "outputs": [
        {
          "output_type": "stream",
          "name": "stdout",
          "text": [
            "The value of the list refered to by list_5 is [1, 2, 3] and its address is 139829156992256\n",
            "The value of the list refered to by list_5 is [1, 1, 3] and its address is 139829156993536\n",
            "The value of the list refered to by list_5 is [1, 1, 4] and its address is 139829156992256\n"
          ]
        }
      ]
    },
    {
      "cell_type": "markdown",
      "source": [
        "6 Las cadenas son inmutables, pero ¿por qué funciona lo siguiente? ¿Claramente cambiamos el valor de la cadena llamada string_1? ¿Qué afirmaciones agregaría para aclarar lo que ha sucedido? usar id"
      ],
      "metadata": {
        "id": "zRuuPgSSltFj"
      }
    },
    {
      "cell_type": "code",
      "source": [
        "string_1 = \"text 1\"\n",
        "print(string_1) \n",
        "string_1 = \"text 2\"\n",
        "print(string_1)"
      ],
      "metadata": {
        "colab": {
          "base_uri": "https://localhost:8080/"
        },
        "id": "SLRU-a7elxhM",
        "outputId": "0cde028b-9fa3-4744-bc95-3c03630fb576"
      },
      "execution_count": null,
      "outputs": [
        {
          "output_type": "stream",
          "name": "stdout",
          "text": [
            "text 1\n",
            "text 2\n"
          ]
        }
      ]
    },
    {
      "cell_type": "code",
      "source": [
        "string_1 = \"text 1\"\n",
        "print(string_1)\n",
        "print(id(string_1))\n",
        "string_1 = \"text 2\"\n",
        "print(string_1)\n",
        "print(id(string_1))\n"
      ],
      "metadata": {
        "colab": {
          "base_uri": "https://localhost:8080/"
        },
        "id": "wHkQdbk-eil5",
        "outputId": "10f47157-d965-437a-c3f4-14a929fc5c1a"
      },
      "execution_count": 3,
      "outputs": [
        {
          "output_type": "stream",
          "name": "stdout",
          "text": [
            "text 1\n",
            "140247602219824\n",
            "text 2\n",
            "140247602167664\n"
          ]
        }
      ]
    }
  ]
}