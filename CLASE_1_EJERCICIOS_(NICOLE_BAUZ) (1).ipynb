{
  "nbformat": 4,
  "nbformat_minor": 0,
  "metadata": {
    "colab": {
      "name": "CLASE 1 /  EJERCICIOS (NICOLE BAUZ).ipynb",
      "provenance": []
    },
    "kernelspec": {
      "name": "python3",
      "display_name": "Python 3"
    },
    "language_info": {
      "name": "python"
    }
  },
  "cells": [
    {
      "cell_type": "markdown",
      "source": [
        "***UNIVERSIDAD CENTRAL DEL ECUADOR***\n",
        "\n",
        "***FACULTAD DE CIENCIAS ECONÓMICAS***\n",
        "\n",
        "\n",
        "---\n",
        "\n",
        "\n",
        "\n",
        "***Curso de Python (Investiga y aprende)***\n",
        "\n",
        "\n",
        "---\n",
        "\n",
        "**Estudiante:**\n",
        "\n",
        "*Bauz Mamallacta Nicole Jenny*\n",
        "\n",
        "\n",
        "---\n",
        "\n",
        "\n",
        "\n",
        "**Clase 1 / Ejercicios**\n",
        "\n",
        "\n",
        "---\n"
      ],
      "metadata": {
        "id": "ApI30qMd_K3H"
      }
    },
    {
      "cell_type": "markdown",
      "source": [
        "**1.   Suponga que tiene una lista [1, 2, 3, 2, 1] y desea crear una nueva lista sin números dobles, después de resolver este problema, intente reescribirla como una sola línea.**\n",
        "\n",
        "*Un one liner en programación es un programa existente de una sola línea. Si no logras escribir una sola línea, no te preocupes. el codigo one liner es a menudo difícile de leer y, como hemos aprendido esta semana: los lenguajes de programación están destinados a ser legibles para las personas. Así que no te preocupes si estás usando demasiado código para resolver un problema, debes preguntarte: ¿yo o alguien más entenderá esto dentro de 3 años?*"
      ],
      "metadata": {
        "id": "qbkjzSm8Becc"
      }
    },
    {
      "cell_type": "code",
      "source": [
        "# Primer Paso: Creación de la lista\n",
        "list=[1,2,3,2,1]\n",
        "print(list)"
      ],
      "metadata": {
        "colab": {
          "base_uri": "https://localhost:8080/"
        },
        "id": "sgSbbmYTCnmG",
        "outputId": "79eb2a06-52ff-4304-f1f0-138912d783a9"
      },
      "execution_count": 4,
      "outputs": [
        {
          "output_type": "stream",
          "name": "stdout",
          "text": [
            "[1, 2, 3, 2, 1]\n"
          ]
        }
      ]
    },
    {
      "cell_type": "code",
      "source": [
        "# Segundo Paso: Solución del problema\n",
        "rep=set(list) # Set: Elimina los valores repetidos\n",
        "ord=sorted(rep) # Sorted: Ordena la lista de forma ascendente\n",
        "print(ord) # Print: Muestra la solución del problema (Valores únicos)"
      ],
      "metadata": {
        "colab": {
          "base_uri": "https://localhost:8080/"
        },
        "id": "hFaV6qf8C02b",
        "outputId": "28ff297c-3452-4381-8335-d4dadd65a3d6"
      },
      "execution_count": 5,
      "outputs": [
        {
          "output_type": "stream",
          "name": "stdout",
          "text": [
            "[1, 2, 3]\n"
          ]
        }
      ]
    },
    {
      "cell_type": "markdown",
      "source": [
        "**2.   Slicing puede tener 3 parámetros, inicio, final y paso. Sin embargo, a menudo escribirá o leerá operaciones de corte con menos de 3 parámetros. En esta pregunta, debe volver a escribir todos los ejemplos en operaciones de corte con 3 parámetros. Después de haberlas reescrito, verifique si sus respuestas dan los mismos resultados**\n",
        "\n"
      ],
      "metadata": {
        "id": "SvQBsCUcFDpA"
      }
    },
    {
      "cell_type": "code",
      "execution_count": 8,
      "metadata": {
        "id": "aSpI0hrzkQl7",
        "colab": {
          "base_uri": "https://localhost:8080/"
        },
        "outputId": "b75e7c8d-e491-4ff0-bae9-d240bd78e407"
      },
      "outputs": [
        {
          "output_type": "stream",
          "name": "stdout",
          "text": [
            "bc\n",
            "c\n",
            "abc\n",
            "de\n",
            "abcde\n",
            "de\n",
            "abc\n",
            "abcde\n",
            "edcba\n",
            "abc\n",
            "e\n",
            "bcde\n",
            "edc\n"
          ]
        }
      ],
      "source": [
        "string_1 = 'abcde'\n",
        "print(string_1[1:3])\n",
        "print(string_1[-3:-2])\n",
        "\n",
        "print(string_1[:3])\n",
        "print(string_1[3:])\n",
        "print(string_1[:])\n",
        "\n",
        "print(string_1[-2:])\n",
        "print(string_1[:-2])\n",
        "\n",
        "print(string_1[::])\n",
        "print(string_1[::-1])\n",
        "\n",
        "print(string_1[:3:1])\n",
        "print(string_1[:3:-1])\n",
        "\n",
        "print(string_1[1::])\n",
        "print(string_1[:1:-1])"
      ]
    },
    {
      "cell_type": "code",
      "source": [
        "# Operación 1\n",
        "# Usando Slicing básico: inicio y fin\n",
        "string_1 = 'NICOLE'\n",
        "print(string_1[1:3])\n",
        "print(string_1[-3:-2])\n",
        "\n",
        "print(string_1[:3])\n",
        "print(string_1[3:])\n",
        "print(string_1[:])\n",
        "\n",
        "print(string_1[-2:])\n",
        "print(string_1[:-2])\n",
        "\n",
        "print(string_1[::])\n",
        "print(string_1[::-1])\n",
        "\n",
        "print(string_1[:3:1])\n",
        "print(string_1[:3:-1])\n",
        "\n",
        "print(string_1[1::])\n",
        "print(string_1[:1:-1])"
      ],
      "metadata": {
        "colab": {
          "base_uri": "https://localhost:8080/"
        },
        "id": "FD3dw1b0KgVL",
        "outputId": "d002a751-990e-4af6-b2c5-05764b76c560"
      },
      "execution_count": 7,
      "outputs": [
        {
          "output_type": "stream",
          "name": "stdout",
          "text": [
            "IC\n",
            "O\n",
            "NIC\n",
            "OLE\n",
            "NICOLE\n",
            "LE\n",
            "NICO\n",
            "NICOLE\n",
            "ELOCIN\n",
            "NIC\n",
            "EL\n",
            "ICOLE\n",
            "ELOC\n"
          ]
        }
      ]
    },
    {
      "cell_type": "code",
      "source": [
        "# Operación 2\n",
        "# Usando Slicing básico: inicio, fin y paso\n",
        "string_1 = 'NICOLE'\n",
        "print(string_1[1:3:])\n",
        "print(string_1[-3:-2:])\n",
        "\n",
        "print(string_1[:3:])\n",
        "print(string_1[3::])\n",
        "print(string_1[::])\n",
        "\n",
        "print(string_1[-2::])\n",
        "print(string_1[:-2:])\n",
        "\n",
        "print(string_1[::])\n",
        "print(string_1[::-1])\n",
        "\n",
        "print(string_1[:3:])\n",
        "print(string_1[:3:-1])\n",
        "\n",
        "print(string_1[1::])\n",
        "print(string_1[:1:-1])"
      ],
      "metadata": {
        "colab": {
          "base_uri": "https://localhost:8080/"
        },
        "id": "YGGmnc-BLVFQ",
        "outputId": "b6e63eb7-aa55-49f2-a8ab-8ab82f7483e8"
      },
      "execution_count": 10,
      "outputs": [
        {
          "output_type": "stream",
          "name": "stdout",
          "text": [
            "IC\n",
            "O\n",
            "NIC\n",
            "OLE\n",
            "NICOLE\n",
            "LE\n",
            "NICO\n",
            "NICOLE\n",
            "ELOCIN\n",
            "NIC\n",
            "EL\n",
            "ICOLE\n",
            "ELOC\n"
          ]
        }
      ]
    },
    {
      "cell_type": "markdown",
      "source": [
        "**Respuesta:** *Efectivamente, las respuestas son las mismas utilizando las diferentes operaciones.*"
      ],
      "metadata": {
        "id": "oiX6jB_hPWID"
      }
    },
    {
      "cell_type": "markdown",
      "source": [
        "***3.   Hemos construido un diccionario que se puede usar para encontrar el resultado si dos booleanos están conectados con el operador y\n",
        "Reescribe este diccionario para encontrar el resultado si dos booleanos están conectados con el operador.***\n",
        "\n",
        "Python no tiene un operador XOR, busque en Internet lo que se supone que debe hacer el operador XOR y cree un diccionario que proporcione el resultado de una operación XOR\n"
      ],
      "metadata": {
        "id": "rtvW_XivRji1"
      }
    },
    {
      "cell_type": "code",
      "execution_count": 12,
      "metadata": {
        "id": "vNTwz2SYkQl7",
        "colab": {
          "base_uri": "https://localhost:8080/"
        },
        "outputId": "ae157348-d3b0-4881-c747-149f77e1ac65"
      },
      "outputs": [
        {
          "output_type": "stream",
          "name": "stdout",
          "text": [
            "False\n"
          ]
        }
      ],
      "source": [
        "# Primer Operador\n",
        "age = 40\n",
        "blood_type = 'A'\n",
        "my_and = {(True, True): True, (True, False): False, (False, True): False, (False, False): False }\n",
        "print(my_and[age < 70, blood_type == 'B'])"
      ]
    },
    {
      "cell_type": "code",
      "source": [
        "# Segundo Operador\n",
        "age = 40\n",
        "blood_type = 'A'\n",
        "my_and = {(True, True): True, (True, False): True, (False, True): True, (False, False): False }\n",
        "print(my_and[age < 70,blood_type == 'B'])"
      ],
      "metadata": {
        "colab": {
          "base_uri": "https://localhost:8080/"
        },
        "id": "y2R7Hvn8S_AM",
        "outputId": "a896cbf8-2642-4dcf-e1c9-48e857810746"
      },
      "execution_count": 13,
      "outputs": [
        {
          "output_type": "stream",
          "name": "stdout",
          "text": [
            "True\n"
          ]
        }
      ]
    },
    {
      "cell_type": "markdown",
      "source": [
        "**Respuesta:** *En el primer operador utilizamos AND y en el segundo utilizamos el OR, por esa razón el resultado de la ejecución de cada operador es diferente (Contraria a la opuesta).*"
      ],
      "metadata": {
        "id": "fLVHevyOTLGt"
      }
    },
    {
      "cell_type": "markdown",
      "source": [
        "***4.   En 'Las listas pueden contener listas y así formar tablas de múltiples dimensiones' se les mostro una secuencia ganadora en tres en raya. Como es muy importante para el análisis de datos y la visualización de datos que se sienta cómodo trabajando con tablas poli-dimensionales, le pedimos que reescriba la secuencia con un segundo jugador más inteligente (o un jugador que aprendió el juego de memoria) donde el juego termina en un empate.***\n"
      ],
      "metadata": {
        "id": "4gpox-gJU1Yr"
      }
    },
    {
      "cell_type": "code",
      "execution_count": null,
      "metadata": {
        "id": "jUXPGxnOkQl7"
      },
      "outputs": [],
      "source": [
        "tic_tac_toe_board = [[' ', ' ', ' '], [' ', ' ', ' '], [' ', ' ', ' ']]\n",
        "print(tic_tac_toe_board[0]) \n",
        "print(tic_tac_toe_board[1]) \n",
        "print(tic_tac_toe_board[2])\n",
        "print() \n",
        "tic_tac_toe_board[1][1] = 'X'\n",
        "print(tic_tac_toe_board[0]) \n",
        "print(tic_tac_toe_board[1]) \n",
        "print(tic_tac_toe_board[2])\n",
        "print() \n",
        "tic_tac_toe_board[1][2] = 'O'\n",
        "print(tic_tac_toe_board[0]) \n",
        "print(tic_tac_toe_board[1]) \n",
        "print(tic_tac_toe_board[2])\n",
        "print()\n",
        "tic_tac_toe_board[0][2] = 'X'\n",
        "print(tic_tac_toe_board[0]) \n",
        "print(tic_tac_toe_board[1]) \n",
        "print(tic_tac_toe_board[2])\n",
        "print()\n",
        "tic_tac_toe_board[2][0] = 'O'\n",
        "print(tic_tac_toe_board[0]) \n",
        "print(tic_tac_toe_board[1]) \n",
        "print(tic_tac_toe_board[2])\n",
        "print()\n",
        "tic_tac_toe_board[0][0] = 'X'\n",
        "print(tic_tac_toe_board[0]) \n",
        "print(tic_tac_toe_board[1]) \n",
        "print(tic_tac_toe_board[2])\n",
        "print()# And the next move X wins independent what player O plays"
      ]
    },
    {
      "cell_type": "code",
      "source": [
        "# Ejercicio: Los jugadores queden empates\n",
        "tic_tac_toe_board = [[' ', ' ', ' '], [' ', ' ', ' '], [' ', ' ', ' ']]\n",
        "# Solución:\n",
        "# Inicio del Juego\n",
        "print(tic_tac_toe_board[0]) \n",
        "print(tic_tac_toe_board[1]) \n",
        "print(tic_tac_toe_board[2])\n",
        "print() \n",
        "\n",
        "# Primer movimiento\n",
        "\n",
        "tic_tac_toe_board[1][1] = 'X'\n",
        "print(tic_tac_toe_board[0]) \n",
        "print(tic_tac_toe_board[1]) \n",
        "print(tic_tac_toe_board[2])\n",
        "print() \n",
        "\n",
        "# Segundo movimiento.\n",
        "\n",
        "tic_tac_toe_board[2][2] = 'O'\n",
        "print(tic_tac_toe_board[0]) \n",
        "print(tic_tac_toe_board[1]) \n",
        "print(tic_tac_toe_board[2])\n",
        "print()\n",
        "\n",
        "# Tercer movimiento.\n",
        "\n",
        "tic_tac_toe_board[0][0] = 'X'\n",
        "print(tic_tac_toe_board[0]) \n",
        "print(tic_tac_toe_board[1]) \n",
        "print(tic_tac_toe_board[2])\n",
        "print()\n",
        "\n",
        "# Cuarto movimiento.\n",
        "\n",
        "tic_tac_toe_board[1][0] = 'O'\n",
        "print(tic_tac_toe_board[0]) \n",
        "print(tic_tac_toe_board[1]) \n",
        "print(tic_tac_toe_board[2])\n",
        "print()\n",
        "\n",
        "# Quinto movimiento.\n",
        "\n",
        "tic_tac_toe_board[2][0] = 'X'\n",
        "print(tic_tac_toe_board[0]) \n",
        "print(tic_tac_toe_board[1]) \n",
        "print(tic_tac_toe_board[2])\n",
        "print()\n",
        "\n",
        "# Sexto movimiento.\n",
        "\n",
        "tic_tac_toe_board[2][1] = 'O'\n",
        "print(tic_tac_toe_board[0]) \n",
        "print(tic_tac_toe_board[1]) \n",
        "print(tic_tac_toe_board[2])\n",
        "print()\n",
        "\n",
        "# Septimo movimiento.\n",
        "\n",
        "tic_tac_toe_board[1][2] = 'X'\n",
        "print(tic_tac_toe_board[0]) \n",
        "print(tic_tac_toe_board[1]) \n",
        "print(tic_tac_toe_board[2])\n",
        "print()\n",
        "\n",
        "# Octavo movimiento.\n",
        "\n",
        "tic_tac_toe_board[0][2] = 'O'\n",
        "print(tic_tac_toe_board[0]) \n",
        "print(tic_tac_toe_board[1]) \n",
        "print(tic_tac_toe_board[2])\n",
        "print()\n",
        "\n",
        "# Noveno movimiento.\n",
        "\n",
        "tic_tac_toe_board[0][1] = 'X'\n",
        "print(tic_tac_toe_board[0]) \n",
        "print(tic_tac_toe_board[1]) \n",
        "print(tic_tac_toe_board[2])\n",
        "print()"
      ],
      "metadata": {
        "id": "OXpN2SOKVg84"
      },
      "execution_count": null,
      "outputs": []
    },
    {
      "cell_type": "markdown",
      "metadata": {
        "id": "Qp9tvzrPkQl7"
      },
      "source": [
        "***5. Ejecute el siguiente programa, vea si puede encontrar algo extraño y explique el resultado usando su conocimiento de recolección de basura.***"
      ]
    },
    {
      "cell_type": "code",
      "execution_count": 14,
      "metadata": {
        "id": "jBjkKwcokQl7",
        "colab": {
          "base_uri": "https://localhost:8080/"
        },
        "outputId": "c384ce56-af43-4068-82e9-8b8704a22152"
      },
      "outputs": [
        {
          "output_type": "stream",
          "name": "stdout",
          "text": [
            "The value of the list refered to by list_5 is [1, 2, 3] and its address is 140040404633872\n",
            "The value of the list refered to by list_5 is [1, 1, 3] and its address is 140040465799200\n",
            "The value of the list refered to by list_5 is [1, 1, 4] and its address is 140040404633872\n"
          ]
        }
      ],
      "source": [
        "list_5 = [1, 2, 3]\n",
        "print(f\"The value of the list refered to by list_5 is {list_5} and its address is {id(list_5)}\")\n",
        "list_5 = [1 , 1, 3]\n",
        "print(f\"The value of the list refered to by list_5 is {list_5} and its address is {id(list_5)}\")\n",
        "list_5 = [1, 1, 4]\n",
        "print(f\"The value of the list refered to by list_5 is {list_5} and its address is {id(list_5)}\")"
      ]
    },
    {
      "cell_type": "markdown",
      "source": [
        "**Respuesta:** *Se puede observar que la lista_5 = [1, 2, 3] tiene como id (140040404633872) y la list_5 = [1, 1, 4] tambien tiene el mismo id (140040404633872). Esto se resume en que los dos id, tanto de la lista_5 = [1, 2, 3], como de la list_5 = [1, 1, 4] son iguales.*\n"
      ],
      "metadata": {
        "id": "oiFh8GCsWOR3"
      }
    },
    {
      "cell_type": "markdown",
      "metadata": {
        "id": "PA5SR0ShkQl7"
      },
      "source": [
        "***6. Las cadenas son inmutables, pero ¿por qué funciona lo siguiente? ¿Claramente cambiamos el valor de la cadena llamada string_1? ¿Qué afirmaciones agregaría para aclarar lo que ha sucedido? usar id.***"
      ]
    },
    {
      "cell_type": "code",
      "execution_count": 15,
      "metadata": {
        "id": "BDbmTGkLkQmA",
        "colab": {
          "base_uri": "https://localhost:8080/"
        },
        "outputId": "79e926f4-5cea-48a6-feba-2c398b0599cc"
      },
      "outputs": [
        {
          "output_type": "stream",
          "name": "stdout",
          "text": [
            "text 1\n",
            "text 2\n"
          ]
        }
      ],
      "source": [
        "string_1 = \"text 1\"\n",
        "print(string_1)\n",
        "string_1 = \"text 2\"\n",
        "print(string_1)"
      ]
    },
    {
      "cell_type": "code",
      "source": [
        "string_1 = \"text 1\"\n",
        "print(id(string_1))\n",
        "string_1 = \"text 2\"\n",
        "print(id(string_1))"
      ],
      "metadata": {
        "colab": {
          "base_uri": "https://localhost:8080/"
        },
        "id": "i8YIFHQYYL4g",
        "outputId": "9301b254-4c45-4461-a4ff-fbecc3acc5fb"
      },
      "execution_count": 19,
      "outputs": [
        {
          "output_type": "stream",
          "name": "stdout",
          "text": [
            "140040403961200\n",
            "140040404130032\n"
          ]
        }
      ]
    },
    {
      "cell_type": "markdown",
      "source": [
        "**Respuesta:** *Esto sucede debido al intercambio de variables. Python no puede leer dos veces string_1, se estra sobreescibiendo la variable objeto. La cadena es inmutable*\n"
      ],
      "metadata": {
        "id": "dyUPqv2oYrCg"
      }
    }
  ]
}